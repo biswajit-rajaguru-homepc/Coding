{
 "cells": [
  {
   "cell_type": "code",
   "execution_count": 1,
   "id": "22725387-6294-4d2d-b478-3e0e8f3f2067",
   "metadata": {},
   "outputs": [],
   "source": [
    "%reset -sf\n",
    "import numpy as np\n",
    "import pandas as pd\n",
    "from pandas_datareader import data as web\n",
    "import matplotlib.pyplot as plt\n",
    "import matplotlib.dates as mdates\n",
    "%matplotlib inline\n",
    "import warnings\n",
    "warnings.simplefilter(\"ignore\")\n",
    "\n",
    "PATH = \"/home/biswajitrajaguru/coding/python/learning_numpy_pandas_etc/data_dir/\"\n",
    "\n",
    "def get_df_from_csv(file, index_col):\n",
    "    try:\n",
    "        df = pd.read_csv(file, index_col = 'Date', parse_dates = True)\n",
    "    except FileNotFoundError:\n",
    "        print(\"File Not Found\")\n",
    "    else:\n",
    "        return df\n",
    "\n",
    "def get_df_from_excel(file):\n",
    "    try:\n",
    "        df = pd.read_excel(file)\n",
    "    except FileNotFoundError:\n",
    "        print(f'file {file} not found')\n",
    "    else:\n",
    "        return df\n",
    "\n",
    "\n"
   ]
  },
  {
   "cell_type": "code",
   "execution_count": 2,
   "id": "d96eddea-089d-4524-8b22-47db030c3440",
   "metadata": {
    "tags": []
   },
   "outputs": [],
   "source": [
    "# mat6 = np.random.randint(20,30,(5,5))\n",
    "# mat6 > 25\n",
    "# mat6[mat6 > 25]\n",
    "# mat1 = np.random.randint(0,100,50)\n",
    "# print(\"Mean : \", mat1.mean())\n",
    "# print(\"Std Dev : \", mat1.std())\n",
    "# print(\"Variance : \", mat1.var())\n",
    "# print(\"Min : \", mat1.min())\n",
    "# print(\"Max : \", mat1.max())\n",
    "# file = PATH + \"MSFT\" + \".csv\"\n",
    "# index_col = 'Date'\n",
    "# # msft_df = get_df_from_csv(file, index_col)\n",
    "# file = PATH + 'stock_sectors.xlsx'\n",
    "# stock_data = get_df_from_excel(file)\n",
    "# stock_data\n",
    "# data = pd.read_html('https://en.wikipedia.org/wiki/List_of_current_Indian_chief_ministers',match='Manohar')[0]\n",
    "# data.columns = [x.replace(' ', '_') for x in data.columns]\n",
    "# data.columns = data.columns.str.replace(r'(\\[.*\\]|\\(.*\\)|\\..?)','')"
   ]
  }
 ],
 "metadata": {
  "kernelspec": {
   "display_name": "env1",
   "language": "python",
   "name": "env1"
  },
  "language_info": {
   "codemirror_mode": {
    "name": "ipython",
    "version": 3
   },
   "file_extension": ".py",
   "mimetype": "text/x-python",
   "name": "python",
   "nbconvert_exporter": "python",
   "pygments_lexer": "ipython3",
   "version": "3.10.7"
  }
 },
 "nbformat": 4,
 "nbformat_minor": 5
}
