{
 "cells": [
  {
   "cell_type": "code",
   "execution_count": 9,
   "id": "22725387-6294-4d2d-b478-3e0e8f3f2067",
   "metadata": {},
   "outputs": [],
   "source": [
    "%reset -sf\n",
    "import numpy as np\n",
    "import pandas as pd\n",
    "from pandas_datareader import data as web\n",
    "import matplotlib.pyplot as plt\n",
    "import matplotlib.dates as mdates\n",
    "%matplotlib inline\n",
    "import warnings\n",
    "warnings.simplefilter(\"ignore\")\n",
    "\n",
    "PATH = \"/home/biswajitrajaguru/coding/python/learning_numpy_pandas_etc/data_dir/\"\n",
    "\n",
    "def get_df_from_csv(file, index_col):\n",
    "    try:\n",
    "        df = pd.read_csv(file, index_col = 'Date', parse_dates = True)\n",
    "    except FileNotFoundError:\n",
    "        print(\"File Not Found\")\n",
    "    else:\n",
    "        return df\n",
    "\n",
    "def get_df_from_excel(file):\n",
    "    try:\n",
    "        df = pd.read_excel(file)\n",
    "    except FileNotFoundError:\n",
    "        print(f'file {file} not found')\n",
    "    else:\n",
    "        return df\n",
    "\n",
    "\n"
   ]
  },
  {
   "cell_type": "code",
   "execution_count": 10,
   "id": "3ea3b827-ee24-4e80-a9f5-3bf163dac99a",
   "metadata": {},
   "outputs": [],
   "source": [
    "def get_data_from_html(url,key):\n",
    "    try:\n",
    "        data = pd.read_html(url, match = key)\n",
    "    except:\n",
    "        print(f'Couldnt read url: {url}')\n",
    "    else:\n",
    "        return data"
   ]
  },
  {
   "cell_type": "code",
   "execution_count": 3,
   "id": "d96eddea-089d-4524-8b22-47db030c3440",
   "metadata": {
    "tags": []
   },
   "outputs": [],
   "source": [
    "# mat6 = np.random.randint(20,30,(5,5))\n",
    "# mat6 > 25\n",
    "# mat6[mat6 > 25]\n",
    "# mat1 = np.random.randint(0,100,50)\n",
    "# print(\"Mean : \", mat1.mean())\n",
    "# print(\"Std Dev : \", mat1.std())\n",
    "# print(\"Variance : \", mat1.var())\n",
    "# print(\"Min : \", mat1.min())\n",
    "# print(\"Max : \", mat1.max())\n",
    "# file = PATH + \"MSFT\" + \".csv\"\n",
    "# index_col = 'Date'\n",
    "# # msft_df = get_df_from_csv(file, index_col)\n",
    "# file = PATH + 'stock_sectors.xlsx'\n",
    "# stock_data = get_df_from_excel(file)\n",
    "# stock_data\n",
    "#data = pd.read_html('https://en.wikipedia.org/wiki/List_of_current_Indian_chief_ministers',match='Manohar')[0]\n",
    "# data.columns = [x.replace(' ', '_') for x in data.columns]\n",
    "# data.columns = data.columns.str.replace(r'(\\[.*\\]|\\(.*\\)|\\..?)','')"
   ]
  },
  {
   "cell_type": "code",
   "execution_count": 4,
   "id": "851990f6-69a6-4006-aa22-605420d92a24",
   "metadata": {},
   "outputs": [],
   "source": [
    "#data = get_data_from_html('https://en.wikipedia.org/wiki/List_of_current_Indian_chief_ministers', 'Pema')[0]"
   ]
  },
  {
   "cell_type": "code",
   "execution_count": 6,
   "id": "1f875487-d31b-49cc-98ab-abb3e87b780b",
   "metadata": {},
   "outputs": [],
   "source": [
    "# data.columns = [x.replace(' ', '_') for x in data.columns]"
   ]
  },
  {
   "cell_type": "code",
   "execution_count": 7,
   "id": "fcd4eb31-e56d-47bc-9473-eecb289a4789",
   "metadata": {},
   "outputs": [],
   "source": [
    "# data.columns = data.columns.str.replace(r'(\\(.*\\)|\\[.*\\]|\\.{1}.*)','')"
   ]
  },
  {
   "cell_type": "code",
   "execution_count": 10,
   "id": "32fbafe1-0fd9-4c10-bec8-adb7425a9caa",
   "metadata": {},
   "outputs": [],
   "source": [
    "# data = data.rename(columns = {'S T A T E':'STATE','Tenure begining':'Took_Office','name':'Name' })"
   ]
  },
  {
   "cell_type": "code",
   "execution_count": 1,
   "id": "b2b2fd57-5430-4f26-9be3-5f425cf81fff",
   "metadata": {},
   "outputs": [],
   "source": [
    "# data.set_index('STATE', inplace=True)"
   ]
  },
  {
   "cell_type": "code",
   "execution_count": 2,
   "id": "9d074e82-26b4-4192-93ad-d77f3bd2a362",
   "metadata": {},
   "outputs": [],
   "source": [
    "# data.columns = data.columns.remove('Portrait')\n",
    "# data.drop(columns = 'Portrait', inplace=True)\n",
    "# data\n",
    "#data.drop(columns=['Ref','Ministry','Alliance'],inplace=True)\n"
   ]
  },
  {
   "cell_type": "code",
   "execution_count": 3,
   "id": "1c9c4b11-8e37-4c8c-9f83-00a3d42e7bb7",
   "metadata": {},
   "outputs": [],
   "source": [
    "# data.columns = data.columns.droplevel()"
   ]
  },
  {
   "cell_type": "code",
   "execution_count": 53,
   "id": "835295d9-c8c7-479d-b348-c79498b7d025",
   "metadata": {},
   "outputs": [],
   "source": [
    "# data = data[data['UN Region'] == 'Africa' ]"
   ]
  },
  {
   "cell_type": "code",
   "execution_count": 4,
   "id": "c49443df-a7bb-4d70-a265-e269588cc77b",
   "metadata": {},
   "outputs": [],
   "source": [
    "# data.Country = data.Country.str.replace(r'\\*','')"
   ]
  },
  {
   "cell_type": "code",
   "execution_count": 5,
   "id": "22e65ae8-8600-4302-bc52-1f0c6d337cf3",
   "metadata": {},
   "outputs": [],
   "source": [
    "# dict1 = { 'Store':[1,2,1,2], 'Flavour':['van','van','choc','choc'], 'sales':[10,13,21,19], 'prop1':[1,2,3,4]}\n",
    "# sales = pd.DataFrame(dict1)\n"
   ]
  },
  {
   "cell_type": "code",
   "execution_count": 6,
   "id": "a71d7835-3786-4d24-9792-9ccfc9eb2e70",
   "metadata": {},
   "outputs": [],
   "source": [
    "# byStores = sales.groupby('Store')"
   ]
  },
  {
   "cell_type": "code",
   "execution_count": 64,
   "id": "d1ef2bf2-d8c4-4e4e-8e49-6a4dbd535c45",
   "metadata": {},
   "outputs": [],
   "source": [
    "# sales_mean = byStores.mean()"
   ]
  },
  {
   "cell_type": "code",
   "execution_count": 7,
   "id": "a02bf50a-42c3-4059-9db1-847acecd41f9",
   "metadata": {},
   "outputs": [],
   "source": [
    "# byStores.describe()"
   ]
  },
  {
   "cell_type": "code",
   "execution_count": 11,
   "id": "b4c04360-7008-4517-8887-7aea8e688985",
   "metadata": {},
   "outputs": [
    {
     "data": {
      "text/html": [
       "        <script type=\"text/javascript\">\n",
       "        window.PlotlyConfig = {MathJaxConfig: 'local'};\n",
       "        if (window.MathJax && window.MathJax.Hub && window.MathJax.Hub.Config) {window.MathJax.Hub.Config({SVG: {font: \"STIX-Web\"}});}\n",
       "        if (typeof require !== 'undefined') {\n",
       "        require.undef(\"plotly\");\n",
       "        requirejs.config({\n",
       "            paths: {\n",
       "                'plotly': ['https://cdn.plot.ly/plotly-2.16.1.min']\n",
       "            }\n",
       "        });\n",
       "        require(['plotly'], function(Plotly) {\n",
       "            window._Plotly = Plotly;\n",
       "        });\n",
       "        }\n",
       "        </script>\n",
       "        "
      ]
     },
     "metadata": {},
     "output_type": "display_data"
    },
    {
     "data": {
      "text/html": [
       "        <script type=\"text/javascript\">\n",
       "        window.PlotlyConfig = {MathJaxConfig: 'local'};\n",
       "        if (window.MathJax && window.MathJax.Hub && window.MathJax.Hub.Config) {window.MathJax.Hub.Config({SVG: {font: \"STIX-Web\"}});}\n",
       "        if (typeof require !== 'undefined') {\n",
       "        require.undef(\"plotly\");\n",
       "        requirejs.config({\n",
       "            paths: {\n",
       "                'plotly': ['https://cdn.plot.ly/plotly-2.16.1.min']\n",
       "            }\n",
       "        });\n",
       "        require(['plotly'], function(Plotly) {\n",
       "            window._Plotly = Plotly;\n",
       "        });\n",
       "        }\n",
       "        </script>\n",
       "        "
      ]
     },
     "metadata": {},
     "output_type": "display_data"
    }
   ],
   "source": [
    "import cufflinks as cf\n",
    "import plotly.express as px\n",
    "import plotly.graph_objects as go\n",
    "from plotly.offline import download_plotlyjs, init_notebook_mode, plot, iplot\n",
    "init_notebook_mode(connected=True)\n",
    "cf.go_offline()"
   ]
  },
  {
   "cell_type": "code",
   "execution_count": 15,
   "id": "c41753cb-d85c-46b8-977c-54aad2fa5995",
   "metadata": {},
   "outputs": [
    {
     "data": {
      "application/vnd.plotly.v1+json": {
       "config": {
        "plotlyServerURL": "https://plot.ly"
       },
       "data": [
        {
         "hovertemplate": "variable=GOOG<br>date=%{x}<br>value=%{y}<extra></extra>",
         "legendgroup": "GOOG",
         "line": {
          "color": "#636efa",
          "dash": "solid"
         },
         "marker": {
          "symbol": "circle"
         },
         "mode": "lines",
         "name": "GOOG",
         "orientation": "v",
         "showlegend": true,
         "type": "scatter",
         "x": [
          "2018-01-01",
          "2018-01-08",
          "2018-01-15",
          "2018-01-22",
          "2018-01-29",
          "2018-02-05",
          "2018-02-12",
          "2018-02-19",
          "2018-02-26",
          "2018-03-05",
          "2018-03-12",
          "2018-03-19",
          "2018-03-26",
          "2018-04-02",
          "2018-04-09",
          "2018-04-16",
          "2018-04-23",
          "2018-04-30",
          "2018-05-07",
          "2018-05-14",
          "2018-05-21",
          "2018-05-28",
          "2018-06-04",
          "2018-06-11",
          "2018-06-18",
          "2018-06-25",
          "2018-07-02",
          "2018-07-09",
          "2018-07-16",
          "2018-07-23",
          "2018-07-30",
          "2018-08-06",
          "2018-08-13",
          "2018-08-20",
          "2018-08-27",
          "2018-09-03",
          "2018-09-10",
          "2018-09-17",
          "2018-09-24",
          "2018-10-01",
          "2018-10-08",
          "2018-10-15",
          "2018-10-22",
          "2018-10-29",
          "2018-11-05",
          "2018-11-12",
          "2018-11-19",
          "2018-11-26",
          "2018-12-03",
          "2018-12-10",
          "2018-12-17",
          "2018-12-24",
          "2018-12-31",
          "2019-01-07",
          "2019-01-14",
          "2019-01-21",
          "2019-01-28",
          "2019-02-04",
          "2019-02-11",
          "2019-02-18",
          "2019-02-25",
          "2019-03-04",
          "2019-03-11",
          "2019-03-18",
          "2019-03-25",
          "2019-04-01",
          "2019-04-08",
          "2019-04-15",
          "2019-04-22",
          "2019-04-29",
          "2019-05-06",
          "2019-05-13",
          "2019-05-20",
          "2019-05-27",
          "2019-06-03",
          "2019-06-10",
          "2019-06-17",
          "2019-06-24",
          "2019-07-01",
          "2019-07-08",
          "2019-07-15",
          "2019-07-22",
          "2019-07-29",
          "2019-08-05",
          "2019-08-12",
          "2019-08-19",
          "2019-08-26",
          "2019-09-02",
          "2019-09-09",
          "2019-09-16",
          "2019-09-23",
          "2019-09-30",
          "2019-10-07",
          "2019-10-14",
          "2019-10-21",
          "2019-10-28",
          "2019-11-04",
          "2019-11-11",
          "2019-11-18",
          "2019-11-25",
          "2019-12-02",
          "2019-12-09",
          "2019-12-16",
          "2019-12-23",
          "2019-12-30"
         ],
         "xaxis": "x",
         "y": [
          1,
          1.018172278347936,
          1.032007866452698,
          1.066782783389724,
          1.0087731636550117,
          0.9415276737437316,
          0.99325918262539,
          1.0222821547641083,
          0.9788520214265992,
          1.0524482730908842,
          1.0303929312465263,
          0.926821104067592,
          0.9360932452590338,
          0.913638710861412,
          0.93380695379017,
          0.9734447261178653,
          0.9345146364100892,
          0.9509902470625956,
          0.9963982380519172,
          0.9674568868105002,
          0.9758943718805396,
          1.015668254641377,
          1.0169111849053498,
          1.0453898287179595,
          1.0483111519067918,
          1.0121753574512644,
          1.0344211867653972,
          1.0785588920381208,
          1.075011617811375,
          1.1236312044424703,
          1.1102129167272332,
          1.1228237368393843,
          1.0895729410299655,
          1.1074367837463466,
          1.1052048693141154,
          1.0567939333314087,
          1.0637798374890872,
          1.0579370795194665,
          1.0827776350267664,
          1.0500077089175164,
          1.007121903906116,
          0.9947651405743836,
          0.9720929301886708,
          0.959681788913054,
          0.9672663993407256,
          0.9630385756700248,
          0.9289168536315806,
          0.992923504040418,
          0.9404389054995582,
          0.945446952912676,
          0.8886892896888904,
          0.9408925313390586,
          0.9714034098401132,
          0.9591373489949891,
          0.9963982380519172,
          0.989802500200548,
          1.0077298024501202,
          0.9934950771344468,
          1.0103608540932627,
          1.0073850422758417,
          1.035165084150587,
          1.0363716889645844,
          1.0746032883264525,
          1.0936918990354445,
          1.064487521016258,
          1.095188886079836,
          1.1049145977684258,
          1.1216987538299403,
          1.1541874899828073,
          1.075456162061569,
          1.0562859304552756,
          1.0544986709579427,
          1.0283425342867192,
          1.001270175031893,
          0.9671666152648106,
          0.98468558802946,
          1.0178275181736574,
          0.980657443195294,
          1.0266368965939394,
          1.0387124690620373,
          1.025285100664745,
          1.1344366027859267,
          1.0832494231376286,
          1.0778240762422375,
          1.068379555417282,
          1.0445098208996275,
          1.0779056980467905,
          1.0931748145700046,
          1.12459294475006,
          1.115856106545024,
          1.1114649285805127,
          1.0968672799119472,
          1.10271900878617,
          1.129972884606169,
          1.1477913211905195,
          1.155602744537941,
          1.189742629754999,
          1.2110630442115171,
          1.1751993590303178,
          1.183927115646047,
          1.216279741365772,
          1.222820990588552,
          1.22441776261611,
          1.2265044859331442,
          1.213013658002661
         ],
         "yaxis": "y"
        },
        {
         "hovertemplate": "variable=AAPL<br>date=%{x}<br>value=%{y}<extra></extra>",
         "legendgroup": "AAPL",
         "line": {
          "color": "#EF553B",
          "dash": "solid"
         },
         "marker": {
          "symbol": "circle"
         },
         "mode": "lines",
         "name": "AAPL",
         "orientation": "v",
         "showlegend": true,
         "type": "scatter",
         "x": [
          "2018-01-01",
          "2018-01-08",
          "2018-01-15",
          "2018-01-22",
          "2018-01-29",
          "2018-02-05",
          "2018-02-12",
          "2018-02-19",
          "2018-02-26",
          "2018-03-05",
          "2018-03-12",
          "2018-03-19",
          "2018-03-26",
          "2018-04-02",
          "2018-04-09",
          "2018-04-16",
          "2018-04-23",
          "2018-04-30",
          "2018-05-07",
          "2018-05-14",
          "2018-05-21",
          "2018-05-28",
          "2018-06-04",
          "2018-06-11",
          "2018-06-18",
          "2018-06-25",
          "2018-07-02",
          "2018-07-09",
          "2018-07-16",
          "2018-07-23",
          "2018-07-30",
          "2018-08-06",
          "2018-08-13",
          "2018-08-20",
          "2018-08-27",
          "2018-09-03",
          "2018-09-10",
          "2018-09-17",
          "2018-09-24",
          "2018-10-01",
          "2018-10-08",
          "2018-10-15",
          "2018-10-22",
          "2018-10-29",
          "2018-11-05",
          "2018-11-12",
          "2018-11-19",
          "2018-11-26",
          "2018-12-03",
          "2018-12-10",
          "2018-12-17",
          "2018-12-24",
          "2018-12-31",
          "2019-01-07",
          "2019-01-14",
          "2019-01-21",
          "2019-01-28",
          "2019-02-04",
          "2019-02-11",
          "2019-02-18",
          "2019-02-25",
          "2019-03-04",
          "2019-03-11",
          "2019-03-18",
          "2019-03-25",
          "2019-04-01",
          "2019-04-08",
          "2019-04-15",
          "2019-04-22",
          "2019-04-29",
          "2019-05-06",
          "2019-05-13",
          "2019-05-20",
          "2019-05-27",
          "2019-06-03",
          "2019-06-10",
          "2019-06-17",
          "2019-06-24",
          "2019-07-01",
          "2019-07-08",
          "2019-07-15",
          "2019-07-22",
          "2019-07-29",
          "2019-08-05",
          "2019-08-12",
          "2019-08-19",
          "2019-08-26",
          "2019-09-02",
          "2019-09-09",
          "2019-09-16",
          "2019-09-23",
          "2019-09-30",
          "2019-10-07",
          "2019-10-14",
          "2019-10-21",
          "2019-10-28",
          "2019-11-04",
          "2019-11-11",
          "2019-11-18",
          "2019-11-25",
          "2019-12-02",
          "2019-12-09",
          "2019-12-16",
          "2019-12-23",
          "2019-12-30"
         ],
         "xaxis": "x",
         "y": [
          1,
          1.0119428342857142,
          1.0197714685714288,
          0.9800571142857144,
          0.9171428571428571,
          0.8937714514285715,
          0.9853142457142856,
          1.002857142857143,
          1.006914325714286,
          1.02845712,
          1.0172571657142857,
          0.9425142971428572,
          0.9587428514285714,
          0.9621714571428572,
          0.99845712,
          0.9469714342857144,
          0.9275428971428572,
          1.0504571542857144,
          1.07765712,
          1.06462856,
          1.0776000114285715,
          1.0870857428571428,
          1.0954285542857145,
          1.0790856914285714,
          1.0566857028571428,
          1.0577714342857143,
          1.0741142914285715,
          1.093314297142857,
          1.0939428685714283,
          1.0913142628571428,
          1.1885143142857142,
          1.1858857085714285,
          1.2433142971428572,
          1.235200022857143,
          1.3007428857142855,
          1.2645714457142856,
          1.279085691428571,
          1.2437714514285716,
          1.2899428857142856,
          1.2816571028571428,
          1.2692000057142856,
          1.253199988571429,
          1.236000017142857,
          1.1855999771428571,
          1.1684000057142856,
          1.1058857085714286,
          0.9845142457142856,
          1.0204571542857144,
          0.9628000285714284,
          0.9455999771428572,
          0.8613142628571429,
          0.8927428342857143,
          0.8471999714285714,
          0.8702285314285714,
          0.8961143257142857,
          0.9014856857142858,
          0.95154288,
          0.9737714514285716,
          0.97382856,
          0.9884000057142855,
          0.9998285771428572,
          0.9880571657142858,
          1.0635428285714286,
          1.0917143028571428,
          1.0854285542857145,
          1.1257142857142857,
          1.1363999714285713,
          1.1649142914285715,
          1.1674285885714286,
          1.21,
          1.126742817142857,
          1.08,
          1.02268572,
          1.00040004,
          1.0865713942857145,
          1.1013714571428572,
          1.135885708571429,
          1.130971417142857,
          1.167028548571429,
          1.1617143028571428,
          1.15765712,
          1.1870857428571429,
          1.1658285942857145,
          1.1485143142857142,
          1.18,
          1.1579428514285717,
          1.1928000285714286,
          1.218628542857143,
          1.25,
          1.2441714057142856,
          1.25040004,
          1.2971999714285716,
          1.3497714685714286,
          1.3509143085714286,
          1.409028582857143,
          1.4618286114285712,
          1.4865143714285716,
          1.5186286285714288,
          1.4958857085714288,
          1.5271428571428571,
          1.5469142342857145,
          1.57228568,
          1.5968000114285714,
          1.6559999314285714,
          1.6779999657142857
         ],
         "yaxis": "y"
        }
       ],
       "layout": {
        "autosize": true,
        "legend": {
         "title": {
          "text": "variable"
         },
         "tracegroupgap": 0
        },
        "template": {
         "data": {
          "bar": [
           {
            "error_x": {
             "color": "#2a3f5f"
            },
            "error_y": {
             "color": "#2a3f5f"
            },
            "marker": {
             "line": {
              "color": "#E5ECF6",
              "width": 0.5
             },
             "pattern": {
              "fillmode": "overlay",
              "size": 10,
              "solidity": 0.2
             }
            },
            "type": "bar"
           }
          ],
          "barpolar": [
           {
            "marker": {
             "line": {
              "color": "#E5ECF6",
              "width": 0.5
             },
             "pattern": {
              "fillmode": "overlay",
              "size": 10,
              "solidity": 0.2
             }
            },
            "type": "barpolar"
           }
          ],
          "carpet": [
           {
            "aaxis": {
             "endlinecolor": "#2a3f5f",
             "gridcolor": "white",
             "linecolor": "white",
             "minorgridcolor": "white",
             "startlinecolor": "#2a3f5f"
            },
            "baxis": {
             "endlinecolor": "#2a3f5f",
             "gridcolor": "white",
             "linecolor": "white",
             "minorgridcolor": "white",
             "startlinecolor": "#2a3f5f"
            },
            "type": "carpet"
           }
          ],
          "choropleth": [
           {
            "colorbar": {
             "outlinewidth": 0,
             "ticks": ""
            },
            "type": "choropleth"
           }
          ],
          "contour": [
           {
            "colorbar": {
             "outlinewidth": 0,
             "ticks": ""
            },
            "colorscale": [
             [
              0,
              "#0d0887"
             ],
             [
              0.1111111111111111,
              "#46039f"
             ],
             [
              0.2222222222222222,
              "#7201a8"
             ],
             [
              0.3333333333333333,
              "#9c179e"
             ],
             [
              0.4444444444444444,
              "#bd3786"
             ],
             [
              0.5555555555555556,
              "#d8576b"
             ],
             [
              0.6666666666666666,
              "#ed7953"
             ],
             [
              0.7777777777777778,
              "#fb9f3a"
             ],
             [
              0.8888888888888888,
              "#fdca26"
             ],
             [
              1,
              "#f0f921"
             ]
            ],
            "type": "contour"
           }
          ],
          "contourcarpet": [
           {
            "colorbar": {
             "outlinewidth": 0,
             "ticks": ""
            },
            "type": "contourcarpet"
           }
          ],
          "heatmap": [
           {
            "colorbar": {
             "outlinewidth": 0,
             "ticks": ""
            },
            "colorscale": [
             [
              0,
              "#0d0887"
             ],
             [
              0.1111111111111111,
              "#46039f"
             ],
             [
              0.2222222222222222,
              "#7201a8"
             ],
             [
              0.3333333333333333,
              "#9c179e"
             ],
             [
              0.4444444444444444,
              "#bd3786"
             ],
             [
              0.5555555555555556,
              "#d8576b"
             ],
             [
              0.6666666666666666,
              "#ed7953"
             ],
             [
              0.7777777777777778,
              "#fb9f3a"
             ],
             [
              0.8888888888888888,
              "#fdca26"
             ],
             [
              1,
              "#f0f921"
             ]
            ],
            "type": "heatmap"
           }
          ],
          "heatmapgl": [
           {
            "colorbar": {
             "outlinewidth": 0,
             "ticks": ""
            },
            "colorscale": [
             [
              0,
              "#0d0887"
             ],
             [
              0.1111111111111111,
              "#46039f"
             ],
             [
              0.2222222222222222,
              "#7201a8"
             ],
             [
              0.3333333333333333,
              "#9c179e"
             ],
             [
              0.4444444444444444,
              "#bd3786"
             ],
             [
              0.5555555555555556,
              "#d8576b"
             ],
             [
              0.6666666666666666,
              "#ed7953"
             ],
             [
              0.7777777777777778,
              "#fb9f3a"
             ],
             [
              0.8888888888888888,
              "#fdca26"
             ],
             [
              1,
              "#f0f921"
             ]
            ],
            "type": "heatmapgl"
           }
          ],
          "histogram": [
           {
            "marker": {
             "pattern": {
              "fillmode": "overlay",
              "size": 10,
              "solidity": 0.2
             }
            },
            "type": "histogram"
           }
          ],
          "histogram2d": [
           {
            "colorbar": {
             "outlinewidth": 0,
             "ticks": ""
            },
            "colorscale": [
             [
              0,
              "#0d0887"
             ],
             [
              0.1111111111111111,
              "#46039f"
             ],
             [
              0.2222222222222222,
              "#7201a8"
             ],
             [
              0.3333333333333333,
              "#9c179e"
             ],
             [
              0.4444444444444444,
              "#bd3786"
             ],
             [
              0.5555555555555556,
              "#d8576b"
             ],
             [
              0.6666666666666666,
              "#ed7953"
             ],
             [
              0.7777777777777778,
              "#fb9f3a"
             ],
             [
              0.8888888888888888,
              "#fdca26"
             ],
             [
              1,
              "#f0f921"
             ]
            ],
            "type": "histogram2d"
           }
          ],
          "histogram2dcontour": [
           {
            "colorbar": {
             "outlinewidth": 0,
             "ticks": ""
            },
            "colorscale": [
             [
              0,
              "#0d0887"
             ],
             [
              0.1111111111111111,
              "#46039f"
             ],
             [
              0.2222222222222222,
              "#7201a8"
             ],
             [
              0.3333333333333333,
              "#9c179e"
             ],
             [
              0.4444444444444444,
              "#bd3786"
             ],
             [
              0.5555555555555556,
              "#d8576b"
             ],
             [
              0.6666666666666666,
              "#ed7953"
             ],
             [
              0.7777777777777778,
              "#fb9f3a"
             ],
             [
              0.8888888888888888,
              "#fdca26"
             ],
             [
              1,
              "#f0f921"
             ]
            ],
            "type": "histogram2dcontour"
           }
          ],
          "mesh3d": [
           {
            "colorbar": {
             "outlinewidth": 0,
             "ticks": ""
            },
            "type": "mesh3d"
           }
          ],
          "parcoords": [
           {
            "line": {
             "colorbar": {
              "outlinewidth": 0,
              "ticks": ""
             }
            },
            "type": "parcoords"
           }
          ],
          "pie": [
           {
            "automargin": true,
            "type": "pie"
           }
          ],
          "scatter": [
           {
            "fillpattern": {
             "fillmode": "overlay",
             "size": 10,
             "solidity": 0.2
            },
            "type": "scatter"
           }
          ],
          "scatter3d": [
           {
            "line": {
             "colorbar": {
              "outlinewidth": 0,
              "ticks": ""
             }
            },
            "marker": {
             "colorbar": {
              "outlinewidth": 0,
              "ticks": ""
             }
            },
            "type": "scatter3d"
           }
          ],
          "scattercarpet": [
           {
            "marker": {
             "colorbar": {
              "outlinewidth": 0,
              "ticks": ""
             }
            },
            "type": "scattercarpet"
           }
          ],
          "scattergeo": [
           {
            "marker": {
             "colorbar": {
              "outlinewidth": 0,
              "ticks": ""
             }
            },
            "type": "scattergeo"
           }
          ],
          "scattergl": [
           {
            "marker": {
             "colorbar": {
              "outlinewidth": 0,
              "ticks": ""
             }
            },
            "type": "scattergl"
           }
          ],
          "scattermapbox": [
           {
            "marker": {
             "colorbar": {
              "outlinewidth": 0,
              "ticks": ""
             }
            },
            "type": "scattermapbox"
           }
          ],
          "scatterpolar": [
           {
            "marker": {
             "colorbar": {
              "outlinewidth": 0,
              "ticks": ""
             }
            },
            "type": "scatterpolar"
           }
          ],
          "scatterpolargl": [
           {
            "marker": {
             "colorbar": {
              "outlinewidth": 0,
              "ticks": ""
             }
            },
            "type": "scatterpolargl"
           }
          ],
          "scatterternary": [
           {
            "marker": {
             "colorbar": {
              "outlinewidth": 0,
              "ticks": ""
             }
            },
            "type": "scatterternary"
           }
          ],
          "surface": [
           {
            "colorbar": {
             "outlinewidth": 0,
             "ticks": ""
            },
            "colorscale": [
             [
              0,
              "#0d0887"
             ],
             [
              0.1111111111111111,
              "#46039f"
             ],
             [
              0.2222222222222222,
              "#7201a8"
             ],
             [
              0.3333333333333333,
              "#9c179e"
             ],
             [
              0.4444444444444444,
              "#bd3786"
             ],
             [
              0.5555555555555556,
              "#d8576b"
             ],
             [
              0.6666666666666666,
              "#ed7953"
             ],
             [
              0.7777777777777778,
              "#fb9f3a"
             ],
             [
              0.8888888888888888,
              "#fdca26"
             ],
             [
              1,
              "#f0f921"
             ]
            ],
            "type": "surface"
           }
          ],
          "table": [
           {
            "cells": {
             "fill": {
              "color": "#EBF0F8"
             },
             "line": {
              "color": "white"
             }
            },
            "header": {
             "fill": {
              "color": "#C8D4E3"
             },
             "line": {
              "color": "white"
             }
            },
            "type": "table"
           }
          ]
         },
         "layout": {
          "annotationdefaults": {
           "arrowcolor": "#2a3f5f",
           "arrowhead": 0,
           "arrowwidth": 1
          },
          "autotypenumbers": "strict",
          "coloraxis": {
           "colorbar": {
            "outlinewidth": 0,
            "ticks": ""
           }
          },
          "colorscale": {
           "diverging": [
            [
             0,
             "#8e0152"
            ],
            [
             0.1,
             "#c51b7d"
            ],
            [
             0.2,
             "#de77ae"
            ],
            [
             0.3,
             "#f1b6da"
            ],
            [
             0.4,
             "#fde0ef"
            ],
            [
             0.5,
             "#f7f7f7"
            ],
            [
             0.6,
             "#e6f5d0"
            ],
            [
             0.7,
             "#b8e186"
            ],
            [
             0.8,
             "#7fbc41"
            ],
            [
             0.9,
             "#4d9221"
            ],
            [
             1,
             "#276419"
            ]
           ],
           "sequential": [
            [
             0,
             "#0d0887"
            ],
            [
             0.1111111111111111,
             "#46039f"
            ],
            [
             0.2222222222222222,
             "#7201a8"
            ],
            [
             0.3333333333333333,
             "#9c179e"
            ],
            [
             0.4444444444444444,
             "#bd3786"
            ],
            [
             0.5555555555555556,
             "#d8576b"
            ],
            [
             0.6666666666666666,
             "#ed7953"
            ],
            [
             0.7777777777777778,
             "#fb9f3a"
            ],
            [
             0.8888888888888888,
             "#fdca26"
            ],
            [
             1,
             "#f0f921"
            ]
           ],
           "sequentialminus": [
            [
             0,
             "#0d0887"
            ],
            [
             0.1111111111111111,
             "#46039f"
            ],
            [
             0.2222222222222222,
             "#7201a8"
            ],
            [
             0.3333333333333333,
             "#9c179e"
            ],
            [
             0.4444444444444444,
             "#bd3786"
            ],
            [
             0.5555555555555556,
             "#d8576b"
            ],
            [
             0.6666666666666666,
             "#ed7953"
            ],
            [
             0.7777777777777778,
             "#fb9f3a"
            ],
            [
             0.8888888888888888,
             "#fdca26"
            ],
            [
             1,
             "#f0f921"
            ]
           ]
          },
          "colorway": [
           "#636efa",
           "#EF553B",
           "#00cc96",
           "#ab63fa",
           "#FFA15A",
           "#19d3f3",
           "#FF6692",
           "#B6E880",
           "#FF97FF",
           "#FECB52"
          ],
          "font": {
           "color": "#2a3f5f"
          },
          "geo": {
           "bgcolor": "white",
           "lakecolor": "white",
           "landcolor": "#E5ECF6",
           "showlakes": true,
           "showland": true,
           "subunitcolor": "white"
          },
          "hoverlabel": {
           "align": "left"
          },
          "hovermode": "closest",
          "mapbox": {
           "style": "light"
          },
          "paper_bgcolor": "white",
          "plot_bgcolor": "#E5ECF6",
          "polar": {
           "angularaxis": {
            "gridcolor": "white",
            "linecolor": "white",
            "ticks": ""
           },
           "bgcolor": "#E5ECF6",
           "radialaxis": {
            "gridcolor": "white",
            "linecolor": "white",
            "ticks": ""
           }
          },
          "scene": {
           "xaxis": {
            "backgroundcolor": "#E5ECF6",
            "gridcolor": "white",
            "gridwidth": 2,
            "linecolor": "white",
            "showbackground": true,
            "ticks": "",
            "zerolinecolor": "white"
           },
           "yaxis": {
            "backgroundcolor": "#E5ECF6",
            "gridcolor": "white",
            "gridwidth": 2,
            "linecolor": "white",
            "showbackground": true,
            "ticks": "",
            "zerolinecolor": "white"
           },
           "zaxis": {
            "backgroundcolor": "#E5ECF6",
            "gridcolor": "white",
            "gridwidth": 2,
            "linecolor": "white",
            "showbackground": true,
            "ticks": "",
            "zerolinecolor": "white"
           }
          },
          "shapedefaults": {
           "line": {
            "color": "#2a3f5f"
           }
          },
          "ternary": {
           "aaxis": {
            "gridcolor": "white",
            "linecolor": "white",
            "ticks": ""
           },
           "baxis": {
            "gridcolor": "white",
            "linecolor": "white",
            "ticks": ""
           },
           "bgcolor": "#E5ECF6",
           "caxis": {
            "gridcolor": "white",
            "linecolor": "white",
            "ticks": ""
           }
          },
          "title": {
           "x": 0.05
          },
          "xaxis": {
           "automargin": true,
           "gridcolor": "white",
           "linecolor": "white",
           "ticks": "",
           "title": {
            "standoff": 15
           },
           "zerolinecolor": "white",
           "zerolinewidth": 2
          },
          "yaxis": {
           "automargin": true,
           "gridcolor": "white",
           "linecolor": "white",
           "ticks": "",
           "title": {
            "standoff": 15
           },
           "zerolinecolor": "white",
           "zerolinewidth": 2
          }
         }
        },
        "title": {
         "text": "Apple vs Google"
        },
        "xaxis": {
         "anchor": "y",
         "autorange": true,
         "domain": [
          0,
          1
         ],
         "range": [
          "2018-01-01",
          "2019-12-30"
         ],
         "title": {
          "text": "date"
         },
         "type": "date"
        },
        "yaxis": {
         "anchor": "x",
         "autorange": true,
         "domain": [
          0,
          1
         ],
         "range": [
          0.8010444161904762,
          1.724155520952381
         ],
         "title": {
          "text": "value"
         },
         "type": "linear"
        }
       }
      },
      "image/png": "[encoded data removed]",
      "text/html": [
       "<div>                            <div id=\"da9646d3-a0a9-45c9-9003-e34c3566972b\" class=\"plotly-graph-div\" style=\"height:525px; width:100%;\"></div>            <script type=\"text/javascript\">                require([\"plotly\"], function(Plotly) {                    window.PLOTLYENV=window.PLOTLYENV || {};                                    if (document.getElementById(\"da9646d3-a0a9-45c9-9003-e34c3566972b\")) {                    Plotly.newPlot(                        \"da9646d3-a0a9-45c9-9003-e34c3566972b\",                        [{\"hovertemplate\":\"variable=GOOG<br>date=%{x}<br>value=%{y}<extra></extra>\",\"legendgroup\":\"GOOG\",\"line\":{\"color\":\"#636efa\",\"dash\":\"solid\"},\"marker\":{\"symbol\":\"circle\"},\"mode\":\"lines\",\"name\":\"GOOG\",\"orientation\":\"v\",\"showlegend\":true,\"x\":[\"2018-01-01\",\"2018-01-08\",\"2018-01-15\",\"2018-01-22\",\"2018-01-29\",\"2018-02-05\",\"2018-02-12\",\"2018-02-19\",\"2018-02-26\",\"2018-03-05\",\"2018-03-12\",\"2018-03-19\",\"2018-03-26\",\"2018-04-02\",\"2018-04-09\",\"2018-04-16\",\"2018-04-23\",\"2018-04-30\",\"2018-05-07\",\"2018-05-14\",\"2018-05-21\",\"2018-05-28\",\"2018-06-04\",\"2018-06-11\",\"2018-06-18\",\"2018-06-25\",\"2018-07-02\",\"2018-07-09\",\"2018-07-16\",\"2018-07-23\",\"2018-07-30\",\"2018-08-06\",\"2018-08-13\",\"2018-08-20\",\"2018-08-27\",\"2018-09-03\",\"2018-09-10\",\"2018-09-17\",\"2018-09-24\",\"2018-10-01\",\"2018-10-08\",\"2018-10-15\",\"2018-10-22\",\"2018-10-29\",\"2018-11-05\",\"2018-11-12\",\"2018-11-19\",\"2018-11-26\",\"2018-12-03\",\"2018-12-10\",\"2018-12-17\",\"2018-12-24\",\"2018-12-31\",\"2019-01-07\",\"2019-01-14\",\"2019-01-21\",\"2019-01-28\",\"2019-02-04\",\"2019-02-11\",\"2019-02-18\",\"2019-02-25\",\"2019-03-04\",\"2019-03-11\",\"2019-03-18\",\"2019-03-25\",\"2019-04-01\",\"2019-04-08\",\"2019-04-15\",\"2019-04-22\",\"2019-04-29\",\"2019-05-06\",\"2019-05-13\",\"2019-05-20\",\"2019-05-27\",\"2019-06-03\",\"2019-06-10\",\"2019-06-17\",\"2019-06-24\",\"2019-07-01\",\"2019-07-08\",\"2019-07-15\",\"2019-07-22\",\"2019-07-29\",\"2019-08-05\",\"2019-08-12\",\"2019-08-19\",\"2019-08-26\",\"2019-09-02\",\"2019-09-09\",\"2019-09-16\",\"2019-09-23\",\"2019-09-30\",\"2019-10-07\",\"2019-10-14\",\"2019-10-21\",\"2019-10-28\",\"2019-11-04\",\"2019-11-11\",\"2019-11-18\",\"2019-11-25\",\"2019-12-02\",\"2019-12-09\",\"2019-12-16\",\"2019-12-23\",\"2019-12-30\"],\"xaxis\":\"x\",\"y\":[1.0,1.018172278347936,1.032007866452698,1.066782783389724,1.0087731636550117,0.9415276737437316,0.99325918262539,1.0222821547641083,0.9788520214265992,1.0524482730908842,1.0303929312465263,0.926821104067592,0.9360932452590338,0.913638710861412,0.93380695379017,0.9734447261178653,0.9345146364100892,0.9509902470625956,0.9963982380519172,0.9674568868105002,0.9758943718805396,1.015668254641377,1.0169111849053498,1.0453898287179595,1.0483111519067918,1.0121753574512644,1.0344211867653972,1.0785588920381208,1.075011617811375,1.1236312044424703,1.1102129167272332,1.1228237368393843,1.0895729410299655,1.1074367837463466,1.1052048693141154,1.0567939333314087,1.0637798374890872,1.0579370795194665,1.0827776350267664,1.0500077089175164,1.007121903906116,0.9947651405743836,0.9720929301886708,0.959681788913054,0.9672663993407256,0.9630385756700248,0.9289168536315806,0.992923504040418,0.9404389054995582,0.945446952912676,0.8886892896888904,0.9408925313390586,0.9714034098401132,0.9591373489949891,0.9963982380519172,0.989802500200548,1.0077298024501202,0.9934950771344468,1.0103608540932627,1.0073850422758417,1.035165084150587,1.0363716889645844,1.0746032883264525,1.0936918990354445,1.064487521016258,1.095188886079836,1.1049145977684258,1.1216987538299403,1.1541874899828073,1.075456162061569,1.0562859304552756,1.0544986709579427,1.0283425342867192,1.001270175031893,0.9671666152648106,0.98468558802946,1.0178275181736574,0.980657443195294,1.0266368965939394,1.0387124690620373,1.025285100664745,1.1344366027859267,1.0832494231376286,1.0778240762422375,1.068379555417282,1.0445098208996275,1.0779056980467905,1.0931748145700046,1.12459294475006,1.115856106545024,1.1114649285805127,1.0968672799119472,1.10271900878617,1.129972884606169,1.1477913211905195,1.155602744537941,1.189742629754999,1.2110630442115171,1.1751993590303178,1.183927115646047,1.216279741365772,1.222820990588552,1.22441776261611,1.2265044859331442,1.213013658002661],\"yaxis\":\"y\",\"type\":\"scatter\"},{\"hovertemplate\":\"variable=AAPL<br>date=%{x}<br>value=%{y}<extra></extra>\",\"legendgroup\":\"AAPL\",\"line\":{\"color\":\"#EF553B\",\"dash\":\"solid\"},\"marker\":{\"symbol\":\"circle\"},\"mode\":\"lines\",\"name\":\"AAPL\",\"orientation\":\"v\",\"showlegend\":true,\"x\":[\"2018-01-01\",\"2018-01-08\",\"2018-01-15\",\"2018-01-22\",\"2018-01-29\",\"2018-02-05\",\"2018-02-12\",\"2018-02-19\",\"2018-02-26\",\"2018-03-05\",\"2018-03-12\",\"2018-03-19\",\"2018-03-26\",\"2018-04-02\",\"2018-04-09\",\"2018-04-16\",\"2018-04-23\",\"2018-04-30\",\"2018-05-07\",\"2018-05-14\",\"2018-05-21\",\"2018-05-28\",\"2018-06-04\",\"2018-06-11\",\"2018-06-18\",\"2018-06-25\",\"2018-07-02\",\"2018-07-09\",\"2018-07-16\",\"2018-07-23\",\"2018-07-30\",\"2018-08-06\",\"2018-08-13\",\"2018-08-20\",\"2018-08-27\",\"2018-09-03\",\"2018-09-10\",\"2018-09-17\",\"2018-09-24\",\"2018-10-01\",\"2018-10-08\",\"2018-10-15\",\"2018-10-22\",\"2018-10-29\",\"2018-11-05\",\"2018-11-12\",\"2018-11-19\",\"2018-11-26\",\"2018-12-03\",\"2018-12-10\",\"2018-12-17\",\"2018-12-24\",\"2018-12-31\",\"2019-01-07\",\"2019-01-14\",\"2019-01-21\",\"2019-01-28\",\"2019-02-04\",\"2019-02-11\",\"2019-02-18\",\"2019-02-25\",\"2019-03-04\",\"2019-03-11\",\"2019-03-18\",\"2019-03-25\",\"2019-04-01\",\"2019-04-08\",\"2019-04-15\",\"2019-04-22\",\"2019-04-29\",\"2019-05-06\",\"2019-05-13\",\"2019-05-20\",\"2019-05-27\",\"2019-06-03\",\"2019-06-10\",\"2019-06-17\",\"2019-06-24\",\"2019-07-01\",\"2019-07-08\",\"2019-07-15\",\"2019-07-22\",\"2019-07-29\",\"2019-08-05\",\"2019-08-12\",\"2019-08-19\",\"2019-08-26\",\"2019-09-02\",\"2019-09-09\",\"2019-09-16\",\"2019-09-23\",\"2019-09-30\",\"2019-10-07\",\"2019-10-14\",\"2019-10-21\",\"2019-10-28\",\"2019-11-04\",\"2019-11-11\",\"2019-11-18\",\"2019-11-25\",\"2019-12-02\",\"2019-12-09\",\"2019-12-16\",\"2019-12-23\",\"2019-12-30\"],\"xaxis\":\"x\",\"y\":[1.0,1.0119428342857142,1.0197714685714288,0.9800571142857144,0.9171428571428571,0.8937714514285715,0.9853142457142856,1.002857142857143,1.006914325714286,1.02845712,1.0172571657142857,0.9425142971428572,0.9587428514285714,0.9621714571428572,0.99845712,0.9469714342857144,0.9275428971428572,1.0504571542857144,1.07765712,1.06462856,1.0776000114285715,1.0870857428571428,1.0954285542857145,1.0790856914285714,1.0566857028571428,1.0577714342857143,1.0741142914285715,1.093314297142857,1.0939428685714283,1.0913142628571428,1.1885143142857142,1.1858857085714285,1.2433142971428572,1.235200022857143,1.3007428857142855,1.2645714457142856,1.279085691428571,1.2437714514285716,1.2899428857142856,1.2816571028571428,1.2692000057142856,1.253199988571429,1.236000017142857,1.1855999771428571,1.1684000057142856,1.1058857085714286,0.9845142457142856,1.0204571542857144,0.9628000285714284,0.9455999771428572,0.8613142628571429,0.8927428342857143,0.8471999714285714,0.8702285314285714,0.8961143257142857,0.9014856857142858,0.95154288,0.9737714514285716,0.97382856,0.9884000057142855,0.9998285771428572,0.9880571657142858,1.0635428285714286,1.0917143028571428,1.0854285542857145,1.1257142857142857,1.1363999714285713,1.1649142914285715,1.1674285885714286,1.21,1.126742817142857,1.08,1.02268572,1.00040004,1.0865713942857145,1.1013714571428572,1.135885708571429,1.130971417142857,1.167028548571429,1.1617143028571428,1.15765712,1.1870857428571429,1.1658285942857145,1.1485143142857142,1.18,1.1579428514285717,1.1928000285714286,1.218628542857143,1.25,1.2441714057142856,1.25040004,1.2971999714285716,1.3497714685714286,1.3509143085714286,1.409028582857143,1.4618286114285712,1.4865143714285716,1.5186286285714288,1.4958857085714288,1.5271428571428571,1.5469142342857145,1.57228568,1.5968000114285714,1.6559999314285714,1.6779999657142857],\"yaxis\":\"y\",\"type\":\"scatter\"}],                        {\"template\":{\"data\":{\"histogram2dcontour\":[{\"type\":\"histogram2dcontour\",\"colorbar\":{\"outlinewidth\":0,\"ticks\":\"\"},\"colorscale\":[[0.0,\"#0d0887\"],[0.1111111111111111,\"#46039f\"],[0.2222222222222222,\"#7201a8\"],[0.3333333333333333,\"#9c179e\"],[0.4444444444444444,\"#bd3786\"],[0.5555555555555556,\"#d8576b\"],[0.6666666666666666,\"#ed7953\"],[0.7777777777777778,\"#fb9f3a\"],[0.8888888888888888,\"#fdca26\"],[1.0,\"#f0f921\"]]}],\"choropleth\":[{\"type\":\"choropleth\",\"colorbar\":{\"outlinewidth\":0,\"ticks\":\"\"}}],\"histogram2d\":[{\"type\":\"histogram2d\",\"colorbar\":{\"outlinewidth\":0,\"ticks\":\"\"},\"colorscale\":[[0.0,\"#0d0887\"],[0.1111111111111111,\"#46039f\"],[0.2222222222222222,\"#7201a8\"],[0.3333333333333333,\"#9c179e\"],[0.4444444444444444,\"#bd3786\"],[0.5555555555555556,\"#d8576b\"],[0.6666666666666666,\"#ed7953\"],[0.7777777777777778,\"#fb9f3a\"],[0.8888888888888888,\"#fdca26\"],[1.0,\"#f0f921\"]]}],\"heatmap\":[{\"type\":\"heatmap\",\"colorbar\":{\"outlinewidth\":0,\"ticks\":\"\"},\"colorscale\":[[0.0,\"#0d0887\"],[0.1111111111111111,\"#46039f\"],[0.2222222222222222,\"#7201a8\"],[0.3333333333333333,\"#9c179e\"],[0.4444444444444444,\"#bd3786\"],[0.5555555555555556,\"#d8576b\"],[0.6666666666666666,\"#ed7953\"],[0.7777777777777778,\"#fb9f3a\"],[0.8888888888888888,\"#fdca26\"],[1.0,\"#f0f921\"]]}],\"heatmapgl\":[{\"type\":\"heatmapgl\",\"colorbar\":{\"outlinewidth\":0,\"ticks\":\"\"},\"colorscale\":[[0.0,\"#0d0887\"],[0.1111111111111111,\"#46039f\"],[0.2222222222222222,\"#7201a8\"],[0.3333333333333333,\"#9c179e\"],[0.4444444444444444,\"#bd3786\"],[0.5555555555555556,\"#d8576b\"],[0.6666666666666666,\"#ed7953\"],[0.7777777777777778,\"#fb9f3a\"],[0.8888888888888888,\"#fdca26\"],[1.0,\"#f0f921\"]]}],\"contourcarpet\":[{\"type\":\"contourcarpet\",\"colorbar\":{\"outlinewidth\":0,\"ticks\":\"\"}}],\"contour\":[{\"type\":\"contour\",\"colorbar\":{\"outlinewidth\":0,\"ticks\":\"\"},\"colorscale\":[[0.0,\"#0d0887\"],[0.1111111111111111,\"#46039f\"],[0.2222222222222222,\"#7201a8\"],[0.3333333333333333,\"#9c179e\"],[0.4444444444444444,\"#bd3786\"],[0.5555555555555556,\"#d8576b\"],[0.6666666666666666,\"#ed7953\"],[0.7777777777777778,\"#fb9f3a\"],[0.8888888888888888,\"#fdca26\"],[1.0,\"#f0f921\"]]}],\"surface\":[{\"type\":\"surface\",\"colorbar\":{\"outlinewidth\":0,\"ticks\":\"\"},\"colorscale\":[[0.0,\"#0d0887\"],[0.1111111111111111,\"#46039f\"],[0.2222222222222222,\"#7201a8\"],[0.3333333333333333,\"#9c179e\"],[0.4444444444444444,\"#bd3786\"],[0.5555555555555556,\"#d8576b\"],[0.6666666666666666,\"#ed7953\"],[0.7777777777777778,\"#fb9f3a\"],[0.8888888888888888,\"#fdca26\"],[1.0,\"#f0f921\"]]}],\"mesh3d\":[{\"type\":\"mesh3d\",\"colorbar\":{\"outlinewidth\":0,\"ticks\":\"\"}}],\"scatter\":[{\"fillpattern\":{\"fillmode\":\"overlay\",\"size\":10,\"solidity\":0.2},\"type\":\"scatter\"}],\"parcoords\":[{\"type\":\"parcoords\",\"line\":{\"colorbar\":{\"outlinewidth\":0,\"ticks\":\"\"}}}],\"scatterpolargl\":[{\"type\":\"scatterpolargl\",\"marker\":{\"colorbar\":{\"outlinewidth\":0,\"ticks\":\"\"}}}],\"bar\":[{\"error_x\":{\"color\":\"#2a3f5f\"},\"error_y\":{\"color\":\"#2a3f5f\"},\"marker\":{\"line\":{\"color\":\"#E5ECF6\",\"width\":0.5},\"pattern\":{\"fillmode\":\"overlay\",\"size\":10,\"solidity\":0.2}},\"type\":\"bar\"}],\"scattergeo\":[{\"type\":\"scattergeo\",\"marker\":{\"colorbar\":{\"outlinewidth\":0,\"ticks\":\"\"}}}],\"scatterpolar\":[{\"type\":\"scatterpolar\",\"marker\":{\"colorbar\":{\"outlinewidth\":0,\"ticks\":\"\"}}}],\"histogram\":[{\"marker\":{\"pattern\":{\"fillmode\":\"overlay\",\"size\":10,\"solidity\":0.2}},\"type\":\"histogram\"}],\"scattergl\":[{\"type\":\"scattergl\",\"marker\":{\"colorbar\":{\"outlinewidth\":0,\"ticks\":\"\"}}}],\"scatter3d\":[{\"type\":\"scatter3d\",\"line\":{\"colorbar\":{\"outlinewidth\":0,\"ticks\":\"\"}},\"marker\":{\"colorbar\":{\"outlinewidth\":0,\"ticks\":\"\"}}}],\"scattermapbox\":[{\"type\":\"scattermapbox\",\"marker\":{\"colorbar\":{\"outlinewidth\":0,\"ticks\":\"\"}}}],\"scatterternary\":[{\"type\":\"scatterternary\",\"marker\":{\"colorbar\":{\"outlinewidth\":0,\"ticks\":\"\"}}}],\"scattercarpet\":[{\"type\":\"scattercarpet\",\"marker\":{\"colorbar\":{\"outlinewidth\":0,\"ticks\":\"\"}}}],\"carpet\":[{\"aaxis\":{\"endlinecolor\":\"#2a3f5f\",\"gridcolor\":\"white\",\"linecolor\":\"white\",\"minorgridcolor\":\"white\",\"startlinecolor\":\"#2a3f5f\"},\"baxis\":{\"endlinecolor\":\"#2a3f5f\",\"gridcolor\":\"white\",\"linecolor\":\"white\",\"minorgridcolor\":\"white\",\"startlinecolor\":\"#2a3f5f\"},\"type\":\"carpet\"}],\"table\":[{\"cells\":{\"fill\":{\"color\":\"#EBF0F8\"},\"line\":{\"color\":\"white\"}},\"header\":{\"fill\":{\"color\":\"#C8D4E3\"},\"line\":{\"color\":\"white\"}},\"type\":\"table\"}],\"barpolar\":[{\"marker\":{\"line\":{\"color\":\"#E5ECF6\",\"width\":0.5},\"pattern\":{\"fillmode\":\"overlay\",\"size\":10,\"solidity\":0.2}},\"type\":\"barpolar\"}],\"pie\":[{\"automargin\":true,\"type\":\"pie\"}]},\"layout\":{\"autotypenumbers\":\"strict\",\"colorway\":[\"#636efa\",\"#EF553B\",\"#00cc96\",\"#ab63fa\",\"#FFA15A\",\"#19d3f3\",\"#FF6692\",\"#B6E880\",\"#FF97FF\",\"#FECB52\"],\"font\":{\"color\":\"#2a3f5f\"},\"hovermode\":\"closest\",\"hoverlabel\":{\"align\":\"left\"},\"paper_bgcolor\":\"white\",\"plot_bgcolor\":\"#E5ECF6\",\"polar\":{\"bgcolor\":\"#E5ECF6\",\"angularaxis\":{\"gridcolor\":\"white\",\"linecolor\":\"white\",\"ticks\":\"\"},\"radialaxis\":{\"gridcolor\":\"white\",\"linecolor\":\"white\",\"ticks\":\"\"}},\"ternary\":{\"bgcolor\":\"#E5ECF6\",\"aaxis\":{\"gridcolor\":\"white\",\"linecolor\":\"white\",\"ticks\":\"\"},\"baxis\":{\"gridcolor\":\"white\",\"linecolor\":\"white\",\"ticks\":\"\"},\"caxis\":{\"gridcolor\":\"white\",\"linecolor\":\"white\",\"ticks\":\"\"}},\"coloraxis\":{\"colorbar\":{\"outlinewidth\":0,\"ticks\":\"\"}},\"colorscale\":{\"sequential\":[[0.0,\"#0d0887\"],[0.1111111111111111,\"#46039f\"],[0.2222222222222222,\"#7201a8\"],[0.3333333333333333,\"#9c179e\"],[0.4444444444444444,\"#bd3786\"],[0.5555555555555556,\"#d8576b\"],[0.6666666666666666,\"#ed7953\"],[0.7777777777777778,\"#fb9f3a\"],[0.8888888888888888,\"#fdca26\"],[1.0,\"#f0f921\"]],\"sequentialminus\":[[0.0,\"#0d0887\"],[0.1111111111111111,\"#46039f\"],[0.2222222222222222,\"#7201a8\"],[0.3333333333333333,\"#9c179e\"],[0.4444444444444444,\"#bd3786\"],[0.5555555555555556,\"#d8576b\"],[0.6666666666666666,\"#ed7953\"],[0.7777777777777778,\"#fb9f3a\"],[0.8888888888888888,\"#fdca26\"],[1.0,\"#f0f921\"]],\"diverging\":[[0,\"#8e0152\"],[0.1,\"#c51b7d\"],[0.2,\"#de77ae\"],[0.3,\"#f1b6da\"],[0.4,\"#fde0ef\"],[0.5,\"#f7f7f7\"],[0.6,\"#e6f5d0\"],[0.7,\"#b8e186\"],[0.8,\"#7fbc41\"],[0.9,\"#4d9221\"],[1,\"#276419\"]]},\"xaxis\":{\"gridcolor\":\"white\",\"linecolor\":\"white\",\"ticks\":\"\",\"title\":{\"standoff\":15},\"zerolinecolor\":\"white\",\"automargin\":true,\"zerolinewidth\":2},\"yaxis\":{\"gridcolor\":\"white\",\"linecolor\":\"white\",\"ticks\":\"\",\"title\":{\"standoff\":15},\"zerolinecolor\":\"white\",\"automargin\":true,\"zerolinewidth\":2},\"scene\":{\"xaxis\":{\"backgroundcolor\":\"#E5ECF6\",\"gridcolor\":\"white\",\"linecolor\":\"white\",\"showbackground\":true,\"ticks\":\"\",\"zerolinecolor\":\"white\",\"gridwidth\":2},\"yaxis\":{\"backgroundcolor\":\"#E5ECF6\",\"gridcolor\":\"white\",\"linecolor\":\"white\",\"showbackground\":true,\"ticks\":\"\",\"zerolinecolor\":\"white\",\"gridwidth\":2},\"zaxis\":{\"backgroundcolor\":\"#E5ECF6\",\"gridcolor\":\"white\",\"linecolor\":\"white\",\"showbackground\":true,\"ticks\":\"\",\"zerolinecolor\":\"white\",\"gridwidth\":2}},\"shapedefaults\":{\"line\":{\"color\":\"#2a3f5f\"}},\"annotationdefaults\":{\"arrowcolor\":\"#2a3f5f\",\"arrowhead\":0,\"arrowwidth\":1},\"geo\":{\"bgcolor\":\"white\",\"landcolor\":\"#E5ECF6\",\"subunitcolor\":\"white\",\"showland\":true,\"showlakes\":true,\"lakecolor\":\"white\"},\"title\":{\"x\":0.05},\"mapbox\":{\"style\":\"light\"}}},\"xaxis\":{\"anchor\":\"y\",\"domain\":[0.0,1.0],\"title\":{\"text\":\"date\"}},\"yaxis\":{\"anchor\":\"x\",\"domain\":[0.0,1.0],\"title\":{\"text\":\"value\"}},\"legend\":{\"title\":{\"text\":\"variable\"},\"tracegroupgap\":0},\"title\":{\"text\":\"Apple vs Google\"}},                        {\"responsive\": true}                    ).then(function(){\n",
       "                            \n",
       "var gd = document.getElementById('da9646d3-a0a9-45c9-9003-e34c3566972b');\n",
       "var x = new MutationObserver(function (mutations, observer) {{\n",
       "        var display = window.getComputedStyle(gd).display;\n",
       "        if (!display || display === 'none') {{\n",
       "            console.log([gd, 'removed!']);\n",
       "            Plotly.purge(gd);\n",
       "            observer.disconnect();\n",
       "        }}\n",
       "}});\n",
       "\n",
       "// Listen for the removal of the full notebook cells\n",
       "var notebookContainer = gd.closest('#notebook-container');\n",
       "if (notebookContainer) {{\n",
       "    x.observe(notebookContainer, {childList: true});\n",
       "}}\n",
       "\n",
       "// Listen for the clearing of the current output cell\n",
       "var outputEl = gd.closest('.output');\n",
       "if (outputEl) {{\n",
       "    x.observe(outputEl, {childList: true});\n",
       "}}\n",
       "\n",
       "                        })                };                });            </script>        </div>"
      ]
     },
     "metadata": {},
     "output_type": "display_data"
    }
   ],
   "source": [
    "stocks = px.data.stocks()\n",
    "# px.line(stocks,x='date',y=['GOOG','AAPL'],labels={'x':'Date','y':'Value of $1'},title='Apple vs Google')\n",
    "# fig.show(renderer='iframe')\n",
    "# px.line(stocks, x='date', y = ['GOOG', 'AAPL'], labels=({x:'Date', 'y':'Value of $1'}, title ='Apple vs Google'}\n",
    "px.line(stocks, x= 'date', y=['GOOG', 'AAPL'], labels={'x':'Date','y':'Value_of_$1'}, title='Apple vs Google')                                                "
   ]
  },
  {
   "cell_type": "code",
   "execution_count": 26,
   "id": "4577f937-035a-428a-9cbe-c1f7873dc91e",
   "metadata": {},
   "outputs": [
    {
     "data": {
      "application/vnd.plotly.v1+json": {
       "config": {
        "plotlyServerURL": "https://plot.ly"
       },
       "data": [
        {
         "mode": "lines",
         "name": "graph 1",
         "type": "scatter",
         "x": [
          0,
          0.005025125628140704,
          0.010050251256281407,
          0.01507537688442211,
          0.020100502512562814,
          0.02512562814070352,
          0.03015075376884422,
          0.035175879396984924,
          0.04020100502512563,
          0.04522613065326633,
          0.05025125628140704,
          0.05527638190954774,
          0.06030150753768844,
          0.06532663316582915,
          0.07035175879396985,
          0.07537688442211056,
          0.08040201005025126,
          0.08542713567839195,
          0.09045226130653267,
          0.09547738693467336,
          0.10050251256281408,
          0.10552763819095477,
          0.11055276381909548,
          0.11557788944723618,
          0.12060301507537688,
          0.12562814070351758,
          0.1306532663316583,
          0.135678391959799,
          0.1407035175879397,
          0.1457286432160804,
          0.15075376884422112,
          0.15577889447236182,
          0.16080402010050251,
          0.1658291457286432,
          0.1708542713567839,
          0.17587939698492464,
          0.18090452261306533,
          0.18592964824120603,
          0.19095477386934673,
          0.19597989949748745,
          0.20100502512562815,
          0.20603015075376885,
          0.21105527638190955,
          0.21608040201005024,
          0.22110552763819097,
          0.22613065326633167,
          0.23115577889447236,
          0.23618090452261306,
          0.24120603015075376,
          0.24623115577889448,
          0.25125628140703515,
          0.2562814070351759,
          0.2613065326633166,
          0.2663316582914573,
          0.271356783919598,
          0.2763819095477387,
          0.2814070351758794,
          0.2864321608040201,
          0.2914572864321608,
          0.2964824120603015,
          0.30150753768844224,
          0.3065326633165829,
          0.31155778894472363,
          0.3165829145728643,
          0.32160804020100503,
          0.32663316582914576,
          0.3316582914572864,
          0.33668341708542715,
          0.3417085427135678,
          0.34673366834170855,
          0.35175879396984927,
          0.35678391959798994,
          0.36180904522613067,
          0.36683417085427134,
          0.37185929648241206,
          0.3768844221105528,
          0.38190954773869346,
          0.3869346733668342,
          0.3919597989949749,
          0.3969849246231156,
          0.4020100502512563,
          0.40703517587939697,
          0.4120603015075377,
          0.4170854271356784,
          0.4221105527638191,
          0.4271356783919598,
          0.4321608040201005,
          0.4371859296482412,
          0.44221105527638194,
          0.4472361809045226,
          0.45226130653266333,
          0.457286432160804,
          0.4623115577889447,
          0.46733668341708545,
          0.4723618090452261,
          0.47738693467336685,
          0.4824120603015075,
          0.48743718592964824,
          0.49246231155778897,
          0.49748743718592964,
          0.5025125628140703,
          0.507537688442211,
          0.5125628140703518,
          0.5175879396984925,
          0.5226130653266332,
          0.5276381909547738,
          0.5326633165829145,
          0.5376884422110553,
          0.542713567839196,
          0.5477386934673367,
          0.5527638190954774,
          0.5577889447236181,
          0.5628140703517588,
          0.5678391959798995,
          0.5728643216080402,
          0.577889447236181,
          0.5829145728643216,
          0.5879396984924623,
          0.592964824120603,
          0.5979899497487438,
          0.6030150753768845,
          0.6080402010050251,
          0.6130653266331658,
          0.6180904522613065,
          0.6231155778894473,
          0.628140703517588,
          0.6331658291457286,
          0.6381909547738693,
          0.6432160804020101,
          0.6482412060301508,
          0.6532663316582915,
          0.6582914572864321,
          0.6633165829145728,
          0.6683417085427136,
          0.6733668341708543,
          0.678391959798995,
          0.6834170854271356,
          0.6884422110552764,
          0.6934673366834171,
          0.6984924623115578,
          0.7035175879396985,
          0.7085427135678392,
          0.7135678391959799,
          0.7185929648241206,
          0.7236180904522613,
          0.7286432160804021,
          0.7336683417085427,
          0.7386934673366834,
          0.7437185929648241,
          0.7487437185929648,
          0.7537688442211056,
          0.7587939698492463,
          0.7638190954773869,
          0.7688442211055276,
          0.7738693467336684,
          0.7788944723618091,
          0.7839195979899498,
          0.7889447236180904,
          0.7939698492462312,
          0.7989949748743719,
          0.8040201005025126,
          0.8090452261306533,
          0.8140703517587939,
          0.8190954773869347,
          0.8241206030150754,
          0.8291457286432161,
          0.8341708542713568,
          0.8391959798994975,
          0.8442211055276382,
          0.8492462311557789,
          0.8542713567839196,
          0.8592964824120604,
          0.864321608040201,
          0.8693467336683417,
          0.8743718592964824,
          0.8793969849246231,
          0.8844221105527639,
          0.8894472361809045,
          0.8944723618090452,
          0.8994974874371859,
          0.9045226130653267,
          0.9095477386934674,
          0.914572864321608,
          0.9195979899497487,
          0.9246231155778895,
          0.9296482412060302,
          0.9346733668341709,
          0.9396984924623115,
          0.9447236180904522,
          0.949748743718593,
          0.9547738693467337,
          0.9597989949748744,
          0.964824120603015,
          0.9698492462311558,
          0.9748743718592965,
          0.9798994974874372,
          0.9849246231155779,
          0.9899497487437187,
          0.9949748743718593,
          1
         ],
         "y": [
          2.2377704231458386,
          2.130084325762242,
          2.1157006677737957,
          1.9485174935641707,
          1.412940563576715,
          1.8234713314915383,
          1.7538937097934737,
          2.786073559297534,
          2.8946822685534803,
          1.6764985439806073,
          1.8758694474275426,
          2.19771983845761,
          1.8898026010428939,
          1.9767145458112316,
          2.212590922988973,
          1.7734507841447331,
          2.515155270383997,
          3.053705783739254,
          2.107371227837854,
          1.9353651210912854,
          1.5034339016737963,
          1.984199487753893,
          2.0562280557669426,
          0.9131329197302631,
          2.2285567713858456,
          1.0248927591404764,
          2.0601191244125974,
          3.0138162131782398,
          2.033751936676755,
          2.1811282116985504,
          0.5179519018311978,
          3.036787513033019,
          1.4012298409240893,
          1.7516825443903847,
          2.6657820589814007,
          2.3882880043453367,
          1.1692465859280219,
          2.642045560961513,
          1.652586275212287,
          2.9028195485546746,
          1.6315527276964343,
          1.3475974696030049,
          2.5126521587665205,
          2.0881383626798455,
          3.367294719993594,
          1.9745857399473625,
          1.6824613541466582,
          2.173726535314626,
          1.4751959038937064,
          2.6425089269615363,
          1.983672387992446,
          2.1768127632535808,
          1.9177057926179968,
          1.7267862492093615,
          2.610396109863922,
          2.977722198879145,
          2.320014075674613,
          2.157381969630668,
          1.9386411016604959,
          1.5049582217743005,
          1.8419790138584835,
          1.3563306129213046,
          2.626157701571162,
          1.7505611763168747,
          1.9243230088423684,
          2.2492832956473694,
          1.9548039119782874,
          0.6587357292012157,
          1.725514935862187,
          1.4805843844195015,
          2.3435837260245624,
          1.5613363992788054,
          2.7091977070712785,
          1.9782204048198488,
          1.8096154285389037,
          2.0459539628691243,
          2.2015375324082274,
          0.7694148755737857,
          2.329895776708959,
          1.7374408004637454,
          1.7374495071684373,
          2.141303064056869,
          1.6516837194597769,
          0.8523874170577002,
          2.7245655319166038,
          2.102224842753124,
          1.4970426682045777,
          2.0986008809725916,
          1.8207553480515055,
          1.4866688312927097,
          2.1746585339431217,
          1.7098035448397448,
          1.6472709471256564,
          2.0616748331713532,
          1.936797882573096,
          2.5992540402821342,
          2.393705088884624,
          0.9026138277905573,
          2.189856925744333,
          1.8317212417993534,
          2.2607749945299918,
          2.313567079011679,
          2.8966931129862505,
          2.8077124901487758,
          1.2558055751133403,
          1.9097220534914443,
          2.422573916800467,
          2.4735035370035963,
          0.7927609460182119,
          2.2553357669041754,
          2.336926555378296,
          1.0382158916342412,
          2.286342460450928,
          0.9112421909194903,
          1.4218996360928098,
          2.221987337796641,
          2.8286440101176913,
          1.4646753181511403,
          2.0856840017153995,
          2.4155166936291943,
          2.2792459023742997,
          1.3141506909945433,
          1.9948171712769123,
          2.1902212211284104,
          1.942151423029027,
          2.6784495755185915,
          1.3382578563382954,
          1.8674141153832062,
          2.003925482177173,
          2.5966777111717434,
          2.1832773343389698,
          3.027901375113929,
          2.0677108000872915,
          2.1847061554493226,
          1.5162067366734733,
          2.20344167959334,
          2.544177231181407,
          1.7129677991874825,
          1.9341601071506953,
          1.8355952094608876,
          2.6617797003950057,
          2.693562524951327,
          2.461571149138358,
          2.3864275670915314,
          2.1136272957639775,
          2.241370378709855,
          2.168805876834823,
          2.0869622375097268,
          1.6952491924435806,
          2.0186029255951174,
          1.4486317522032273,
          3.183384073597649,
          0.24021058283207353,
          2.2973436128017215,
          2.0509347407530454,
          2.0724515918599433,
          2.3762748433848064,
          1.429752440386082,
          2.3415387686008753,
          1.1564431152235448,
          2.567550133194082,
          1.8914708407360352,
          1.3773899269848298,
          1.0263781829059704,
          2.2118569400812818,
          2.041339372773476,
          2.3072580991470213,
          2.335341784700019,
          2.5002816596688637,
          3.0047936353241624,
          2.4120288556213096,
          2.036038142374493,
          2.2536495092136364,
          2.4008120568909055,
          2.9507538763238363,
          0.942444429773738,
          2.8391223498145055,
          1.7723824472362901,
          1.8826934395195494,
          1.6867735579323755,
          2.084730578001881,
          2.2898607505186788,
          1.7834349155685711,
          1.779113281848748,
          1.69140875543877,
          1.1994238786045883,
          2.250598215246698,
          1.8715506799809054,
          2.457288470599223,
          1.8841596702826129,
          3.219427304339725,
          2.7286190691660446,
          1.5090014403263736,
          1.1275227270743577,
          1.8856247914438726,
          2.0133817409671693,
          2.6364254227947366,
          2.7971545154376445,
          2.1812141790086677,
          2.0716767001834135
         ]
        },
        {
         "mode": "lines",
         "name": "graph 2",
         "type": "scatter",
         "x": [
          0,
          0.005025125628140704,
          0.010050251256281407,
          0.01507537688442211,
          0.020100502512562814,
          0.02512562814070352,
          0.03015075376884422,
          0.035175879396984924,
          0.04020100502512563,
          0.04522613065326633,
          0.05025125628140704,
          0.05527638190954774,
          0.06030150753768844,
          0.06532663316582915,
          0.07035175879396985,
          0.07537688442211056,
          0.08040201005025126,
          0.08542713567839195,
          0.09045226130653267,
          0.09547738693467336,
          0.10050251256281408,
          0.10552763819095477,
          0.11055276381909548,
          0.11557788944723618,
          0.12060301507537688,
          0.12562814070351758,
          0.1306532663316583,
          0.135678391959799,
          0.1407035175879397,
          0.1457286432160804,
          0.15075376884422112,
          0.15577889447236182,
          0.16080402010050251,
          0.1658291457286432,
          0.1708542713567839,
          0.17587939698492464,
          0.18090452261306533,
          0.18592964824120603,
          0.19095477386934673,
          0.19597989949748745,
          0.20100502512562815,
          0.20603015075376885,
          0.21105527638190955,
          0.21608040201005024,
          0.22110552763819097,
          0.22613065326633167,
          0.23115577889447236,
          0.23618090452261306,
          0.24120603015075376,
          0.24623115577889448,
          0.25125628140703515,
          0.2562814070351759,
          0.2613065326633166,
          0.2663316582914573,
          0.271356783919598,
          0.2763819095477387,
          0.2814070351758794,
          0.2864321608040201,
          0.2914572864321608,
          0.2964824120603015,
          0.30150753768844224,
          0.3065326633165829,
          0.31155778894472363,
          0.3165829145728643,
          0.32160804020100503,
          0.32663316582914576,
          0.3316582914572864,
          0.33668341708542715,
          0.3417085427135678,
          0.34673366834170855,
          0.35175879396984927,
          0.35678391959798994,
          0.36180904522613067,
          0.36683417085427134,
          0.37185929648241206,
          0.3768844221105528,
          0.38190954773869346,
          0.3869346733668342,
          0.3919597989949749,
          0.3969849246231156,
          0.4020100502512563,
          0.40703517587939697,
          0.4120603015075377,
          0.4170854271356784,
          0.4221105527638191,
          0.4271356783919598,
          0.4321608040201005,
          0.4371859296482412,
          0.44221105527638194,
          0.4472361809045226,
          0.45226130653266333,
          0.457286432160804,
          0.4623115577889447,
          0.46733668341708545,
          0.4723618090452261,
          0.47738693467336685,
          0.4824120603015075,
          0.48743718592964824,
          0.49246231155778897,
          0.49748743718592964,
          0.5025125628140703,
          0.507537688442211,
          0.5125628140703518,
          0.5175879396984925,
          0.5226130653266332,
          0.5276381909547738,
          0.5326633165829145,
          0.5376884422110553,
          0.542713567839196,
          0.5477386934673367,
          0.5527638190954774,
          0.5577889447236181,
          0.5628140703517588,
          0.5678391959798995,
          0.5728643216080402,
          0.577889447236181,
          0.5829145728643216,
          0.5879396984924623,
          0.592964824120603,
          0.5979899497487438,
          0.6030150753768845,
          0.6080402010050251,
          0.6130653266331658,
          0.6180904522613065,
          0.6231155778894473,
          0.628140703517588,
          0.6331658291457286,
          0.6381909547738693,
          0.6432160804020101,
          0.6482412060301508,
          0.6532663316582915,
          0.6582914572864321,
          0.6633165829145728,
          0.6683417085427136,
          0.6733668341708543,
          0.678391959798995,
          0.6834170854271356,
          0.6884422110552764,
          0.6934673366834171,
          0.6984924623115578,
          0.7035175879396985,
          0.7085427135678392,
          0.7135678391959799,
          0.7185929648241206,
          0.7236180904522613,
          0.7286432160804021,
          0.7336683417085427,
          0.7386934673366834,
          0.7437185929648241,
          0.7487437185929648,
          0.7537688442211056,
          0.7587939698492463,
          0.7638190954773869,
          0.7688442211055276,
          0.7738693467336684,
          0.7788944723618091,
          0.7839195979899498,
          0.7889447236180904,
          0.7939698492462312,
          0.7989949748743719,
          0.8040201005025126,
          0.8090452261306533,
          0.8140703517587939,
          0.8190954773869347,
          0.8241206030150754,
          0.8291457286432161,
          0.8341708542713568,
          0.8391959798994975,
          0.8442211055276382,
          0.8492462311557789,
          0.8542713567839196,
          0.8592964824120604,
          0.864321608040201,
          0.8693467336683417,
          0.8743718592964824,
          0.8793969849246231,
          0.8844221105527639,
          0.8894472361809045,
          0.8944723618090452,
          0.8994974874371859,
          0.9045226130653267,
          0.9095477386934674,
          0.914572864321608,
          0.9195979899497487,
          0.9246231155778895,
          0.9296482412060302,
          0.9346733668341709,
          0.9396984924623115,
          0.9447236180904522,
          0.949748743718593,
          0.9547738693467337,
          0.9597989949748744,
          0.964824120603015,
          0.9698492462311558,
          0.9748743718592965,
          0.9798994974874372,
          0.9849246231155779,
          0.9899497487437187,
          0.9949748743718593,
          1
         ],
         "y": [
          -0.019101079568070865,
          -0.16085079568721128,
          0.5366592543295065,
          0.6670138362425795,
          -0.2047125772630261,
          0.525482231809007,
          0.3473806858223004,
          -0.04784654321253984,
          0.45330028847715176,
          -0.1299026855432924,
          -0.39246215277929614,
          -0.0832020045127489,
          0.4122000138736908,
          0.49935956985627605,
          -0.5105417989407902,
          0.5726066896787,
          0.09677540212724729,
          0.49326481975037223,
          -0.4458363192571397,
          -0.3587049993977265,
          0.15376498384792503,
          -0.030939427560096273,
          -0.5852963100738598,
          -0.19129222790969497,
          -0.09124278199639739,
          -0.6995887705139978,
          -0.028371242593811154,
          0.061780645254906064,
          -0.16088931584087218,
          -0.028132428745447247,
          0.45976549848008025,
          0.29874723225212657,
          0.016288473671293387,
          0.3915915201864951,
          -0.34839199986440805,
          -0.22180698964830514,
          0.14048530157415404,
          0.7771920615958644,
          -0.0215523206936486,
          0.5651266682874523,
          -0.17861160142289725,
          -0.8107571424413953,
          0.37189815097653633,
          0.3753678243576546,
          -0.05578654103653487,
          -0.4383767103983008,
          0.23756244660192807,
          -0.012723429241322574,
          -0.020218865526924083,
          -0.42716529893072147,
          -0.15284121200039347,
          -0.36274813950921253,
          -0.14365668398691164,
          0.29706175923975364,
          0.4577303663679171,
          0.3653596221244017,
          -0.6378740641876185,
          -0.08275229735129798,
          -0.3796571038187818,
          0.6226649483997806,
          -0.3619007015540803,
          0.47365410633609584,
          -0.6592392699452458,
          -0.18771062791565496,
          -0.6693488867971618,
          -0.1641387413062952,
          0.42255852829247226,
          0.3934026364469787,
          0.11921268077351749,
          1.0119981003389333,
          0.060644170365839314,
          0.2481670900781997,
          0.4832743866723422,
          0.14736543172702737,
          -0.2743815107894822,
          0.15836319864967457,
          0.1612567551813671,
          -0.45950515548274695,
          0.6069093675084045,
          -0.5746146107361481,
          0.4838088945062242,
          -1.0634528778566554,
          -0.11817980051536095,
          -0.0038529422872234324,
          0.51727451631946,
          -0.4266515941507229,
          0.13483479296244835,
          0.29214035583672787,
          0.01374979569550251,
          0.016831273820065062,
          0.1614383772292969,
          -0.2417369583592569,
          0.20672748892530557,
          -0.3307661466511309,
          0.4486550203527935,
          0.15624101036840812,
          0.2212438663535088,
          0.6154723543010063,
          0.42959917674840775,
          -0.029408357706662797,
          -0.3440501466928785,
          -0.08221322103544816,
          -0.5216373354134837,
          0.3513692211980722,
          0.48863354997445685,
          -0.5940287709678062,
          0.07761766291974345,
          -0.16605511104853166,
          -0.009547865681363045,
          -0.43392356164690504,
          0.05844067732280572,
          -0.43931760391644775,
          -0.10529750013016866,
          0.21539857089655784,
          0.07967209599318142,
          -0.32365695340630424,
          -0.31979764827604495,
          0.7358934907151986,
          -0.06066951269673935,
          0.37429258967027557,
          -0.5888528366775805,
          -0.012835123830606747,
          0.24962097002122083,
          0.4948778087307768,
          0.45604991957830476,
          -0.0041496816730284365,
          0.17206384312342976,
          0.2545690581172323,
          0.7732508925688244,
          0.09881300651385548,
          0.19234958895615936,
          0.31270718582198886,
          0.20278460559190578,
          0.16687064781942496,
          -0.13807746872960397,
          -0.4157933346811823,
          0.31119040492089867,
          0.026250734483626532,
          -0.032870354167743226,
          0.4658848032436928,
          0.7473387832423681,
          0.21464935241734198,
          0.3968722899439,
          0.2559735413007076,
          -0.32088752062590387,
          0.12242319751828071,
          -0.30499798897199953,
          -0.1921395370320328,
          -0.4196969995514622,
          0.43456516511017346,
          0.24328511986033724,
          -0.4710335992464673,
          0.09295244099685586,
          0.16290995473586198,
          0.9549596554558062,
          0.08585275172361788,
          0.5436540651517325,
          -0.36661947285029095,
          -0.011326484634357595,
          0.11260036550751645,
          0.5956033969313291,
          0.8235261603514625,
          -0.05151779616201533,
          0.6502566485394062,
          -0.15918089115571205,
          -0.3288947600267178,
          0.6135096222300775,
          1.0399504287918382,
          -0.29770966411781735,
          0.06231564724710969,
          0.08932386491738428,
          0.8812260710358442,
          0.31454149142991966,
          0.7808496914430221,
          -0.2149064946656127,
          0.7116512164335188,
          -0.28860792357557746,
          0.8038040560876253,
          0.6597775038636362,
          -0.13633417393902195,
          -0.3173090524044123,
          0.9385539797513198,
          -0.5102554244468833,
          0.7982052295136575,
          -0.6346679059855623,
          0.5416508382503136,
          0.3262222180641486,
          0.979322484480375,
          -0.42128189438408126,
          -0.8189844136697252,
          -0.02397447779000499,
          0.4177914074942134,
          -0.15058499947049764,
          0.5136202274683588,
          -0.6592031896238385,
          -0.00884037693245313,
          0.13485843609779793,
          -0.20518672009897246,
          -0.8302108351311257,
          -0.1841204244571466
         ]
        },
        {
         "mode": "lines",
         "name": "graph 3",
         "type": "scatter",
         "x": [
          0,
          0.005025125628140704,
          0.010050251256281407,
          0.01507537688442211,
          0.020100502512562814,
          0.02512562814070352,
          0.03015075376884422,
          0.035175879396984924,
          0.04020100502512563,
          0.04522613065326633,
          0.05025125628140704,
          0.05527638190954774,
          0.06030150753768844,
          0.06532663316582915,
          0.07035175879396985,
          0.07537688442211056,
          0.08040201005025126,
          0.08542713567839195,
          0.09045226130653267,
          0.09547738693467336,
          0.10050251256281408,
          0.10552763819095477,
          0.11055276381909548,
          0.11557788944723618,
          0.12060301507537688,
          0.12562814070351758,
          0.1306532663316583,
          0.135678391959799,
          0.1407035175879397,
          0.1457286432160804,
          0.15075376884422112,
          0.15577889447236182,
          0.16080402010050251,
          0.1658291457286432,
          0.1708542713567839,
          0.17587939698492464,
          0.18090452261306533,
          0.18592964824120603,
          0.19095477386934673,
          0.19597989949748745,
          0.20100502512562815,
          0.20603015075376885,
          0.21105527638190955,
          0.21608040201005024,
          0.22110552763819097,
          0.22613065326633167,
          0.23115577889447236,
          0.23618090452261306,
          0.24120603015075376,
          0.24623115577889448,
          0.25125628140703515,
          0.2562814070351759,
          0.2613065326633166,
          0.2663316582914573,
          0.271356783919598,
          0.2763819095477387,
          0.2814070351758794,
          0.2864321608040201,
          0.2914572864321608,
          0.2964824120603015,
          0.30150753768844224,
          0.3065326633165829,
          0.31155778894472363,
          0.3165829145728643,
          0.32160804020100503,
          0.32663316582914576,
          0.3316582914572864,
          0.33668341708542715,
          0.3417085427135678,
          0.34673366834170855,
          0.35175879396984927,
          0.35678391959798994,
          0.36180904522613067,
          0.36683417085427134,
          0.37185929648241206,
          0.3768844221105528,
          0.38190954773869346,
          0.3869346733668342,
          0.3919597989949749,
          0.3969849246231156,
          0.4020100502512563,
          0.40703517587939697,
          0.4120603015075377,
          0.4170854271356784,
          0.4221105527638191,
          0.4271356783919598,
          0.4321608040201005,
          0.4371859296482412,
          0.44221105527638194,
          0.4472361809045226,
          0.45226130653266333,
          0.457286432160804,
          0.4623115577889447,
          0.46733668341708545,
          0.4723618090452261,
          0.47738693467336685,
          0.4824120603015075,
          0.48743718592964824,
          0.49246231155778897,
          0.49748743718592964,
          0.5025125628140703,
          0.507537688442211,
          0.5125628140703518,
          0.5175879396984925,
          0.5226130653266332,
          0.5276381909547738,
          0.5326633165829145,
          0.5376884422110553,
          0.542713567839196,
          0.5477386934673367,
          0.5527638190954774,
          0.5577889447236181,
          0.5628140703517588,
          0.5678391959798995,
          0.5728643216080402,
          0.577889447236181,
          0.5829145728643216,
          0.5879396984924623,
          0.592964824120603,
          0.5979899497487438,
          0.6030150753768845,
          0.6080402010050251,
          0.6130653266331658,
          0.6180904522613065,
          0.6231155778894473,
          0.628140703517588,
          0.6331658291457286,
          0.6381909547738693,
          0.6432160804020101,
          0.6482412060301508,
          0.6532663316582915,
          0.6582914572864321,
          0.6633165829145728,
          0.6683417085427136,
          0.6733668341708543,
          0.678391959798995,
          0.6834170854271356,
          0.6884422110552764,
          0.6934673366834171,
          0.6984924623115578,
          0.7035175879396985,
          0.7085427135678392,
          0.7135678391959799,
          0.7185929648241206,
          0.7236180904522613,
          0.7286432160804021,
          0.7336683417085427,
          0.7386934673366834,
          0.7437185929648241,
          0.7487437185929648,
          0.7537688442211056,
          0.7587939698492463,
          0.7638190954773869,
          0.7688442211055276,
          0.7738693467336684,
          0.7788944723618091,
          0.7839195979899498,
          0.7889447236180904,
          0.7939698492462312,
          0.7989949748743719,
          0.8040201005025126,
          0.8090452261306533,
          0.8140703517587939,
          0.8190954773869347,
          0.8241206030150754,
          0.8291457286432161,
          0.8341708542713568,
          0.8391959798994975,
          0.8442211055276382,
          0.8492462311557789,
          0.8542713567839196,
          0.8592964824120604,
          0.864321608040201,
          0.8693467336683417,
          0.8743718592964824,
          0.8793969849246231,
          0.8844221105527639,
          0.8894472361809045,
          0.8944723618090452,
          0.8994974874371859,
          0.9045226130653267,
          0.9095477386934674,
          0.914572864321608,
          0.9195979899497487,
          0.9246231155778895,
          0.9296482412060302,
          0.9346733668341709,
          0.9396984924623115,
          0.9447236180904522,
          0.949748743718593,
          0.9547738693467337,
          0.9597989949748744,
          0.964824120603015,
          0.9698492462311558,
          0.9748743718592965,
          0.9798994974874372,
          0.9849246231155779,
          0.9899497487437187,
          0.9949748743718593,
          1
         ],
         "y": [
          -2.7022146694195093,
          -2.2177627819516044,
          -2.1657415514032725,
          -2.130309254269063,
          -2.2340215946386954,
          -1.0126374406707788,
          -2.036860794965186,
          -1.5459267930913208,
          -2.254366463638517,
          -1.6028525062326717,
          -0.7604881001998904,
          -1.825492099942518,
          -2.421055447780461,
          -2.388512428195153,
          -2.0841452321567773,
          -2.1488008663759004,
          -1.8498911499726416,
          -2.4154497403903874,
          -1.6539000917342952,
          -1.7917849705914546,
          -1.9082569197161883,
          -2.537800037478592,
          -1.836257047348084,
          -1.0881349009124406,
          -2.2062249074066678,
          -2.0145820325239483,
          -2.1032166726838004,
          -0.9751733890839165,
          -2.1480727525603895,
          -2.2653964394833235,
          -1.9597758716095521,
          -1.9324202443501286,
          -1.3046255373054985,
          -1.543815863301303,
          -2.2965008529942867,
          -2.3909524308388566,
          -2.84691580643515,
          -2.6048620312480844,
          -2.7782756322833624,
          -2.9783277311312273,
          -2.5923290433019837,
          -2.0000761330938586,
          -3.0990688346862774,
          -3.3982710447616675,
          -1.8012555761724762,
          -1.6982332086668788,
          -2.9300403549180234,
          -2.7732134782759434,
          -2.205219960182956,
          -3.0118363943575543,
          -1.1134987588486611,
          -1.4485897540596868,
          -1.5336261390547747,
          -2.033763789926128,
          -2.41118527634685,
          -2.496439950416861,
          -1.332025544254248,
          -1.8823374390905876,
          -1.6276623080442016,
          -1.4905280797254317,
          -1.1108216850097916,
          -2.1488560291071543,
          -2.640102538410103,
          -2.0095414631960664,
          -2.0138959327964003,
          -2.191383024541006,
          -1.6325217698907497,
          -2.523427264748402,
          -1.6085907225763605,
          -1.9695562977708225,
          -2.6775326191824647,
          -2.270791252615911,
          -2.1210865705517015,
          -2.079779968699332,
          -1.9443280167994559,
          -1.5937287592213063,
          -1.8632366427724925,
          -2.4854504763372947,
          -2.375704866526628,
          -1.7767267113320806,
          -1.193294894422424,
          -2.407780653042772,
          -2.206218697239397,
          -2.0083438320993876,
          -1.9728381959050294,
          -2.0318187768674996,
          -2.295236025069723,
          -1.0091370619082396,
          -2.0616160306101348,
          -1.8155302798389912,
          -2.304441704251625,
          -2.055689947742868,
          -1.6734367170039555,
          -2.2189025862281673,
          -2.347958194004131,
          -2.4716291256335507,
          -1.9203043082124938,
          -2.6950715213973986,
          -2.0623724017706615,
          -2.0037686247685937,
          -1.5696561033932874,
          -1.9611001711549236,
          -1.8447794005960172,
          -1.9627051768631625,
          -2.31751347675441,
          -2.1418785486741108,
          -1.340743957338518,
          -1.2824728595016808,
          -2.5081455015603593,
          -1.3444137120994855,
          -2.4526422154320393,
          -2.2721655473171563,
          -2.3412387555973786,
          -2.6917046693665494,
          -2.0544358042521833,
          -2.4903246684250133,
          -2.557936759934503,
          -1.3502256142342266,
          -1.4410598904891905,
          -2.2529768445869913,
          -2.3686663931037817,
          -1.9555428492495444,
          -1.9543108591287643,
          -1.7352263962683083,
          -0.8456085730697085,
          -1.346970794934563,
          -1.4689641006342469,
          -2.2398583727465438,
          -1.8491259256379284,
          -1.1226166188709121,
          -1.7914635902676461,
          -2.075496033464706,
          -1.940171521167254,
          -2.0489607132145204,
          -1.2824551641729252,
          -1.8498802574363453,
          -2.28458906021322,
          -1.4732174975586703,
          -2.6030101982370075,
          -1.496646024897848,
          -1.0443799298812975,
          -1.2881199745452,
          -1.9494026420884916,
          -2.433925900997816,
          -2.1552174490235636,
          -1.7290594509788684,
          -1.9954340381283333,
          -2.685752861375679,
          -2.2346705610678037,
          -1.5328411354382645,
          -2.0903885427654316,
          -2.060626092427976,
          -1.968816694033433,
          -2.146012045569807,
          -1.58064337215986,
          -2.4491753330663824,
          -1.6951758167548858,
          -1.7094023997206165,
          -1.1988476522299472,
          -0.972072544041273,
          -1.950853935837982,
          -3.051701283822395,
          -2.430512990467491,
          -1.849162902447647,
          -1.5788650458665432,
          -2.390794513125754,
          -3.1071929038340835,
          -2.237523081012048,
          -2.3064696821828896,
          -1.7441091655926497,
          -2.2840142136991495,
          -2.2703900384820126,
          -1.6692763975413345,
          -2.8141537413742763,
          -2.3006391427431634,
          -1.5380871658778652,
          -2.43689889072366,
          -2.453604567405872,
          -2.564572785680581,
          -2.703401128497233,
          -1.4684423469854997,
          -2.137907024295349,
          -1.9308769285467755,
          -1.7213283091734437,
          -2.085631453661142,
          -2.10348547792718,
          -2.3431899190860563,
          -2.598396927550561,
          -2.5606993504498035,
          -2.3284800194617947,
          -2.0518959234635235,
          -2.2557719305926436,
          -1.3065951967619784,
          -1.6737037657142024,
          -2.360449026409049,
          -1.7755397066367136,
          -1.2450509301778552,
          -1.922888983166929,
          -1.7008627079446392,
          -1.4070455395865502
         ]
        },
        {
         "mode": "lines",
         "name": "graph 4",
         "type": "scatter",
         "x": [
          0,
          0.005025125628140704,
          0.010050251256281407,
          0.01507537688442211,
          0.020100502512562814,
          0.02512562814070352,
          0.03015075376884422,
          0.035175879396984924,
          0.04020100502512563,
          0.04522613065326633,
          0.05025125628140704,
          0.05527638190954774,
          0.06030150753768844,
          0.06532663316582915,
          0.07035175879396985,
          0.07537688442211056,
          0.08040201005025126,
          0.08542713567839195,
          0.09045226130653267,
          0.09547738693467336,
          0.10050251256281408,
          0.10552763819095477,
          0.11055276381909548,
          0.11557788944723618,
          0.12060301507537688,
          0.12562814070351758,
          0.1306532663316583,
          0.135678391959799,
          0.1407035175879397,
          0.1457286432160804,
          0.15075376884422112,
          0.15577889447236182,
          0.16080402010050251,
          0.1658291457286432,
          0.1708542713567839,
          0.17587939698492464,
          0.18090452261306533,
          0.18592964824120603,
          0.19095477386934673,
          0.19597989949748745,
          0.20100502512562815,
          0.20603015075376885,
          0.21105527638190955,
          0.21608040201005024,
          0.22110552763819097,
          0.22613065326633167,
          0.23115577889447236,
          0.23618090452261306,
          0.24120603015075376,
          0.24623115577889448,
          0.25125628140703515,
          0.2562814070351759,
          0.2613065326633166,
          0.2663316582914573,
          0.271356783919598,
          0.2763819095477387,
          0.2814070351758794,
          0.2864321608040201,
          0.2914572864321608,
          0.2964824120603015,
          0.30150753768844224,
          0.3065326633165829,
          0.31155778894472363,
          0.3165829145728643,
          0.32160804020100503,
          0.32663316582914576,
          0.3316582914572864,
          0.33668341708542715,
          0.3417085427135678,
          0.34673366834170855,
          0.35175879396984927,
          0.35678391959798994,
          0.36180904522613067,
          0.36683417085427134,
          0.37185929648241206,
          0.3768844221105528,
          0.38190954773869346,
          0.3869346733668342,
          0.3919597989949749,
          0.3969849246231156,
          0.4020100502512563,
          0.40703517587939697,
          0.4120603015075377,
          0.4170854271356784,
          0.4221105527638191,
          0.4271356783919598,
          0.4321608040201005,
          0.4371859296482412,
          0.44221105527638194,
          0.4472361809045226,
          0.45226130653266333,
          0.457286432160804,
          0.4623115577889447,
          0.46733668341708545,
          0.4723618090452261,
          0.47738693467336685,
          0.4824120603015075,
          0.48743718592964824,
          0.49246231155778897,
          0.49748743718592964,
          0.5025125628140703,
          0.507537688442211,
          0.5125628140703518,
          0.5175879396984925,
          0.5226130653266332,
          0.5276381909547738,
          0.5326633165829145,
          0.5376884422110553,
          0.542713567839196,
          0.5477386934673367,
          0.5527638190954774,
          0.5577889447236181,
          0.5628140703517588,
          0.5678391959798995,
          0.5728643216080402,
          0.577889447236181,
          0.5829145728643216,
          0.5879396984924623,
          0.592964824120603,
          0.5979899497487438,
          0.6030150753768845,
          0.6080402010050251,
          0.6130653266331658,
          0.6180904522613065,
          0.6231155778894473,
          0.628140703517588,
          0.6331658291457286,
          0.6381909547738693,
          0.6432160804020101,
          0.6482412060301508,
          0.6532663316582915,
          0.6582914572864321,
          0.6633165829145728,
          0.6683417085427136,
          0.6733668341708543,
          0.678391959798995,
          0.6834170854271356,
          0.6884422110552764,
          0.6934673366834171,
          0.6984924623115578,
          0.7035175879396985,
          0.7085427135678392,
          0.7135678391959799,
          0.7185929648241206,
          0.7236180904522613,
          0.7286432160804021,
          0.7336683417085427,
          0.7386934673366834,
          0.7437185929648241,
          0.7487437185929648,
          0.7537688442211056,
          0.7587939698492463,
          0.7638190954773869,
          0.7688442211055276,
          0.7738693467336684,
          0.7788944723618091,
          0.7839195979899498,
          0.7889447236180904,
          0.7939698492462312,
          0.7989949748743719,
          0.8040201005025126,
          0.8090452261306533,
          0.8140703517587939,
          0.8190954773869347,
          0.8241206030150754,
          0.8291457286432161,
          0.8341708542713568,
          0.8391959798994975,
          0.8442211055276382,
          0.8492462311557789,
          0.8542713567839196,
          0.8592964824120604,
          0.864321608040201,
          0.8693467336683417,
          0.8743718592964824,
          0.8793969849246231,
          0.8844221105527639,
          0.8894472361809045,
          0.8944723618090452,
          0.8994974874371859,
          0.9045226130653267,
          0.9095477386934674,
          0.914572864321608,
          0.9195979899497487,
          0.9246231155778895,
          0.9296482412060302,
          0.9346733668341709,
          0.9396984924623115,
          0.9447236180904522,
          0.949748743718593,
          0.9547738693467337,
          0.9597989949748744,
          0.964824120603015,
          0.9698492462311558,
          0.9748743718592965,
          0.9798994974874372,
          0.9849246231155779,
          0.9899497487437187,
          0.9949748743718593,
          1
         ],
         "y": [
          3.1267914143726987,
          2.58786267130781,
          3.270950414573685,
          3.2666937760655665,
          3.421588954401856,
          2.6234868959330058,
          2.7418085271577075,
          2.9432071164594906,
          3.256665743891886,
          3.2405859971193696,
          2.686426265560026,
          2.993997361888363,
          3.1510714073913118,
          2.6686479984460356,
          2.833619659073066,
          3.178222484305206,
          3.003071942821323,
          2.885746018833459,
          3.427280116299956,
          2.921491114348935,
          3.201435185859509,
          3.0518873196424146,
          2.702826788399878,
          2.948220142787803,
          3.1051155997945155,
          2.7038457062294032,
          3.181943303476041,
          3.04953725920837,
          3.017337887146951,
          3.0091177137770893,
          3.0574537503322268,
          2.723465461528482,
          3.1358711247849858,
          3.1527088845375224,
          2.848052222287268,
          3.1272619762428495,
          3.0597584864949776,
          2.77375855973754,
          3.277229326129346,
          2.9408130155068815,
          3.234583927462089,
          2.9831866922812704,
          2.5744626852369406,
          3.248703506707613,
          3.011936013192647,
          3.3991652685501736,
          3.1805850319569258,
          3.024638679601856,
          2.6436698840432182,
          2.9948662249842393,
          3.1176021158159926,
          3.017860293366386,
          3.23938092300575,
          3.4066941695484694,
          2.695138588286788,
          2.8972750037814086,
          3.0244354329001357,
          2.825126927985536,
          2.9831536744976455,
          2.6796355083334165,
          3.0479223514554783,
          2.3165176582331504,
          2.8010357687301153,
          3.465977111820113,
          3.0658320991798558,
          2.8485167409463323,
          3.4958137421188105,
          3.477626883788095,
          3.307110235672922,
          2.975106992105397,
          3.028128308948885,
          2.847027289594471,
          3.021208482391061,
          2.687058273727902,
          3.515618025804322,
          2.763563173610989,
          2.9836614572850877,
          3.1072922558536766,
          3.294305558989341,
          2.7994399336727676,
          2.640282234913533,
          3.4023804528278223,
          3.3516343140726614,
          2.7221873106722656,
          2.770240106537829,
          3.0025784483145457,
          2.9600478956753227,
          2.532917896547317,
          2.8522862705119634,
          2.8283842956290024,
          2.5553711570864865,
          2.9254697840635173,
          2.959837307153165,
          2.8557825318434626,
          3.584382944004441,
          2.85689517052575,
          3.5347978663159934,
          3.4617340641909817,
          2.77959281226016,
          2.5979343343319266,
          2.1185038444506916,
          2.9607249840796652,
          2.4524957780081165,
          3.1454380752123963,
          3.523809784639659,
          3.044436539128751,
          2.747812131365459,
          2.8796885284527827,
          2.8596598043693815,
          2.9385954704010446,
          2.7314347380345443,
          3.692556499658962,
          3.5183904730340245,
          3.104788879047257,
          3.0669464952179664,
          2.901397792809112,
          3.2934465739994074,
          2.9750709808431934,
          2.5422722641896445,
          3.412276257587611,
          3.0481808858016826,
          2.904420181490198,
          2.3896571232909434,
          2.8466562867630207,
          3.0765954724895384,
          2.80986646245806,
          3.256062660102645,
          3.0918604577067876,
          3.2651959574795977,
          2.5150748180579723,
          3.292121383482992,
          2.916638085678711,
          2.8099953950475345,
          2.503251283120259,
          3.143397457361066,
          2.7537278249102495,
          3.0468915562143417,
          2.8101816704198668,
          3.194332265959458,
          3.1504209963165883,
          3.204419566100604,
          2.9227952322371173,
          2.9008491987581464,
          3.0700123308153406,
          2.928119841224333,
          3.2476959576535576,
          2.8465504505658377,
          3.025796712082571,
          2.5122570536776725,
          2.841096838599406,
          2.9896232544220154,
          2.8715820232684024,
          3.101763864014282,
          2.9318865476204974,
          3.0080725904449097,
          3.383897242378203,
          2.7585008080192353,
          3.2775693069646934,
          2.781368628716786,
          3.502890989846883,
          2.92323155095358,
          2.489333586981556,
          3.329092395098015,
          3.012103992997177,
          2.8169482378525585,
          3.2232947319234264,
          2.9295418642720517,
          3.283251082550393,
          2.660636612539018,
          3.1295552968281237,
          2.5166749153180534,
          2.803177449799753,
          3.0001036521664175,
          3.220246556672991,
          2.5024930011182636,
          3.2306272213668246,
          3.2095155160941125,
          3.2038105942400055,
          2.985513006815169,
          3.1331765321557024,
          2.993757288453128,
          2.545103594225411,
          2.9961310901947886,
          2.854269537703697,
          3.2605674127482582,
          2.66374463795286,
          2.906600619022859,
          2.965977810074477,
          2.8077552598122804,
          3.0007374300699188,
          3.2132491189094057,
          3.0560879953834137,
          2.9855192206173435,
          3.328508295460442,
          3.3378306571295764,
          2.8158519305073453,
          3.063770287018123,
          2.970511268108568,
          2.657649032225348,
          2.9178135729439894
         ]
        }
       ],
       "layout": {
        "autosize": true,
        "template": {
         "data": {
          "bar": [
           {
            "error_x": {
             "color": "#2a3f5f"
            },
            "error_y": {
             "color": "#2a3f5f"
            },
            "marker": {
             "line": {
              "color": "#E5ECF6",
              "width": 0.5
             },
             "pattern": {
              "fillmode": "overlay",
              "size": 10,
              "solidity": 0.2
             }
            },
            "type": "bar"
           }
          ],
          "barpolar": [
           {
            "marker": {
             "line": {
              "color": "#E5ECF6",
              "width": 0.5
             },
             "pattern": {
              "fillmode": "overlay",
              "size": 10,
              "solidity": 0.2
             }
            },
            "type": "barpolar"
           }
          ],
          "carpet": [
           {
            "aaxis": {
             "endlinecolor": "#2a3f5f",
             "gridcolor": "white",
             "linecolor": "white",
             "minorgridcolor": "white",
             "startlinecolor": "#2a3f5f"
            },
            "baxis": {
             "endlinecolor": "#2a3f5f",
             "gridcolor": "white",
             "linecolor": "white",
             "minorgridcolor": "white",
             "startlinecolor": "#2a3f5f"
            },
            "type": "carpet"
           }
          ],
          "choropleth": [
           {
            "colorbar": {
             "outlinewidth": 0,
             "ticks": ""
            },
            "type": "choropleth"
           }
          ],
          "contour": [
           {
            "colorbar": {
             "outlinewidth": 0,
             "ticks": ""
            },
            "colorscale": [
             [
              0,
              "#0d0887"
             ],
             [
              0.1111111111111111,
              "#46039f"
             ],
             [
              0.2222222222222222,
              "#7201a8"
             ],
             [
              0.3333333333333333,
              "#9c179e"
             ],
             [
              0.4444444444444444,
              "#bd3786"
             ],
             [
              0.5555555555555556,
              "#d8576b"
             ],
             [
              0.6666666666666666,
              "#ed7953"
             ],
             [
              0.7777777777777778,
              "#fb9f3a"
             ],
             [
              0.8888888888888888,
              "#fdca26"
             ],
             [
              1,
              "#f0f921"
             ]
            ],
            "type": "contour"
           }
          ],
          "contourcarpet": [
           {
            "colorbar": {
             "outlinewidth": 0,
             "ticks": ""
            },
            "type": "contourcarpet"
           }
          ],
          "heatmap": [
           {
            "colorbar": {
             "outlinewidth": 0,
             "ticks": ""
            },
            "colorscale": [
             [
              0,
              "#0d0887"
             ],
             [
              0.1111111111111111,
              "#46039f"
             ],
             [
              0.2222222222222222,
              "#7201a8"
             ],
             [
              0.3333333333333333,
              "#9c179e"
             ],
             [
              0.4444444444444444,
              "#bd3786"
             ],
             [
              0.5555555555555556,
              "#d8576b"
             ],
             [
              0.6666666666666666,
              "#ed7953"
             ],
             [
              0.7777777777777778,
              "#fb9f3a"
             ],
             [
              0.8888888888888888,
              "#fdca26"
             ],
             [
              1,
              "#f0f921"
             ]
            ],
            "type": "heatmap"
           }
          ],
          "heatmapgl": [
           {
            "colorbar": {
             "outlinewidth": 0,
             "ticks": ""
            },
            "colorscale": [
             [
              0,
              "#0d0887"
             ],
             [
              0.1111111111111111,
              "#46039f"
             ],
             [
              0.2222222222222222,
              "#7201a8"
             ],
             [
              0.3333333333333333,
              "#9c179e"
             ],
             [
              0.4444444444444444,
              "#bd3786"
             ],
             [
              0.5555555555555556,
              "#d8576b"
             ],
             [
              0.6666666666666666,
              "#ed7953"
             ],
             [
              0.7777777777777778,
              "#fb9f3a"
             ],
             [
              0.8888888888888888,
              "#fdca26"
             ],
             [
              1,
              "#f0f921"
             ]
            ],
            "type": "heatmapgl"
           }
          ],
          "histogram": [
           {
            "marker": {
             "pattern": {
              "fillmode": "overlay",
              "size": 10,
              "solidity": 0.2
             }
            },
            "type": "histogram"
           }
          ],
          "histogram2d": [
           {
            "colorbar": {
             "outlinewidth": 0,
             "ticks": ""
            },
            "colorscale": [
             [
              0,
              "#0d0887"
             ],
             [
              0.1111111111111111,
              "#46039f"
             ],
             [
              0.2222222222222222,
              "#7201a8"
             ],
             [
              0.3333333333333333,
              "#9c179e"
             ],
             [
              0.4444444444444444,
              "#bd3786"
             ],
             [
              0.5555555555555556,
              "#d8576b"
             ],
             [
              0.6666666666666666,
              "#ed7953"
             ],
             [
              0.7777777777777778,
              "#fb9f3a"
             ],
             [
              0.8888888888888888,
              "#fdca26"
             ],
             [
              1,
              "#f0f921"
             ]
            ],
            "type": "histogram2d"
           }
          ],
          "histogram2dcontour": [
           {
            "colorbar": {
             "outlinewidth": 0,
             "ticks": ""
            },
            "colorscale": [
             [
              0,
              "#0d0887"
             ],
             [
              0.1111111111111111,
              "#46039f"
             ],
             [
              0.2222222222222222,
              "#7201a8"
             ],
             [
              0.3333333333333333,
              "#9c179e"
             ],
             [
              0.4444444444444444,
              "#bd3786"
             ],
             [
              0.5555555555555556,
              "#d8576b"
             ],
             [
              0.6666666666666666,
              "#ed7953"
             ],
             [
              0.7777777777777778,
              "#fb9f3a"
             ],
             [
              0.8888888888888888,
              "#fdca26"
             ],
             [
              1,
              "#f0f921"
             ]
            ],
            "type": "histogram2dcontour"
           }
          ],
          "mesh3d": [
           {
            "colorbar": {
             "outlinewidth": 0,
             "ticks": ""
            },
            "type": "mesh3d"
           }
          ],
          "parcoords": [
           {
            "line": {
             "colorbar": {
              "outlinewidth": 0,
              "ticks": ""
             }
            },
            "type": "parcoords"
           }
          ],
          "pie": [
           {
            "automargin": true,
            "type": "pie"
           }
          ],
          "scatter": [
           {
            "fillpattern": {
             "fillmode": "overlay",
             "size": 10,
             "solidity": 0.2
            },
            "type": "scatter"
           }
          ],
          "scatter3d": [
           {
            "line": {
             "colorbar": {
              "outlinewidth": 0,
              "ticks": ""
             }
            },
            "marker": {
             "colorbar": {
              "outlinewidth": 0,
              "ticks": ""
             }
            },
            "type": "scatter3d"
           }
          ],
          "scattercarpet": [
           {
            "marker": {
             "colorbar": {
              "outlinewidth": 0,
              "ticks": ""
             }
            },
            "type": "scattercarpet"
           }
          ],
          "scattergeo": [
           {
            "marker": {
             "colorbar": {
              "outlinewidth": 0,
              "ticks": ""
             }
            },
            "type": "scattergeo"
           }
          ],
          "scattergl": [
           {
            "marker": {
             "colorbar": {
              "outlinewidth": 0,
              "ticks": ""
             }
            },
            "type": "scattergl"
           }
          ],
          "scattermapbox": [
           {
            "marker": {
             "colorbar": {
              "outlinewidth": 0,
              "ticks": ""
             }
            },
            "type": "scattermapbox"
           }
          ],
          "scatterpolar": [
           {
            "marker": {
             "colorbar": {
              "outlinewidth": 0,
              "ticks": ""
             }
            },
            "type": "scatterpolar"
           }
          ],
          "scatterpolargl": [
           {
            "marker": {
             "colorbar": {
              "outlinewidth": 0,
              "ticks": ""
             }
            },
            "type": "scatterpolargl"
           }
          ],
          "scatterternary": [
           {
            "marker": {
             "colorbar": {
              "outlinewidth": 0,
              "ticks": ""
             }
            },
            "type": "scatterternary"
           }
          ],
          "surface": [
           {
            "colorbar": {
             "outlinewidth": 0,
             "ticks": ""
            },
            "colorscale": [
             [
              0,
              "#0d0887"
             ],
             [
              0.1111111111111111,
              "#46039f"
             ],
             [
              0.2222222222222222,
              "#7201a8"
             ],
             [
              0.3333333333333333,
              "#9c179e"
             ],
             [
              0.4444444444444444,
              "#bd3786"
             ],
             [
              0.5555555555555556,
              "#d8576b"
             ],
             [
              0.6666666666666666,
              "#ed7953"
             ],
             [
              0.7777777777777778,
              "#fb9f3a"
             ],
             [
              0.8888888888888888,
              "#fdca26"
             ],
             [
              1,
              "#f0f921"
             ]
            ],
            "type": "surface"
           }
          ],
          "table": [
           {
            "cells": {
             "fill": {
              "color": "#EBF0F8"
             },
             "line": {
              "color": "white"
             }
            },
            "header": {
             "fill": {
              "color": "#C8D4E3"
             },
             "line": {
              "color": "white"
             }
            },
            "type": "table"
           }
          ]
         },
         "layout": {
          "annotationdefaults": {
           "arrowcolor": "#2a3f5f",
           "arrowhead": 0,
           "arrowwidth": 1
          },
          "autotypenumbers": "strict",
          "coloraxis": {
           "colorbar": {
            "outlinewidth": 0,
            "ticks": ""
           }
          },
          "colorscale": {
           "diverging": [
            [
             0,
             "#8e0152"
            ],
            [
             0.1,
             "#c51b7d"
            ],
            [
             0.2,
             "#de77ae"
            ],
            [
             0.3,
             "#f1b6da"
            ],
            [
             0.4,
             "#fde0ef"
            ],
            [
             0.5,
             "#f7f7f7"
            ],
            [
             0.6,
             "#e6f5d0"
            ],
            [
             0.7,
             "#b8e186"
            ],
            [
             0.8,
             "#7fbc41"
            ],
            [
             0.9,
             "#4d9221"
            ],
            [
             1,
             "#276419"
            ]
           ],
           "sequential": [
            [
             0,
             "#0d0887"
            ],
            [
             0.1111111111111111,
             "#46039f"
            ],
            [
             0.2222222222222222,
             "#7201a8"
            ],
            [
             0.3333333333333333,
             "#9c179e"
            ],
            [
             0.4444444444444444,
             "#bd3786"
            ],
            [
             0.5555555555555556,
             "#d8576b"
            ],
            [
             0.6666666666666666,
             "#ed7953"
            ],
            [
             0.7777777777777778,
             "#fb9f3a"
            ],
            [
             0.8888888888888888,
             "#fdca26"
            ],
            [
             1,
             "#f0f921"
            ]
           ],
           "sequentialminus": [
            [
             0,
             "#0d0887"
            ],
            [
             0.1111111111111111,
             "#46039f"
            ],
            [
             0.2222222222222222,
             "#7201a8"
            ],
            [
             0.3333333333333333,
             "#9c179e"
            ],
            [
             0.4444444444444444,
             "#bd3786"
            ],
            [
             0.5555555555555556,
             "#d8576b"
            ],
            [
             0.6666666666666666,
             "#ed7953"
            ],
            [
             0.7777777777777778,
             "#fb9f3a"
            ],
            [
             0.8888888888888888,
             "#fdca26"
            ],
            [
             1,
             "#f0f921"
            ]
           ]
          },
          "colorway": [
           "#636efa",
           "#EF553B",
           "#00cc96",
           "#ab63fa",
           "#FFA15A",
           "#19d3f3",
           "#FF6692",
           "#B6E880",
           "#FF97FF",
           "#FECB52"
          ],
          "font": {
           "color": "#2a3f5f"
          },
          "geo": {
           "bgcolor": "white",
           "lakecolor": "white",
           "landcolor": "#E5ECF6",
           "showlakes": true,
           "showland": true,
           "subunitcolor": "white"
          },
          "hoverlabel": {
           "align": "left"
          },
          "hovermode": "closest",
          "mapbox": {
           "style": "light"
          },
          "paper_bgcolor": "white",
          "plot_bgcolor": "#E5ECF6",
          "polar": {
           "angularaxis": {
            "gridcolor": "white",
            "linecolor": "white",
            "ticks": ""
           },
           "bgcolor": "#E5ECF6",
           "radialaxis": {
            "gridcolor": "white",
            "linecolor": "white",
            "ticks": ""
           }
          },
          "scene": {
           "xaxis": {
            "backgroundcolor": "#E5ECF6",
            "gridcolor": "white",
            "gridwidth": 2,
            "linecolor": "white",
            "showbackground": true,
            "ticks": "",
            "zerolinecolor": "white"
           },
           "yaxis": {
            "backgroundcolor": "#E5ECF6",
            "gridcolor": "white",
            "gridwidth": 2,
            "linecolor": "white",
            "showbackground": true,
            "ticks": "",
            "zerolinecolor": "white"
           },
           "zaxis": {
            "backgroundcolor": "#E5ECF6",
            "gridcolor": "white",
            "gridwidth": 2,
            "linecolor": "white",
            "showbackground": true,
            "ticks": "",
            "zerolinecolor": "white"
           }
          },
          "shapedefaults": {
           "line": {
            "color": "#2a3f5f"
           }
          },
          "ternary": {
           "aaxis": {
            "gridcolor": "white",
            "linecolor": "white",
            "ticks": ""
           },
           "baxis": {
            "gridcolor": "white",
            "linecolor": "white",
            "ticks": ""
           },
           "bgcolor": "#E5ECF6",
           "caxis": {
            "gridcolor": "white",
            "linecolor": "white",
            "ticks": ""
           }
          },
          "title": {
           "x": 0.05
          },
          "xaxis": {
           "automargin": true,
           "gridcolor": "white",
           "linecolor": "white",
           "ticks": "",
           "title": {
            "standoff": 15
           },
           "zerolinecolor": "white",
           "zerolinewidth": 2
          },
          "yaxis": {
           "automargin": true,
           "gridcolor": "white",
           "linecolor": "white",
           "ticks": "",
           "title": {
            "standoff": 15
           },
           "zerolinecolor": "white",
           "zerolinewidth": 2
          }
         }
        },
        "xaxis": {
         "autorange": true,
         "range": [
          0,
          1
         ],
         "type": "linear"
        },
        "yaxis": {
         "autorange": true,
         "range": [
          -3.7922059083405912,
          4.086491363237886
         ],
         "type": "linear"
        }
       }
      },
      "image/png": "[encoded data removed]",
      "text/html": [
       "<div>                            <div id=\"5e9f8f42-3a78-47b4-bad4-5d381d699fc1\" class=\"plotly-graph-div\" style=\"height:525px; width:100%;\"></div>            <script type=\"text/javascript\">                require([\"plotly\"], function(Plotly) {                    window.PLOTLYENV=window.PLOTLYENV || {};                                    if (document.getElementById(\"5e9f8f42-3a78-47b4-bad4-5d381d699fc1\")) {                    Plotly.newPlot(                        \"5e9f8f42-3a78-47b4-bad4-5d381d699fc1\",                        [{\"mode\":\"lines\",\"name\":\"graph 1\",\"x\":[0.0,0.005025125628140704,0.010050251256281407,0.01507537688442211,0.020100502512562814,0.02512562814070352,0.03015075376884422,0.035175879396984924,0.04020100502512563,0.04522613065326633,0.05025125628140704,0.05527638190954774,0.06030150753768844,0.06532663316582915,0.07035175879396985,0.07537688442211056,0.08040201005025126,0.08542713567839195,0.09045226130653267,0.09547738693467336,0.10050251256281408,0.10552763819095477,0.11055276381909548,0.11557788944723618,0.12060301507537688,0.12562814070351758,0.1306532663316583,0.135678391959799,0.1407035175879397,0.1457286432160804,0.15075376884422112,0.15577889447236182,0.16080402010050251,0.1658291457286432,0.1708542713567839,0.17587939698492464,0.18090452261306533,0.18592964824120603,0.19095477386934673,0.19597989949748745,0.20100502512562815,0.20603015075376885,0.21105527638190955,0.21608040201005024,0.22110552763819097,0.22613065326633167,0.23115577889447236,0.23618090452261306,0.24120603015075376,0.24623115577889448,0.25125628140703515,0.2562814070351759,0.2613065326633166,0.2663316582914573,0.271356783919598,0.2763819095477387,0.2814070351758794,0.2864321608040201,0.2914572864321608,0.2964824120603015,0.30150753768844224,0.3065326633165829,0.31155778894472363,0.3165829145728643,0.32160804020100503,0.32663316582914576,0.3316582914572864,0.33668341708542715,0.3417085427135678,0.34673366834170855,0.35175879396984927,0.35678391959798994,0.36180904522613067,0.36683417085427134,0.37185929648241206,0.3768844221105528,0.38190954773869346,0.3869346733668342,0.3919597989949749,0.3969849246231156,0.4020100502512563,0.40703517587939697,0.4120603015075377,0.4170854271356784,0.4221105527638191,0.4271356783919598,0.4321608040201005,0.4371859296482412,0.44221105527638194,0.4472361809045226,0.45226130653266333,0.457286432160804,0.4623115577889447,0.46733668341708545,0.4723618090452261,0.47738693467336685,0.4824120603015075,0.48743718592964824,0.49246231155778897,0.49748743718592964,0.5025125628140703,0.507537688442211,0.5125628140703518,0.5175879396984925,0.5226130653266332,0.5276381909547738,0.5326633165829145,0.5376884422110553,0.542713567839196,0.5477386934673367,0.5527638190954774,0.5577889447236181,0.5628140703517588,0.5678391959798995,0.5728643216080402,0.577889447236181,0.5829145728643216,0.5879396984924623,0.592964824120603,0.5979899497487438,0.6030150753768845,0.6080402010050251,0.6130653266331658,0.6180904522613065,0.6231155778894473,0.628140703517588,0.6331658291457286,0.6381909547738693,0.6432160804020101,0.6482412060301508,0.6532663316582915,0.6582914572864321,0.6633165829145728,0.6683417085427136,0.6733668341708543,0.678391959798995,0.6834170854271356,0.6884422110552764,0.6934673366834171,0.6984924623115578,0.7035175879396985,0.7085427135678392,0.7135678391959799,0.7185929648241206,0.7236180904522613,0.7286432160804021,0.7336683417085427,0.7386934673366834,0.7437185929648241,0.7487437185929648,0.7537688442211056,0.7587939698492463,0.7638190954773869,0.7688442211055276,0.7738693467336684,0.7788944723618091,0.7839195979899498,0.7889447236180904,0.7939698492462312,0.7989949748743719,0.8040201005025126,0.8090452261306533,0.8140703517587939,0.8190954773869347,0.8241206030150754,0.8291457286432161,0.8341708542713568,0.8391959798994975,0.8442211055276382,0.8492462311557789,0.8542713567839196,0.8592964824120604,0.864321608040201,0.8693467336683417,0.8743718592964824,0.8793969849246231,0.8844221105527639,0.8894472361809045,0.8944723618090452,0.8994974874371859,0.9045226130653267,0.9095477386934674,0.914572864321608,0.9195979899497487,0.9246231155778895,0.9296482412060302,0.9346733668341709,0.9396984924623115,0.9447236180904522,0.949748743718593,0.9547738693467337,0.9597989949748744,0.964824120603015,0.9698492462311558,0.9748743718592965,0.9798994974874372,0.9849246231155779,0.9899497487437187,0.9949748743718593,1.0],\"y\":[2.2377704231458386,2.130084325762242,2.1157006677737957,1.9485174935641707,1.412940563576715,1.8234713314915383,1.7538937097934737,2.786073559297534,2.8946822685534803,1.6764985439806073,1.8758694474275426,2.19771983845761,1.8898026010428939,1.9767145458112316,2.212590922988973,1.7734507841447331,2.515155270383997,3.053705783739254,2.107371227837854,1.9353651210912854,1.5034339016737963,1.984199487753893,2.0562280557669426,0.9131329197302631,2.2285567713858456,1.0248927591404764,2.0601191244125974,3.0138162131782398,2.033751936676755,2.1811282116985504,0.5179519018311978,3.036787513033019,1.4012298409240893,1.7516825443903847,2.6657820589814007,2.3882880043453367,1.1692465859280219,2.642045560961513,1.652586275212287,2.9028195485546746,1.6315527276964343,1.3475974696030049,2.5126521587665205,2.0881383626798455,3.367294719993594,1.9745857399473625,1.6824613541466582,2.173726535314626,1.4751959038937064,2.6425089269615363,1.983672387992446,2.1768127632535808,1.9177057926179968,1.7267862492093615,2.610396109863922,2.977722198879145,2.320014075674613,2.157381969630668,1.9386411016604959,1.5049582217743005,1.8419790138584835,1.3563306129213046,2.626157701571162,1.7505611763168747,1.9243230088423684,2.2492832956473694,1.9548039119782874,0.6587357292012157,1.725514935862187,1.4805843844195015,2.3435837260245624,1.5613363992788054,2.7091977070712785,1.9782204048198488,1.8096154285389037,2.0459539628691243,2.2015375324082274,0.7694148755737857,2.329895776708959,1.7374408004637454,1.7374495071684373,2.141303064056869,1.6516837194597769,0.8523874170577002,2.7245655319166038,2.102224842753124,1.4970426682045777,2.0986008809725916,1.8207553480515055,1.4866688312927097,2.1746585339431217,1.7098035448397448,1.6472709471256564,2.0616748331713532,1.936797882573096,2.5992540402821342,2.393705088884624,0.9026138277905573,2.189856925744333,1.8317212417993534,2.2607749945299918,2.313567079011679,2.8966931129862505,2.8077124901487758,1.2558055751133403,1.9097220534914443,2.422573916800467,2.4735035370035963,0.7927609460182119,2.2553357669041754,2.336926555378296,1.0382158916342412,2.286342460450928,0.9112421909194903,1.4218996360928098,2.221987337796641,2.8286440101176913,1.4646753181511403,2.0856840017153995,2.4155166936291943,2.2792459023742997,1.3141506909945433,1.9948171712769123,2.1902212211284104,1.942151423029027,2.6784495755185915,1.3382578563382954,1.8674141153832062,2.003925482177173,2.5966777111717434,2.1832773343389698,3.027901375113929,2.0677108000872915,2.1847061554493226,1.5162067366734733,2.20344167959334,2.544177231181407,1.7129677991874825,1.9341601071506953,1.8355952094608876,2.6617797003950057,2.693562524951327,2.461571149138358,2.3864275670915314,2.1136272957639775,2.241370378709855,2.168805876834823,2.0869622375097268,1.6952491924435806,2.0186029255951174,1.4486317522032273,3.183384073597649,0.24021058283207353,2.2973436128017215,2.0509347407530454,2.0724515918599433,2.3762748433848064,1.429752440386082,2.3415387686008753,1.1564431152235448,2.567550133194082,1.8914708407360352,1.3773899269848298,1.0263781829059704,2.2118569400812818,2.041339372773476,2.3072580991470213,2.335341784700019,2.5002816596688637,3.0047936353241624,2.4120288556213096,2.036038142374493,2.2536495092136364,2.4008120568909055,2.9507538763238363,0.942444429773738,2.8391223498145055,1.7723824472362901,1.8826934395195494,1.6867735579323755,2.084730578001881,2.2898607505186788,1.7834349155685711,1.779113281848748,1.69140875543877,1.1994238786045883,2.250598215246698,1.8715506799809054,2.457288470599223,1.8841596702826129,3.219427304339725,2.7286190691660446,1.5090014403263736,1.1275227270743577,1.8856247914438726,2.0133817409671693,2.6364254227947366,2.7971545154376445,2.1812141790086677,2.0716767001834135],\"type\":\"scatter\"},{\"mode\":\"lines\",\"name\":\"graph 2\",\"x\":[0.0,0.005025125628140704,0.010050251256281407,0.01507537688442211,0.020100502512562814,0.02512562814070352,0.03015075376884422,0.035175879396984924,0.04020100502512563,0.04522613065326633,0.05025125628140704,0.05527638190954774,0.06030150753768844,0.06532663316582915,0.07035175879396985,0.07537688442211056,0.08040201005025126,0.08542713567839195,0.09045226130653267,0.09547738693467336,0.10050251256281408,0.10552763819095477,0.11055276381909548,0.11557788944723618,0.12060301507537688,0.12562814070351758,0.1306532663316583,0.135678391959799,0.1407035175879397,0.1457286432160804,0.15075376884422112,0.15577889447236182,0.16080402010050251,0.1658291457286432,0.1708542713567839,0.17587939698492464,0.18090452261306533,0.18592964824120603,0.19095477386934673,0.19597989949748745,0.20100502512562815,0.20603015075376885,0.21105527638190955,0.21608040201005024,0.22110552763819097,0.22613065326633167,0.23115577889447236,0.23618090452261306,0.24120603015075376,0.24623115577889448,0.25125628140703515,0.2562814070351759,0.2613065326633166,0.2663316582914573,0.271356783919598,0.2763819095477387,0.2814070351758794,0.2864321608040201,0.2914572864321608,0.2964824120603015,0.30150753768844224,0.3065326633165829,0.31155778894472363,0.3165829145728643,0.32160804020100503,0.32663316582914576,0.3316582914572864,0.33668341708542715,0.3417085427135678,0.34673366834170855,0.35175879396984927,0.35678391959798994,0.36180904522613067,0.36683417085427134,0.37185929648241206,0.3768844221105528,0.38190954773869346,0.3869346733668342,0.3919597989949749,0.3969849246231156,0.4020100502512563,0.40703517587939697,0.4120603015075377,0.4170854271356784,0.4221105527638191,0.4271356783919598,0.4321608040201005,0.4371859296482412,0.44221105527638194,0.4472361809045226,0.45226130653266333,0.457286432160804,0.4623115577889447,0.46733668341708545,0.4723618090452261,0.47738693467336685,0.4824120603015075,0.48743718592964824,0.49246231155778897,0.49748743718592964,0.5025125628140703,0.507537688442211,0.5125628140703518,0.5175879396984925,0.5226130653266332,0.5276381909547738,0.5326633165829145,0.5376884422110553,0.542713567839196,0.5477386934673367,0.5527638190954774,0.5577889447236181,0.5628140703517588,0.5678391959798995,0.5728643216080402,0.577889447236181,0.5829145728643216,0.5879396984924623,0.592964824120603,0.5979899497487438,0.6030150753768845,0.6080402010050251,0.6130653266331658,0.6180904522613065,0.6231155778894473,0.628140703517588,0.6331658291457286,0.6381909547738693,0.6432160804020101,0.6482412060301508,0.6532663316582915,0.6582914572864321,0.6633165829145728,0.6683417085427136,0.6733668341708543,0.678391959798995,0.6834170854271356,0.6884422110552764,0.6934673366834171,0.6984924623115578,0.7035175879396985,0.7085427135678392,0.7135678391959799,0.7185929648241206,0.7236180904522613,0.7286432160804021,0.7336683417085427,0.7386934673366834,0.7437185929648241,0.7487437185929648,0.7537688442211056,0.7587939698492463,0.7638190954773869,0.7688442211055276,0.7738693467336684,0.7788944723618091,0.7839195979899498,0.7889447236180904,0.7939698492462312,0.7989949748743719,0.8040201005025126,0.8090452261306533,0.8140703517587939,0.8190954773869347,0.8241206030150754,0.8291457286432161,0.8341708542713568,0.8391959798994975,0.8442211055276382,0.8492462311557789,0.8542713567839196,0.8592964824120604,0.864321608040201,0.8693467336683417,0.8743718592964824,0.8793969849246231,0.8844221105527639,0.8894472361809045,0.8944723618090452,0.8994974874371859,0.9045226130653267,0.9095477386934674,0.914572864321608,0.9195979899497487,0.9246231155778895,0.9296482412060302,0.9346733668341709,0.9396984924623115,0.9447236180904522,0.949748743718593,0.9547738693467337,0.9597989949748744,0.964824120603015,0.9698492462311558,0.9748743718592965,0.9798994974874372,0.9849246231155779,0.9899497487437187,0.9949748743718593,1.0],\"y\":[-0.019101079568070865,-0.16085079568721128,0.5366592543295065,0.6670138362425795,-0.2047125772630261,0.525482231809007,0.3473806858223004,-0.04784654321253984,0.45330028847715176,-0.1299026855432924,-0.39246215277929614,-0.0832020045127489,0.4122000138736908,0.49935956985627605,-0.5105417989407902,0.5726066896787,0.09677540212724729,0.49326481975037223,-0.4458363192571397,-0.3587049993977265,0.15376498384792503,-0.030939427560096273,-0.5852963100738598,-0.19129222790969497,-0.09124278199639739,-0.6995887705139978,-0.028371242593811154,0.061780645254906064,-0.16088931584087218,-0.028132428745447247,0.45976549848008025,0.29874723225212657,0.016288473671293387,0.3915915201864951,-0.34839199986440805,-0.22180698964830514,0.14048530157415404,0.7771920615958644,-0.0215523206936486,0.5651266682874523,-0.17861160142289725,-0.8107571424413953,0.37189815097653633,0.3753678243576546,-0.05578654103653487,-0.4383767103983008,0.23756244660192807,-0.012723429241322574,-0.020218865526924083,-0.42716529893072147,-0.15284121200039347,-0.36274813950921253,-0.14365668398691164,0.29706175923975364,0.4577303663679171,0.3653596221244017,-0.6378740641876185,-0.08275229735129798,-0.3796571038187818,0.6226649483997806,-0.3619007015540803,0.47365410633609584,-0.6592392699452458,-0.18771062791565496,-0.6693488867971618,-0.1641387413062952,0.42255852829247226,0.3934026364469787,0.11921268077351749,1.0119981003389333,0.060644170365839314,0.2481670900781997,0.4832743866723422,0.14736543172702737,-0.2743815107894822,0.15836319864967457,0.1612567551813671,-0.45950515548274695,0.6069093675084045,-0.5746146107361481,0.4838088945062242,-1.0634528778566554,-0.11817980051536095,-0.0038529422872234324,0.51727451631946,-0.4266515941507229,0.13483479296244835,0.29214035583672787,0.01374979569550251,0.016831273820065062,0.1614383772292969,-0.2417369583592569,0.20672748892530557,-0.3307661466511309,0.4486550203527935,0.15624101036840812,0.2212438663535088,0.6154723543010063,0.42959917674840775,-0.029408357706662797,-0.3440501466928785,-0.08221322103544816,-0.5216373354134837,0.3513692211980722,0.48863354997445685,-0.5940287709678062,0.07761766291974345,-0.16605511104853166,-0.009547865681363045,-0.43392356164690504,0.05844067732280572,-0.43931760391644775,-0.10529750013016866,0.21539857089655784,0.07967209599318142,-0.32365695340630424,-0.31979764827604495,0.7358934907151986,-0.06066951269673935,0.37429258967027557,-0.5888528366775805,-0.012835123830606747,0.24962097002122083,0.4948778087307768,0.45604991957830476,-0.0041496816730284365,0.17206384312342976,0.2545690581172323,0.7732508925688244,0.09881300651385548,0.19234958895615936,0.31270718582198886,0.20278460559190578,0.16687064781942496,-0.13807746872960397,-0.4157933346811823,0.31119040492089867,0.026250734483626532,-0.032870354167743226,0.4658848032436928,0.7473387832423681,0.21464935241734198,0.3968722899439,0.2559735413007076,-0.32088752062590387,0.12242319751828071,-0.30499798897199953,-0.1921395370320328,-0.4196969995514622,0.43456516511017346,0.24328511986033724,-0.4710335992464673,0.09295244099685586,0.16290995473586198,0.9549596554558062,0.08585275172361788,0.5436540651517325,-0.36661947285029095,-0.011326484634357595,0.11260036550751645,0.5956033969313291,0.8235261603514625,-0.05151779616201533,0.6502566485394062,-0.15918089115571205,-0.3288947600267178,0.6135096222300775,1.0399504287918382,-0.29770966411781735,0.06231564724710969,0.08932386491738428,0.8812260710358442,0.31454149142991966,0.7808496914430221,-0.2149064946656127,0.7116512164335188,-0.28860792357557746,0.8038040560876253,0.6597775038636362,-0.13633417393902195,-0.3173090524044123,0.9385539797513198,-0.5102554244468833,0.7982052295136575,-0.6346679059855623,0.5416508382503136,0.3262222180641486,0.979322484480375,-0.42128189438408126,-0.8189844136697252,-0.02397447779000499,0.4177914074942134,-0.15058499947049764,0.5136202274683588,-0.6592031896238385,-0.00884037693245313,0.13485843609779793,-0.20518672009897246,-0.8302108351311257,-0.1841204244571466],\"type\":\"scatter\"},{\"mode\":\"lines\",\"name\":\"graph 3\",\"x\":[0.0,0.005025125628140704,0.010050251256281407,0.01507537688442211,0.020100502512562814,0.02512562814070352,0.03015075376884422,0.035175879396984924,0.04020100502512563,0.04522613065326633,0.05025125628140704,0.05527638190954774,0.06030150753768844,0.06532663316582915,0.07035175879396985,0.07537688442211056,0.08040201005025126,0.08542713567839195,0.09045226130653267,0.09547738693467336,0.10050251256281408,0.10552763819095477,0.11055276381909548,0.11557788944723618,0.12060301507537688,0.12562814070351758,0.1306532663316583,0.135678391959799,0.1407035175879397,0.1457286432160804,0.15075376884422112,0.15577889447236182,0.16080402010050251,0.1658291457286432,0.1708542713567839,0.17587939698492464,0.18090452261306533,0.18592964824120603,0.19095477386934673,0.19597989949748745,0.20100502512562815,0.20603015075376885,0.21105527638190955,0.21608040201005024,0.22110552763819097,0.22613065326633167,0.23115577889447236,0.23618090452261306,0.24120603015075376,0.24623115577889448,0.25125628140703515,0.2562814070351759,0.2613065326633166,0.2663316582914573,0.271356783919598,0.2763819095477387,0.2814070351758794,0.2864321608040201,0.2914572864321608,0.2964824120603015,0.30150753768844224,0.3065326633165829,0.31155778894472363,0.3165829145728643,0.32160804020100503,0.32663316582914576,0.3316582914572864,0.33668341708542715,0.3417085427135678,0.34673366834170855,0.35175879396984927,0.35678391959798994,0.36180904522613067,0.36683417085427134,0.37185929648241206,0.3768844221105528,0.38190954773869346,0.3869346733668342,0.3919597989949749,0.3969849246231156,0.4020100502512563,0.40703517587939697,0.4120603015075377,0.4170854271356784,0.4221105527638191,0.4271356783919598,0.4321608040201005,0.4371859296482412,0.44221105527638194,0.4472361809045226,0.45226130653266333,0.457286432160804,0.4623115577889447,0.46733668341708545,0.4723618090452261,0.47738693467336685,0.4824120603015075,0.48743718592964824,0.49246231155778897,0.49748743718592964,0.5025125628140703,0.507537688442211,0.5125628140703518,0.5175879396984925,0.5226130653266332,0.5276381909547738,0.5326633165829145,0.5376884422110553,0.542713567839196,0.5477386934673367,0.5527638190954774,0.5577889447236181,0.5628140703517588,0.5678391959798995,0.5728643216080402,0.577889447236181,0.5829145728643216,0.5879396984924623,0.592964824120603,0.5979899497487438,0.6030150753768845,0.6080402010050251,0.6130653266331658,0.6180904522613065,0.6231155778894473,0.628140703517588,0.6331658291457286,0.6381909547738693,0.6432160804020101,0.6482412060301508,0.6532663316582915,0.6582914572864321,0.6633165829145728,0.6683417085427136,0.6733668341708543,0.678391959798995,0.6834170854271356,0.6884422110552764,0.6934673366834171,0.6984924623115578,0.7035175879396985,0.7085427135678392,0.7135678391959799,0.7185929648241206,0.7236180904522613,0.7286432160804021,0.7336683417085427,0.7386934673366834,0.7437185929648241,0.7487437185929648,0.7537688442211056,0.7587939698492463,0.7638190954773869,0.7688442211055276,0.7738693467336684,0.7788944723618091,0.7839195979899498,0.7889447236180904,0.7939698492462312,0.7989949748743719,0.8040201005025126,0.8090452261306533,0.8140703517587939,0.8190954773869347,0.8241206030150754,0.8291457286432161,0.8341708542713568,0.8391959798994975,0.8442211055276382,0.8492462311557789,0.8542713567839196,0.8592964824120604,0.864321608040201,0.8693467336683417,0.8743718592964824,0.8793969849246231,0.8844221105527639,0.8894472361809045,0.8944723618090452,0.8994974874371859,0.9045226130653267,0.9095477386934674,0.914572864321608,0.9195979899497487,0.9246231155778895,0.9296482412060302,0.9346733668341709,0.9396984924623115,0.9447236180904522,0.949748743718593,0.9547738693467337,0.9597989949748744,0.964824120603015,0.9698492462311558,0.9748743718592965,0.9798994974874372,0.9849246231155779,0.9899497487437187,0.9949748743718593,1.0],\"y\":[-2.7022146694195093,-2.2177627819516044,-2.1657415514032725,-2.130309254269063,-2.2340215946386954,-1.0126374406707788,-2.036860794965186,-1.5459267930913208,-2.254366463638517,-1.6028525062326717,-0.7604881001998904,-1.825492099942518,-2.421055447780461,-2.388512428195153,-2.0841452321567773,-2.1488008663759004,-1.8498911499726416,-2.4154497403903874,-1.6539000917342952,-1.7917849705914546,-1.9082569197161883,-2.537800037478592,-1.836257047348084,-1.0881349009124406,-2.2062249074066678,-2.0145820325239483,-2.1032166726838004,-0.9751733890839165,-2.1480727525603895,-2.2653964394833235,-1.9597758716095521,-1.9324202443501286,-1.3046255373054985,-1.543815863301303,-2.2965008529942867,-2.3909524308388566,-2.84691580643515,-2.6048620312480844,-2.7782756322833624,-2.9783277311312273,-2.5923290433019837,-2.0000761330938586,-3.0990688346862774,-3.3982710447616675,-1.8012555761724762,-1.6982332086668788,-2.9300403549180234,-2.7732134782759434,-2.205219960182956,-3.0118363943575543,-1.1134987588486611,-1.4485897540596868,-1.5336261390547747,-2.033763789926128,-2.41118527634685,-2.496439950416861,-1.332025544254248,-1.8823374390905876,-1.6276623080442016,-1.4905280797254317,-1.1108216850097916,-2.1488560291071543,-2.640102538410103,-2.0095414631960664,-2.0138959327964003,-2.191383024541006,-1.6325217698907497,-2.523427264748402,-1.6085907225763605,-1.9695562977708225,-2.6775326191824647,-2.270791252615911,-2.1210865705517015,-2.079779968699332,-1.9443280167994559,-1.5937287592213063,-1.8632366427724925,-2.4854504763372947,-2.375704866526628,-1.7767267113320806,-1.193294894422424,-2.407780653042772,-2.206218697239397,-2.0083438320993876,-1.9728381959050294,-2.0318187768674996,-2.295236025069723,-1.0091370619082396,-2.0616160306101348,-1.8155302798389912,-2.304441704251625,-2.055689947742868,-1.6734367170039555,-2.2189025862281673,-2.347958194004131,-2.4716291256335507,-1.9203043082124938,-2.6950715213973986,-2.0623724017706615,-2.0037686247685937,-1.5696561033932874,-1.9611001711549236,-1.8447794005960172,-1.9627051768631625,-2.31751347675441,-2.1418785486741108,-1.340743957338518,-1.2824728595016808,-2.5081455015603593,-1.3444137120994855,-2.4526422154320393,-2.2721655473171563,-2.3412387555973786,-2.6917046693665494,-2.0544358042521833,-2.4903246684250133,-2.557936759934503,-1.3502256142342266,-1.4410598904891905,-2.2529768445869913,-2.3686663931037817,-1.9555428492495444,-1.9543108591287643,-1.7352263962683083,-0.8456085730697085,-1.346970794934563,-1.4689641006342469,-2.2398583727465438,-1.8491259256379284,-1.1226166188709121,-1.7914635902676461,-2.075496033464706,-1.940171521167254,-2.0489607132145204,-1.2824551641729252,-1.8498802574363453,-2.28458906021322,-1.4732174975586703,-2.6030101982370075,-1.496646024897848,-1.0443799298812975,-1.2881199745452,-1.9494026420884916,-2.433925900997816,-2.1552174490235636,-1.7290594509788684,-1.9954340381283333,-2.685752861375679,-2.2346705610678037,-1.5328411354382645,-2.0903885427654316,-2.060626092427976,-1.968816694033433,-2.146012045569807,-1.58064337215986,-2.4491753330663824,-1.6951758167548858,-1.7094023997206165,-1.1988476522299472,-0.972072544041273,-1.950853935837982,-3.051701283822395,-2.430512990467491,-1.849162902447647,-1.5788650458665432,-2.390794513125754,-3.1071929038340835,-2.237523081012048,-2.3064696821828896,-1.7441091655926497,-2.2840142136991495,-2.2703900384820126,-1.6692763975413345,-2.8141537413742763,-2.3006391427431634,-1.5380871658778652,-2.43689889072366,-2.453604567405872,-2.564572785680581,-2.703401128497233,-1.4684423469854997,-2.137907024295349,-1.9308769285467755,-1.7213283091734437,-2.085631453661142,-2.10348547792718,-2.3431899190860563,-2.598396927550561,-2.5606993504498035,-2.3284800194617947,-2.0518959234635235,-2.2557719305926436,-1.3065951967619784,-1.6737037657142024,-2.360449026409049,-1.7755397066367136,-1.2450509301778552,-1.922888983166929,-1.7008627079446392,-1.4070455395865502],\"type\":\"scatter\"},{\"mode\":\"lines\",\"name\":\"graph 4\",\"x\":[0.0,0.005025125628140704,0.010050251256281407,0.01507537688442211,0.020100502512562814,0.02512562814070352,0.03015075376884422,0.035175879396984924,0.04020100502512563,0.04522613065326633,0.05025125628140704,0.05527638190954774,0.06030150753768844,0.06532663316582915,0.07035175879396985,0.07537688442211056,0.08040201005025126,0.08542713567839195,0.09045226130653267,0.09547738693467336,0.10050251256281408,0.10552763819095477,0.11055276381909548,0.11557788944723618,0.12060301507537688,0.12562814070351758,0.1306532663316583,0.135678391959799,0.1407035175879397,0.1457286432160804,0.15075376884422112,0.15577889447236182,0.16080402010050251,0.1658291457286432,0.1708542713567839,0.17587939698492464,0.18090452261306533,0.18592964824120603,0.19095477386934673,0.19597989949748745,0.20100502512562815,0.20603015075376885,0.21105527638190955,0.21608040201005024,0.22110552763819097,0.22613065326633167,0.23115577889447236,0.23618090452261306,0.24120603015075376,0.24623115577889448,0.25125628140703515,0.2562814070351759,0.2613065326633166,0.2663316582914573,0.271356783919598,0.2763819095477387,0.2814070351758794,0.2864321608040201,0.2914572864321608,0.2964824120603015,0.30150753768844224,0.3065326633165829,0.31155778894472363,0.3165829145728643,0.32160804020100503,0.32663316582914576,0.3316582914572864,0.33668341708542715,0.3417085427135678,0.34673366834170855,0.35175879396984927,0.35678391959798994,0.36180904522613067,0.36683417085427134,0.37185929648241206,0.3768844221105528,0.38190954773869346,0.3869346733668342,0.3919597989949749,0.3969849246231156,0.4020100502512563,0.40703517587939697,0.4120603015075377,0.4170854271356784,0.4221105527638191,0.4271356783919598,0.4321608040201005,0.4371859296482412,0.44221105527638194,0.4472361809045226,0.45226130653266333,0.457286432160804,0.4623115577889447,0.46733668341708545,0.4723618090452261,0.47738693467336685,0.4824120603015075,0.48743718592964824,0.49246231155778897,0.49748743718592964,0.5025125628140703,0.507537688442211,0.5125628140703518,0.5175879396984925,0.5226130653266332,0.5276381909547738,0.5326633165829145,0.5376884422110553,0.542713567839196,0.5477386934673367,0.5527638190954774,0.5577889447236181,0.5628140703517588,0.5678391959798995,0.5728643216080402,0.577889447236181,0.5829145728643216,0.5879396984924623,0.592964824120603,0.5979899497487438,0.6030150753768845,0.6080402010050251,0.6130653266331658,0.6180904522613065,0.6231155778894473,0.628140703517588,0.6331658291457286,0.6381909547738693,0.6432160804020101,0.6482412060301508,0.6532663316582915,0.6582914572864321,0.6633165829145728,0.6683417085427136,0.6733668341708543,0.678391959798995,0.6834170854271356,0.6884422110552764,0.6934673366834171,0.6984924623115578,0.7035175879396985,0.7085427135678392,0.7135678391959799,0.7185929648241206,0.7236180904522613,0.7286432160804021,0.7336683417085427,0.7386934673366834,0.7437185929648241,0.7487437185929648,0.7537688442211056,0.7587939698492463,0.7638190954773869,0.7688442211055276,0.7738693467336684,0.7788944723618091,0.7839195979899498,0.7889447236180904,0.7939698492462312,0.7989949748743719,0.8040201005025126,0.8090452261306533,0.8140703517587939,0.8190954773869347,0.8241206030150754,0.8291457286432161,0.8341708542713568,0.8391959798994975,0.8442211055276382,0.8492462311557789,0.8542713567839196,0.8592964824120604,0.864321608040201,0.8693467336683417,0.8743718592964824,0.8793969849246231,0.8844221105527639,0.8894472361809045,0.8944723618090452,0.8994974874371859,0.9045226130653267,0.9095477386934674,0.914572864321608,0.9195979899497487,0.9246231155778895,0.9296482412060302,0.9346733668341709,0.9396984924623115,0.9447236180904522,0.949748743718593,0.9547738693467337,0.9597989949748744,0.964824120603015,0.9698492462311558,0.9748743718592965,0.9798994974874372,0.9849246231155779,0.9899497487437187,0.9949748743718593,1.0],\"y\":[3.1267914143726987,2.58786267130781,3.270950414573685,3.2666937760655665,3.421588954401856,2.6234868959330058,2.7418085271577075,2.9432071164594906,3.256665743891886,3.2405859971193696,2.686426265560026,2.993997361888363,3.1510714073913118,2.6686479984460356,2.833619659073066,3.178222484305206,3.003071942821323,2.885746018833459,3.427280116299956,2.921491114348935,3.201435185859509,3.0518873196424146,2.702826788399878,2.948220142787803,3.1051155997945155,2.7038457062294032,3.181943303476041,3.04953725920837,3.017337887146951,3.0091177137770893,3.0574537503322268,2.723465461528482,3.1358711247849858,3.1527088845375224,2.848052222287268,3.1272619762428495,3.0597584864949776,2.77375855973754,3.277229326129346,2.9408130155068815,3.234583927462089,2.9831866922812704,2.5744626852369406,3.248703506707613,3.011936013192647,3.3991652685501736,3.1805850319569258,3.024638679601856,2.6436698840432182,2.9948662249842393,3.1176021158159926,3.017860293366386,3.23938092300575,3.4066941695484694,2.695138588286788,2.8972750037814086,3.0244354329001357,2.825126927985536,2.9831536744976455,2.6796355083334165,3.0479223514554783,2.3165176582331504,2.8010357687301153,3.465977111820113,3.0658320991798558,2.8485167409463323,3.4958137421188105,3.477626883788095,3.307110235672922,2.975106992105397,3.028128308948885,2.847027289594471,3.021208482391061,2.687058273727902,3.515618025804322,2.763563173610989,2.9836614572850877,3.1072922558536766,3.294305558989341,2.7994399336727676,2.640282234913533,3.4023804528278223,3.3516343140726614,2.7221873106722656,2.770240106537829,3.0025784483145457,2.9600478956753227,2.532917896547317,2.8522862705119634,2.8283842956290024,2.5553711570864865,2.9254697840635173,2.959837307153165,2.8557825318434626,3.584382944004441,2.85689517052575,3.5347978663159934,3.4617340641909817,2.77959281226016,2.5979343343319266,2.1185038444506916,2.9607249840796652,2.4524957780081165,3.1454380752123963,3.523809784639659,3.044436539128751,2.747812131365459,2.8796885284527827,2.8596598043693815,2.9385954704010446,2.7314347380345443,3.692556499658962,3.5183904730340245,3.104788879047257,3.0669464952179664,2.901397792809112,3.2934465739994074,2.9750709808431934,2.5422722641896445,3.412276257587611,3.0481808858016826,2.904420181490198,2.3896571232909434,2.8466562867630207,3.0765954724895384,2.80986646245806,3.256062660102645,3.0918604577067876,3.2651959574795977,2.5150748180579723,3.292121383482992,2.916638085678711,2.8099953950475345,2.503251283120259,3.143397457361066,2.7537278249102495,3.0468915562143417,2.8101816704198668,3.194332265959458,3.1504209963165883,3.204419566100604,2.9227952322371173,2.9008491987581464,3.0700123308153406,2.928119841224333,3.2476959576535576,2.8465504505658377,3.025796712082571,2.5122570536776725,2.841096838599406,2.9896232544220154,2.8715820232684024,3.101763864014282,2.9318865476204974,3.0080725904449097,3.383897242378203,2.7585008080192353,3.2775693069646934,2.781368628716786,3.502890989846883,2.92323155095358,2.489333586981556,3.329092395098015,3.012103992997177,2.8169482378525585,3.2232947319234264,2.9295418642720517,3.283251082550393,2.660636612539018,3.1295552968281237,2.5166749153180534,2.803177449799753,3.0001036521664175,3.220246556672991,2.5024930011182636,3.2306272213668246,3.2095155160941125,3.2038105942400055,2.985513006815169,3.1331765321557024,2.993757288453128,2.545103594225411,2.9961310901947886,2.854269537703697,3.2605674127482582,2.66374463795286,2.906600619022859,2.965977810074477,2.8077552598122804,3.0007374300699188,3.2132491189094057,3.0560879953834137,2.9855192206173435,3.328508295460442,3.3378306571295764,2.8158519305073453,3.063770287018123,2.970511268108568,2.657649032225348,2.9178135729439894],\"type\":\"scatter\"}],                        {\"template\":{\"data\":{\"histogram2dcontour\":[{\"type\":\"histogram2dcontour\",\"colorbar\":{\"outlinewidth\":0,\"ticks\":\"\"},\"colorscale\":[[0.0,\"#0d0887\"],[0.1111111111111111,\"#46039f\"],[0.2222222222222222,\"#7201a8\"],[0.3333333333333333,\"#9c179e\"],[0.4444444444444444,\"#bd3786\"],[0.5555555555555556,\"#d8576b\"],[0.6666666666666666,\"#ed7953\"],[0.7777777777777778,\"#fb9f3a\"],[0.8888888888888888,\"#fdca26\"],[1.0,\"#f0f921\"]]}],\"choropleth\":[{\"type\":\"choropleth\",\"colorbar\":{\"outlinewidth\":0,\"ticks\":\"\"}}],\"histogram2d\":[{\"type\":\"histogram2d\",\"colorbar\":{\"outlinewidth\":0,\"ticks\":\"\"},\"colorscale\":[[0.0,\"#0d0887\"],[0.1111111111111111,\"#46039f\"],[0.2222222222222222,\"#7201a8\"],[0.3333333333333333,\"#9c179e\"],[0.4444444444444444,\"#bd3786\"],[0.5555555555555556,\"#d8576b\"],[0.6666666666666666,\"#ed7953\"],[0.7777777777777778,\"#fb9f3a\"],[0.8888888888888888,\"#fdca26\"],[1.0,\"#f0f921\"]]}],\"heatmap\":[{\"type\":\"heatmap\",\"colorbar\":{\"outlinewidth\":0,\"ticks\":\"\"},\"colorscale\":[[0.0,\"#0d0887\"],[0.1111111111111111,\"#46039f\"],[0.2222222222222222,\"#7201a8\"],[0.3333333333333333,\"#9c179e\"],[0.4444444444444444,\"#bd3786\"],[0.5555555555555556,\"#d8576b\"],[0.6666666666666666,\"#ed7953\"],[0.7777777777777778,\"#fb9f3a\"],[0.8888888888888888,\"#fdca26\"],[1.0,\"#f0f921\"]]}],\"heatmapgl\":[{\"type\":\"heatmapgl\",\"colorbar\":{\"outlinewidth\":0,\"ticks\":\"\"},\"colorscale\":[[0.0,\"#0d0887\"],[0.1111111111111111,\"#46039f\"],[0.2222222222222222,\"#7201a8\"],[0.3333333333333333,\"#9c179e\"],[0.4444444444444444,\"#bd3786\"],[0.5555555555555556,\"#d8576b\"],[0.6666666666666666,\"#ed7953\"],[0.7777777777777778,\"#fb9f3a\"],[0.8888888888888888,\"#fdca26\"],[1.0,\"#f0f921\"]]}],\"contourcarpet\":[{\"type\":\"contourcarpet\",\"colorbar\":{\"outlinewidth\":0,\"ticks\":\"\"}}],\"contour\":[{\"type\":\"contour\",\"colorbar\":{\"outlinewidth\":0,\"ticks\":\"\"},\"colorscale\":[[0.0,\"#0d0887\"],[0.1111111111111111,\"#46039f\"],[0.2222222222222222,\"#7201a8\"],[0.3333333333333333,\"#9c179e\"],[0.4444444444444444,\"#bd3786\"],[0.5555555555555556,\"#d8576b\"],[0.6666666666666666,\"#ed7953\"],[0.7777777777777778,\"#fb9f3a\"],[0.8888888888888888,\"#fdca26\"],[1.0,\"#f0f921\"]]}],\"surface\":[{\"type\":\"surface\",\"colorbar\":{\"outlinewidth\":0,\"ticks\":\"\"},\"colorscale\":[[0.0,\"#0d0887\"],[0.1111111111111111,\"#46039f\"],[0.2222222222222222,\"#7201a8\"],[0.3333333333333333,\"#9c179e\"],[0.4444444444444444,\"#bd3786\"],[0.5555555555555556,\"#d8576b\"],[0.6666666666666666,\"#ed7953\"],[0.7777777777777778,\"#fb9f3a\"],[0.8888888888888888,\"#fdca26\"],[1.0,\"#f0f921\"]]}],\"mesh3d\":[{\"type\":\"mesh3d\",\"colorbar\":{\"outlinewidth\":0,\"ticks\":\"\"}}],\"scatter\":[{\"fillpattern\":{\"fillmode\":\"overlay\",\"size\":10,\"solidity\":0.2},\"type\":\"scatter\"}],\"parcoords\":[{\"type\":\"parcoords\",\"line\":{\"colorbar\":{\"outlinewidth\":0,\"ticks\":\"\"}}}],\"scatterpolargl\":[{\"type\":\"scatterpolargl\",\"marker\":{\"colorbar\":{\"outlinewidth\":0,\"ticks\":\"\"}}}],\"bar\":[{\"error_x\":{\"color\":\"#2a3f5f\"},\"error_y\":{\"color\":\"#2a3f5f\"},\"marker\":{\"line\":{\"color\":\"#E5ECF6\",\"width\":0.5},\"pattern\":{\"fillmode\":\"overlay\",\"size\":10,\"solidity\":0.2}},\"type\":\"bar\"}],\"scattergeo\":[{\"type\":\"scattergeo\",\"marker\":{\"colorbar\":{\"outlinewidth\":0,\"ticks\":\"\"}}}],\"scatterpolar\":[{\"type\":\"scatterpolar\",\"marker\":{\"colorbar\":{\"outlinewidth\":0,\"ticks\":\"\"}}}],\"histogram\":[{\"marker\":{\"pattern\":{\"fillmode\":\"overlay\",\"size\":10,\"solidity\":0.2}},\"type\":\"histogram\"}],\"scattergl\":[{\"type\":\"scattergl\",\"marker\":{\"colorbar\":{\"outlinewidth\":0,\"ticks\":\"\"}}}],\"scatter3d\":[{\"type\":\"scatter3d\",\"line\":{\"colorbar\":{\"outlinewidth\":0,\"ticks\":\"\"}},\"marker\":{\"colorbar\":{\"outlinewidth\":0,\"ticks\":\"\"}}}],\"scattermapbox\":[{\"type\":\"scattermapbox\",\"marker\":{\"colorbar\":{\"outlinewidth\":0,\"ticks\":\"\"}}}],\"scatterternary\":[{\"type\":\"scatterternary\",\"marker\":{\"colorbar\":{\"outlinewidth\":0,\"ticks\":\"\"}}}],\"scattercarpet\":[{\"type\":\"scattercarpet\",\"marker\":{\"colorbar\":{\"outlinewidth\":0,\"ticks\":\"\"}}}],\"carpet\":[{\"aaxis\":{\"endlinecolor\":\"#2a3f5f\",\"gridcolor\":\"white\",\"linecolor\":\"white\",\"minorgridcolor\":\"white\",\"startlinecolor\":\"#2a3f5f\"},\"baxis\":{\"endlinecolor\":\"#2a3f5f\",\"gridcolor\":\"white\",\"linecolor\":\"white\",\"minorgridcolor\":\"white\",\"startlinecolor\":\"#2a3f5f\"},\"type\":\"carpet\"}],\"table\":[{\"cells\":{\"fill\":{\"color\":\"#EBF0F8\"},\"line\":{\"color\":\"white\"}},\"header\":{\"fill\":{\"color\":\"#C8D4E3\"},\"line\":{\"color\":\"white\"}},\"type\":\"table\"}],\"barpolar\":[{\"marker\":{\"line\":{\"color\":\"#E5ECF6\",\"width\":0.5},\"pattern\":{\"fillmode\":\"overlay\",\"size\":10,\"solidity\":0.2}},\"type\":\"barpolar\"}],\"pie\":[{\"automargin\":true,\"type\":\"pie\"}]},\"layout\":{\"autotypenumbers\":\"strict\",\"colorway\":[\"#636efa\",\"#EF553B\",\"#00cc96\",\"#ab63fa\",\"#FFA15A\",\"#19d3f3\",\"#FF6692\",\"#B6E880\",\"#FF97FF\",\"#FECB52\"],\"font\":{\"color\":\"#2a3f5f\"},\"hovermode\":\"closest\",\"hoverlabel\":{\"align\":\"left\"},\"paper_bgcolor\":\"white\",\"plot_bgcolor\":\"#E5ECF6\",\"polar\":{\"bgcolor\":\"#E5ECF6\",\"angularaxis\":{\"gridcolor\":\"white\",\"linecolor\":\"white\",\"ticks\":\"\"},\"radialaxis\":{\"gridcolor\":\"white\",\"linecolor\":\"white\",\"ticks\":\"\"}},\"ternary\":{\"bgcolor\":\"#E5ECF6\",\"aaxis\":{\"gridcolor\":\"white\",\"linecolor\":\"white\",\"ticks\":\"\"},\"baxis\":{\"gridcolor\":\"white\",\"linecolor\":\"white\",\"ticks\":\"\"},\"caxis\":{\"gridcolor\":\"white\",\"linecolor\":\"white\",\"ticks\":\"\"}},\"coloraxis\":{\"colorbar\":{\"outlinewidth\":0,\"ticks\":\"\"}},\"colorscale\":{\"sequential\":[[0.0,\"#0d0887\"],[0.1111111111111111,\"#46039f\"],[0.2222222222222222,\"#7201a8\"],[0.3333333333333333,\"#9c179e\"],[0.4444444444444444,\"#bd3786\"],[0.5555555555555556,\"#d8576b\"],[0.6666666666666666,\"#ed7953\"],[0.7777777777777778,\"#fb9f3a\"],[0.8888888888888888,\"#fdca26\"],[1.0,\"#f0f921\"]],\"sequentialminus\":[[0.0,\"#0d0887\"],[0.1111111111111111,\"#46039f\"],[0.2222222222222222,\"#7201a8\"],[0.3333333333333333,\"#9c179e\"],[0.4444444444444444,\"#bd3786\"],[0.5555555555555556,\"#d8576b\"],[0.6666666666666666,\"#ed7953\"],[0.7777777777777778,\"#fb9f3a\"],[0.8888888888888888,\"#fdca26\"],[1.0,\"#f0f921\"]],\"diverging\":[[0,\"#8e0152\"],[0.1,\"#c51b7d\"],[0.2,\"#de77ae\"],[0.3,\"#f1b6da\"],[0.4,\"#fde0ef\"],[0.5,\"#f7f7f7\"],[0.6,\"#e6f5d0\"],[0.7,\"#b8e186\"],[0.8,\"#7fbc41\"],[0.9,\"#4d9221\"],[1,\"#276419\"]]},\"xaxis\":{\"gridcolor\":\"white\",\"linecolor\":\"white\",\"ticks\":\"\",\"title\":{\"standoff\":15},\"zerolinecolor\":\"white\",\"automargin\":true,\"zerolinewidth\":2},\"yaxis\":{\"gridcolor\":\"white\",\"linecolor\":\"white\",\"ticks\":\"\",\"title\":{\"standoff\":15},\"zerolinecolor\":\"white\",\"automargin\":true,\"zerolinewidth\":2},\"scene\":{\"xaxis\":{\"backgroundcolor\":\"#E5ECF6\",\"gridcolor\":\"white\",\"linecolor\":\"white\",\"showbackground\":true,\"ticks\":\"\",\"zerolinecolor\":\"white\",\"gridwidth\":2},\"yaxis\":{\"backgroundcolor\":\"#E5ECF6\",\"gridcolor\":\"white\",\"linecolor\":\"white\",\"showbackground\":true,\"ticks\":\"\",\"zerolinecolor\":\"white\",\"gridwidth\":2},\"zaxis\":{\"backgroundcolor\":\"#E5ECF6\",\"gridcolor\":\"white\",\"linecolor\":\"white\",\"showbackground\":true,\"ticks\":\"\",\"zerolinecolor\":\"white\",\"gridwidth\":2}},\"shapedefaults\":{\"line\":{\"color\":\"#2a3f5f\"}},\"annotationdefaults\":{\"arrowcolor\":\"#2a3f5f\",\"arrowhead\":0,\"arrowwidth\":1},\"geo\":{\"bgcolor\":\"white\",\"landcolor\":\"#E5ECF6\",\"subunitcolor\":\"white\",\"showland\":true,\"showlakes\":true,\"lakecolor\":\"white\"},\"title\":{\"x\":0.05},\"mapbox\":{\"style\":\"light\"}}}},                        {\"responsive\": true}                    ).then(function(){\n",
       "                            \n",
       "var gd = document.getElementById('5e9f8f42-3a78-47b4-bad4-5d381d699fc1');\n",
       "var x = new MutationObserver(function (mutations, observer) {{\n",
       "        var display = window.getComputedStyle(gd).display;\n",
       "        if (!display || display === 'none') {{\n",
       "            console.log([gd, 'removed!']);\n",
       "            Plotly.purge(gd);\n",
       "            observer.disconnect();\n",
       "        }}\n",
       "}});\n",
       "\n",
       "// Listen for the removal of the full notebook cells\n",
       "var notebookContainer = gd.closest('#notebook-container');\n",
       "if (notebookContainer) {{\n",
       "    x.observe(notebookContainer, {childList: true});\n",
       "}}\n",
       "\n",
       "// Listen for the clearing of the current output cell\n",
       "var outputEl = gd.closest('.output');\n",
       "if (outputEl) {{\n",
       "    x.observe(outputEl, {childList: true});\n",
       "}}\n",
       "\n",
       "                        })                };                });            </script>        </div>"
      ]
     },
     "metadata": {},
     "output_type": "display_data"
    }
   ],
   "source": [
    "x0 = np.linspace(0,1,200)\n",
    "y0 = np.random.randn(200)*0.5 + 2\n",
    "y1 = np.random.randn(200)*0.4 \n",
    "y2 = np.random.randn(200)*.5 - 2\n",
    "y3 = np.random.randn(200)*0.25 + 3\n",
    "x3 = np.linspace(0,1,200)\n",
    "\n",
    "fig = go.Figure()\n",
    "fig.add_trace(go.Scatter(x=x0,y=y0, mode='lines', name = 'graph 1'))\n",
    "fig.add_trace(go.Scatter(x=x0,y=y1, mode='lines', name = 'graph 2'))\n",
    "fig.add_trace(go.Scatter(x=x0,y=y2, mode='lines', name = 'graph 3'))\n",
    "fig.add_trace(go.Scatter(x=x3, y=y3, mode='lines', name = 'graph 4'))"
   ]
  },
  {
   "cell_type": "code",
   "execution_count": 35,
   "id": "36ac52f3-6186-4d48-a825-70c8c1e0bc1e",
   "metadata": {},
   "outputs": [
    {
     "data": {
      "application/vnd.plotly.v1+json": {
       "config": {
        "plotlyServerURL": "https://plot.ly"
       },
       "data": [
        {
         "name": "Apple Stock",
         "type": "scatter",
         "x": [
          "2020-01-02",
          "2020-01-03",
          "2020-01-06",
          "2020-01-07",
          "2020-01-08",
          "2020-01-09",
          "2020-01-10",
          "2020-01-13",
          "2020-01-14",
          "2020-01-15",
          "2020-01-16",
          "2020-01-17",
          "2020-01-21",
          "2020-01-22",
          "2020-01-23",
          "2020-01-24",
          "2020-01-27",
          "2020-01-28",
          "2020-01-29",
          "2020-01-30",
          "2020-01-31",
          "2020-02-03",
          "2020-02-04",
          "2020-02-05",
          "2020-02-06",
          "2020-02-07",
          "2020-02-10",
          "2020-02-11",
          "2020-02-12",
          "2020-02-13",
          "2020-02-14",
          "2020-02-18",
          "2020-02-19",
          "2020-02-20",
          "2020-02-21",
          "2020-02-24",
          "2020-02-25",
          "2020-02-26",
          "2020-02-27",
          "2020-02-28",
          "2020-03-02",
          "2020-03-03",
          "2020-03-04",
          "2020-03-05",
          "2020-03-06",
          "2020-03-09",
          "2020-03-10",
          "2020-03-11",
          "2020-03-12",
          "2020-03-13",
          "2020-03-16",
          "2020-03-17",
          "2020-03-18",
          "2020-03-19",
          "2020-03-20",
          "2020-03-23",
          "2020-03-24",
          "2020-03-25",
          "2020-03-26",
          "2020-03-27",
          "2020-03-30",
          "2020-03-31",
          "2020-04-01",
          "2020-04-02",
          "2020-04-03",
          "2020-04-06",
          "2020-04-07",
          "2020-04-08",
          "2020-04-09",
          "2020-04-13",
          "2020-04-14",
          "2020-04-15",
          "2020-04-16",
          "2020-04-17",
          "2020-04-20",
          "2020-04-21",
          "2020-04-22",
          "2020-04-23",
          "2020-04-24",
          "2020-04-27",
          "2020-04-28",
          "2020-04-29",
          "2020-04-30",
          "2020-05-01",
          "2020-05-04",
          "2020-05-05",
          "2020-05-06",
          "2020-05-07",
          "2020-05-08",
          "2020-05-11",
          "2020-05-12",
          "2020-05-13",
          "2020-05-14",
          "2020-05-15",
          "2020-05-18",
          "2020-05-19",
          "2020-05-20",
          "2020-05-21",
          "2020-05-22",
          "2020-05-26",
          "2020-05-27",
          "2020-05-28",
          "2020-05-29",
          "2020-06-01",
          "2020-06-02",
          "2020-06-03",
          "2020-06-04",
          "2020-06-05",
          "2020-06-08",
          "2020-06-09",
          "2020-06-10",
          "2020-06-11",
          "2020-06-12",
          "2020-06-15",
          "2020-06-16",
          "2020-06-17",
          "2020-06-18",
          "2020-06-19",
          "2020-06-22",
          "2020-06-23",
          "2020-06-24",
          "2020-06-25",
          "2020-06-26",
          "2020-06-29",
          "2020-06-30",
          "2020-07-01",
          "2020-07-02",
          "2020-07-06",
          "2020-07-07",
          "2020-07-08",
          "2020-07-09",
          "2020-07-10",
          "2020-07-13",
          "2020-07-14",
          "2020-07-15",
          "2020-07-16",
          "2020-07-17",
          "2020-07-20",
          "2020-07-21",
          "2020-07-22",
          "2020-07-23",
          "2020-07-24",
          "2020-07-27",
          "2020-07-28",
          "2020-07-29",
          "2020-07-30",
          "2020-07-31",
          "2020-08-03",
          "2020-08-04",
          "2020-08-05",
          "2020-08-06",
          "2020-08-07",
          "2020-08-10",
          "2020-08-11",
          "2020-08-12",
          "2020-08-13",
          "2020-08-14",
          "2020-08-17",
          "2020-08-18",
          "2020-08-19",
          "2020-08-20",
          "2020-08-21",
          "2020-08-24",
          "2020-08-25",
          "2020-08-26",
          "2020-08-27",
          "2020-08-28",
          "2020-08-31",
          "2020-09-01",
          "2020-09-02",
          "2020-09-03",
          "2020-09-04",
          "2020-09-08",
          "2020-09-09",
          "2020-09-10",
          "2020-09-11",
          "2020-09-14",
          "2020-09-15",
          "2020-09-16",
          "2020-09-17",
          "2020-09-18",
          "2020-09-21",
          "2020-09-22",
          "2020-09-23",
          "2020-09-24",
          "2020-09-25",
          "2020-09-28",
          "2020-09-29",
          "2020-09-30",
          "2020-10-01",
          "2020-10-02",
          "2020-10-05",
          "2020-10-06",
          "2020-10-07",
          "2020-10-08",
          "2020-10-09",
          "2020-10-12",
          "2020-10-13",
          "2020-10-14",
          "2020-10-15",
          "2020-10-16",
          "2020-10-19",
          "2020-10-20",
          "2020-10-21",
          "2020-10-22",
          "2020-10-23",
          "2020-10-26",
          "2020-10-27",
          "2020-10-28",
          "2020-10-29",
          "2020-10-30",
          "2020-11-02",
          "2020-11-03",
          "2020-11-04",
          "2020-11-05",
          "2020-11-06",
          "2020-11-09",
          "2020-11-10",
          "2020-11-11",
          "2020-11-12",
          "2020-11-13",
          "2020-11-16",
          "2020-11-17",
          "2020-11-18",
          "2020-11-19",
          "2020-11-20",
          "2020-11-23",
          "2020-11-24",
          "2020-11-25",
          "2020-11-27",
          "2020-11-30",
          "2020-12-01",
          "2020-12-02",
          "2020-12-03",
          "2020-12-04",
          "2020-12-07",
          "2020-12-08",
          "2020-12-09",
          "2020-12-10",
          "2020-12-11",
          "2020-12-14",
          "2020-12-15",
          "2020-12-16",
          "2020-12-17",
          "2020-12-18",
          "2020-12-21",
          "2020-12-22",
          "2020-12-23",
          "2020-12-24",
          "2020-12-28",
          "2020-12-29",
          "2020-12-30",
          "2020-12-31"
         ],
         "y": [
          74.09644317626953,
          73.37608337402344,
          73.96076965332031,
          73.61293029785156,
          74.79708099365234,
          76.38583374023438,
          76.55851745605469,
          78.19414520263672,
          77.13825988769531,
          76.80770111083984,
          77.76982116699219,
          78.63081359863281,
          78.09793853759766,
          78.37671661376953,
          78.75415802001953,
          78.5271987915039,
          76.21807861328125,
          78.37423706054688,
          80.01480102539062,
          79.89884948730469,
          76.3562240600586,
          76.14654541015625,
          78.66041564941406,
          79.30182647705078,
          80.22943115234375,
          79.13890075683594,
          79.5147705078125,
          79.03502655029297,
          80.91194152832031,
          80.33575439453125,
          80.35554504394531,
          78.88419342041016,
          80.02664947509766,
          79.20565795898438,
          77.41283416748047,
          73.7356948852539,
          71.23809814453125,
          72.36820983886719,
          67.63762664794922,
          67.59806060791016,
          73.89148712158203,
          71.54473876953125,
          74.86331176757812,
          72.43497467041016,
          71.47303771972656,
          65.82007598876953,
          70.560546875,
          68.10993957519531,
          61.383766174316406,
          68.73804473876953,
          59.89510726928711,
          62.5286979675293,
          60.99800109863281,
          60.53063201904297,
          56.68781661987305,
          55.48352813720703,
          61.0499382019043,
          60.713623046875,
          63.90856170654297,
          61.26259994506836,
          63.01090621948242,
          62.882320404052734,
          59.573638916015625,
          60.56772613525391,
          59.6972770690918,
          64.90511322021484,
          64.15337371826172,
          65.79534912109375,
          66.27012634277344,
          67.57086181640625,
          70.98339080810547,
          70.33551025390625,
          70.8943862915039,
          69.93244171142578,
          68.48087310791016,
          66.3641128540039,
          68.27562713623047,
          68.01103210449219,
          69.97447204589844,
          70.02394104003906,
          68.88890075683594,
          71.15155792236328,
          72.65258026123047,
          71.4829330444336,
          72.49432373046875,
          73.58238220214844,
          74.34153747558594,
          75.11060333251953,
          76.89836120605469,
          78.10838317871094,
          77.21574401855469,
          76.2834243774414,
          76.7520751953125,
          76.29830932617188,
          78.09599304199219,
          77.64471435546875,
          79.1547622680664,
          78.56462097167969,
          79.0704574584961,
          78.53487396240234,
          78.87703704833984,
          78.91175079345703,
          78.83489990234375,
          79.80439758300781,
          80.17384338378906,
          80.6152114868164,
          79.92094421386719,
          82.19717407226562,
          82.68315124511719,
          85.29412841796875,
          87.48853302001953,
          83.28816986083984,
          84.00723266601562,
          85.04617309570312,
          87.30008697509766,
          87.1785888671875,
          87.21330261230469,
          86.71490478515625,
          88.98370361328125,
          90.8830337524414,
          89.27877044677734,
          90.46399688720705,
          87.68441772460938,
          89.70525360107422,
          90.4540786743164,
          90.2829818725586,
          90.2829818725586,
          92.69807434082033,
          92.41043853759766,
          94.56269073486328,
          94.96934509277344,
          95.1354751586914,
          94.69659423828124,
          96.263671875,
          96.92570495605467,
          95.73303985595705,
          95.53963470458984,
          97.55303192138672,
          96.2066421508789,
          96.4769058227539,
          92.08562469482422,
          91.85750579833984,
          94.03453826904295,
          92.48978424072266,
          94.26265716552734,
          95.40326690673828,
          105.39090728759766,
          108.0465087890625,
          108.76805877685548,
          109.16229248046876,
          112.97089385986328,
          110.40242004394533,
          112.00709533691406,
          108.67601013183594,
          112.28778839111328,
          114.2750015258789,
          114.17316436767578,
          113.87506866455078,
          114.823974609375,
          114.96804809570312,
          117.5191421508789,
          123.57518768310548,
          125.0531768798828,
          124.02728271484376,
          125.71392822265624,
          124.21109771728516,
          124.00989532470705,
          128.21534729003906,
          133.32249450683594,
          130.5602569580078,
          120.10748291015624,
          120.18698120117188,
          112.0989990234375,
          116.57023620605467,
          112.76471710205078,
          111.28424072265624,
          114.62276458740234,
          114.80162048339844,
          111.41340637207033,
          109.63484954833984,
          106.15721130371094,
          109.3765106201172,
          111.09544372558594,
          106.43543243408205,
          107.52840423583984,
          111.56243896484376,
          114.22531127929688,
          113.36087799072266,
          115.06989288330078,
          116.04362487792967,
          112.29772186279295,
          115.75547790527344,
          112.43682861328124,
          114.34455871582033,
          114.23526000976562,
          116.22247314453124,
          123.60499572753906,
          120.3260726928711,
          120.41551208496094,
          119.93856811523438,
          118.25936889648438,
          115.23880004882812,
          116.759033203125,
          116.12312316894533,
          115.01026916503906,
          114.30481719970705,
          114.31475067138672,
          115.85484313964844,
          110.48934936523438,
          114.58302307128906,
          108.164306640625,
          108.07488250732422,
          109.73420715332033,
          114.21538543701172,
          118.2693099975586,
          118.13495635986328,
          115.77603149414062,
          115.42766571044922,
          118.9311981201172,
          118.65251159667967,
          118.70227813720705,
          119.73741912841795,
          118.83167266845705,
          117.47803497314452,
          118.0851821899414,
          116.791259765625,
          113.3175811767578,
          114.63140869140624,
          115.48738861083984,
          116.04476165771484,
          118.4932632446289,
          122.14610290527344,
          122.5044174194336,
          122.36507415771484,
          121.67830657958984,
          123.1712875366211,
          123.79833984375,
          121.2104949951172,
          122.66366577148438,
          121.83755493164062,
          121.2104949951172,
          127.2819595336914,
          127.21229553222656,
          128.09812927246094,
          126.06768035888672,
          127.6303253173828,
          131.2632598876953,
          130.34756469726562,
          131.3528289794922,
          136.05076599121094,
          134.23927307128906,
          133.0946502685547,
          132.06947326660156
         ]
        },
        {
         "close": [
          74.09644317626953,
          73.37608337402344,
          73.96076965332031,
          73.61293029785156,
          74.79708099365234,
          76.38583374023438,
          76.55851745605469,
          78.19414520263672,
          77.13825988769531,
          76.80770111083984,
          77.76982116699219,
          78.63081359863281,
          78.09793853759766,
          78.37671661376953,
          78.75415802001953,
          78.5271987915039,
          76.21807861328125,
          78.37423706054688,
          80.01480102539062,
          79.89884948730469,
          76.3562240600586,
          76.14654541015625,
          78.66041564941406,
          79.30182647705078,
          80.22943115234375,
          79.13890075683594,
          79.5147705078125,
          79.03502655029297,
          80.91194152832031,
          80.33575439453125,
          80.35554504394531,
          78.88419342041016,
          80.02664947509766,
          79.20565795898438,
          77.41283416748047,
          73.7356948852539,
          71.23809814453125,
          72.36820983886719,
          67.63762664794922,
          67.59806060791016,
          73.89148712158203,
          71.54473876953125,
          74.86331176757812,
          72.43497467041016,
          71.47303771972656,
          65.82007598876953,
          70.560546875,
          68.10993957519531,
          61.383766174316406,
          68.73804473876953,
          59.89510726928711,
          62.5286979675293,
          60.99800109863281,
          60.53063201904297,
          56.68781661987305,
          55.48352813720703,
          61.0499382019043,
          60.713623046875,
          63.90856170654297,
          61.26259994506836,
          63.01090621948242,
          62.882320404052734,
          59.573638916015625,
          60.56772613525391,
          59.6972770690918,
          64.90511322021484,
          64.15337371826172,
          65.79534912109375,
          66.27012634277344,
          67.57086181640625,
          70.98339080810547,
          70.33551025390625,
          70.8943862915039,
          69.93244171142578,
          68.48087310791016,
          66.3641128540039,
          68.27562713623047,
          68.01103210449219,
          69.97447204589844,
          70.02394104003906,
          68.88890075683594,
          71.15155792236328,
          72.65258026123047,
          71.4829330444336,
          72.49432373046875,
          73.58238220214844,
          74.34153747558594,
          75.11060333251953,
          76.89836120605469,
          78.10838317871094,
          77.21574401855469,
          76.2834243774414,
          76.7520751953125,
          76.29830932617188,
          78.09599304199219,
          77.64471435546875,
          79.1547622680664,
          78.56462097167969,
          79.0704574584961,
          78.53487396240234,
          78.87703704833984,
          78.91175079345703,
          78.83489990234375,
          79.80439758300781,
          80.17384338378906,
          80.6152114868164,
          79.92094421386719,
          82.19717407226562,
          82.68315124511719,
          85.29412841796875,
          87.48853302001953,
          83.28816986083984,
          84.00723266601562,
          85.04617309570312,
          87.30008697509766,
          87.1785888671875,
          87.21330261230469,
          86.71490478515625,
          88.98370361328125,
          90.8830337524414,
          89.27877044677734,
          90.46399688720705,
          87.68441772460938,
          89.70525360107422,
          90.4540786743164,
          90.2829818725586,
          90.2829818725586,
          92.69807434082033,
          92.41043853759766,
          94.56269073486328,
          94.96934509277344,
          95.1354751586914,
          94.69659423828124,
          96.263671875,
          96.92570495605467,
          95.73303985595705,
          95.53963470458984,
          97.55303192138672,
          96.2066421508789,
          96.4769058227539,
          92.08562469482422,
          91.85750579833984,
          94.03453826904295,
          92.48978424072266,
          94.26265716552734,
          95.40326690673828,
          105.39090728759766,
          108.0465087890625,
          108.76805877685548,
          109.16229248046876,
          112.97089385986328,
          110.40242004394533,
          112.00709533691406,
          108.67601013183594,
          112.28778839111328,
          114.2750015258789,
          114.17316436767578,
          113.87506866455078,
          114.823974609375,
          114.96804809570312,
          117.5191421508789,
          123.57518768310548,
          125.0531768798828,
          124.02728271484376,
          125.71392822265624,
          124.21109771728516,
          124.00989532470705,
          128.21534729003906,
          133.32249450683594,
          130.5602569580078,
          120.10748291015624,
          120.18698120117188,
          112.0989990234375,
          116.57023620605467,
          112.76471710205078,
          111.28424072265624,
          114.62276458740234,
          114.80162048339844,
          111.41340637207033,
          109.63484954833984,
          106.15721130371094,
          109.3765106201172,
          111.09544372558594,
          106.43543243408205,
          107.52840423583984,
          111.56243896484376,
          114.22531127929688,
          113.36087799072266,
          115.06989288330078,
          116.04362487792967,
          112.29772186279295,
          115.75547790527344,
          112.43682861328124,
          114.34455871582033,
          114.23526000976562,
          116.22247314453124,
          123.60499572753906,
          120.3260726928711,
          120.41551208496094,
          119.93856811523438,
          118.25936889648438,
          115.23880004882812,
          116.759033203125,
          116.12312316894533,
          115.01026916503906,
          114.30481719970705,
          114.31475067138672,
          115.85484313964844,
          110.48934936523438,
          114.58302307128906,
          108.164306640625,
          108.07488250732422,
          109.73420715332033,
          114.21538543701172,
          118.2693099975586,
          118.13495635986328,
          115.77603149414062,
          115.42766571044922,
          118.9311981201172,
          118.65251159667967,
          118.70227813720705,
          119.73741912841795,
          118.83167266845705,
          117.47803497314452,
          118.0851821899414,
          116.791259765625,
          113.3175811767578,
          114.63140869140624,
          115.48738861083984,
          116.04476165771484,
          118.4932632446289,
          122.14610290527344,
          122.5044174194336,
          122.36507415771484,
          121.67830657958984,
          123.1712875366211,
          123.79833984375,
          121.2104949951172,
          122.66366577148438,
          121.83755493164062,
          121.2104949951172,
          127.2819595336914,
          127.21229553222656,
          128.09812927246094,
          126.06768035888672,
          127.6303253173828,
          131.2632598876953,
          130.34756469726562,
          131.3528289794922,
          136.05076599121094,
          134.23927307128906,
          133.0946502685547,
          132.06947326660156
         ],
         "high": [
          95.1500015258789,
          95.1449966430664,
          94.98999786376953,
          95.2249984741211,
          96.11000061035156,
          97.60749816894531,
          98.1675033569336,
          99.26750183105469,
          99.39250183105469,
          98.875,
          98.92500305175781,
          99.68499755859375,
          99.75499725341797,
          99.99749755859375,
          99.88999938964844,
          100.8324966430664,
          97.94249725341797,
          99.5999984741211,
          101.9625015258789,
          101.02249908447266,
          100.66999816894531,
          98.37249755859375,
          99.91000366210938,
          101.19000244140625,
          101.30500030517578,
          100.8499984741211,
          100.38749694824219,
          100.9749984741211,
          101.80500030517578,
          101.55500030517578,
          101.49500274658203,
          99.9375,
          101.14250183105469,
          101.1624984741211,
          100.11250305175781,
          96.04499816894531,
          95.63249969482422,
          94.47000122070312,
          91.5,
          89.60250091552734,
          95.36000061035156,
          96,
          95.8499984741211,
          94.88749694824219,
          92.70500183105469,
          89.52249908447266,
          91.61000061035156,
          90.30500030517578,
          87.5,
          89.9800033569336,
          84.7699966430664,
          84.40249633789062,
          82.5,
          83.20999908447266,
          82.95750045776367,
          77.125,
          81.92250061035156,
          84.5625,
          84.66999816894531,
          83.96749877929688,
          83.88000106811523,
          85.62249755859375,
          82.18000030517578,
          81.2874984741211,
          81.42499923706055,
          85.77749633789062,
          87.92500305175781,
          86.84249877929688,
          87.51750183105469,
          88.42500305175781,
          92.0625,
          91.5824966430664,
          92.05000305175781,
          91.73750305175781,
          90.41999816894531,
          89.3125,
          89.4749984741211,
          90.4375,
          90.75250244140625,
          91.13500213623047,
          91.4574966430664,
          92.4175033569336,
          93.63249969482422,
          94.75,
          93.42250061035156,
          95.25,
          95.80999755859375,
          96.2925033569336,
          97.5875015258789,
          99.26249694824219,
          99.92250061035156,
          98.98750305175781,
          97.44750213623047,
          96.9749984741211,
          99.125,
          99.62999725341797,
          99.87999725341797,
          100.22250366210938,
          99.80750274658203,
          101.05999755859375,
          99.67749786376953,
          100.86000061035156,
          100.2874984741211,
          100.5875015258789,
          100.86000061035156,
          101.55000305175781,
          101.40499877929688,
          102.9375,
          103.4000015258789,
          106.40249633789062,
          108.69249725341797,
          107.76499938964844,
          106.94999694824219,
          106.41999816894531,
          108.30000305175781,
          108.8499984741211,
          108.36250305175781,
          109.13999938964844,
          109.86499786376953,
          113.09500122070312,
          112.19750213623048,
          111.25,
          111.33000183105467,
          110.5425033569336,
          111.49500274658205,
          111.83999633789062,
          112.61750030517578,
          113.94499969482422,
          114.65499877929688,
          115.375,
          116.31749725341795,
          115.9800033569336,
          119.95500183105467,
          117.25499725341795,
          119.24749755859376,
          117.40499877929688,
          117.14749908447266,
          118.5,
          119.25,
          117.9749984741211,
          117.07749938964844,
          112.97000122070312,
          114.90499877929688,
          114.5500030517578,
          115.2300033569336,
          116.29750061035156,
          126.41500091552734,
          131.6374969482422,
          130.79000091552734,
          130.3925018310547,
          134.4124984741211,
          133.6750030517578,
          133.7750015258789,
          132.4824981689453,
          133.2750015258789,
          136.0425033569336,
          135,
          136.0875015258789,
          136,
          137.1624984741211,
          138.3925018310547,
          144.86750030517578,
          148.78500366210938,
          145.18000030517578,
          146.99250030517578,
          147.48500061035156,
          146.44249725341797,
          151,
          154.8000030517578,
          157.97999572753906,
          148.83999633789062,
          143.6999969482422,
          138.98999786376953,
          139.13999938964844,
          140.5,
          135.2300033569336,
          135.93000030517578,
          138.8300018310547,
          136,
          132.1999969482422,
          130.87999725341797,
          130.19000244140625,
          132.86000061035156,
          132.11000061035156,
          130.25,
          132.44000244140625,
          135.31999969482422,
          135.30999755859375,
          137.26000213623047,
          137.72000122070312,
          135.37000274658203,
          136.6500015258789,
          136.12000274658203,
          135.5500030517578,
          136.4000015258789,
          137,
          145.18000030517578,
          145.38999938964844,
          143.02999877929688,
          141.1999969482422,
          141.5500030517578,
          140.4199981689453,
          138.9800033569336,
          138.70999908447266,
          138.04000091552734,
          136.5500030517578,
          136.5500030517578,
          137.27999877929688,
          135.43000030517578,
          136.93000030517578,
          131.98999786376953,
          130.68000030517578,
          131.48999786376953,
          135.58999633789062,
          139.62000274658203,
          139.1999969482422,
          141.98999786376953,
          137.58999633789062,
          139.62999725341797,
          140.52999877929688,
          139.6699981689453,
          140.98999786376953,
          140.6699981689453,
          139.81999969482422,
          139.05999755859375,
          138.7699966430664,
          137.62000274658203,
          135.8499984741211,
          136.75,
          137.48999786376953,
          140.97000122070312,
          143.47000122070312,
          143.37000274658203,
          143.77999877929688,
          142.86000061035156,
          144.56999969482422,
          144.9800033569336,
          145.9499969482422,
          143.87000274658203,
          142.76000213623047,
          143.3499984741211,
          147.9000015258789,
          148.3699951171875,
          149.5800018310547,
          149.10000610351562,
          148.30999755859375,
          154.41000366210938,
          152.42999267578125,
          153.4600067138672,
          157.33999633789062,
          158.7899932861328,
          155.99000549316406,
          154.74000549316406
         ],
         "low": [
          53.79750061035156,
          54.125,
          53.1875,
          54.37000274658203,
          54.290000915527344,
          56.55000305175781,
          57.0625,
          57.787498474121094,
          58.042503356933594,
          57.38749694824219,
          58.022499084472656,
          58.75,
          59,
          59.32749938964844,
          58.912498474121094,
          59.37999725341797,
          56.220001220703125,
          58.04750061035156,
          60.345001220703125,
          59.6875,
          57.07250213623047,
          55.55500030517578,
          58.407501220703125,
          59.73750305175781,
          60.06500244140625,
          59.5,
          58.462501525878906,
          59.67749786376953,
          60.36750030517578,
          60.837501525878906,
          60.712501525878906,
          58.652496337890625,
          60,
          59.55249786376953,
          57.625,
          52.30750274658203,
          51.532501220703125,
          51.625,
          48.23999786376953,
          44.092498779296875,
          49.43000030517578,
          51.44999694824219,
          53.282501220703125,
          52.852500915527344,
          50.30750274658203,
          45.75,
          47.342498779296875,
          47.964996337890625,
          42,
          43.23749923706055,
          40,
          39.59999847412109,
          39.27999877929688,
          40.65250015258789,
          37,
          33.15250015258789,
          38.57500076293945,
          41.07500076293945,
          41.59000015258789,
          41.76250076293945,
          42.34999847412109,
          43,
          39.782501220703125,
          39.22499847412109,
          39.74250030517578,
          42.345001220703125,
          44.75,
          45.30750274658203,
          46.17500305175781,
          46.457496643066406,
          49.51249694824219,
          50.157501220703125,
          50.587501525878906,
          49.214996337890625,
          49.212501525878906,
          46.35749816894531,
          48.05000305175781,
          48.717498779296875,
          49.25,
          49.98750305175781,
          49.55000305175781,
          50.972503662109375,
          52.087501525878906,
          51.462501525878906,
          51.58000183105469,
          53.61499786376953,
          54.717498779296875,
          55.49250030517578,
          56.07250213623047,
          56.80999755859375,
          57.727500915527344,
          55.80249786376953,
          55.38249969482422,
          55.05249786376953,
          57.58000183105469,
          58.25250244140625,
          59.12999725341797,
          58.967498779296875,
          58.837501525878906,
          59.125,
          58.272499084472656,
          58.907501220703125,
          59.11750030517578,
          59.30249786376953,
          59.73249816894531,
          60.57499694824219,
          60.19499969482422,
          60.80750274658203,
          61.83000183105469,
          63.00250244140625,
          66.52249908447266,
          63.87000274658203,
          63.55500030517578,
          63.144996643066406,
          66.18000030517578,
          67.77249908447266,
          67.30500030517578,
          66.2874984741211,
          67.7874984741211,
          70.56749725341795,
          69.62999725341797,
          69.39250183105469,
          68.25499725341797,
          67.81999969482422,
          70,
          70.97750091552734,
          70.91000366210938,
          72.46749877929688,
          73.05750274658205,
          74.08999633789062,
          74.67250061035156,
          74.70500183105467,
          75.25749969482422,
          73.87750244140624,
          76.48999786376952,
          75.90499877929688,
          75.83999633789062,
          76.0625,
          76.74250030517578,
          76.60250091552734,
          72.01000213623048,
          69.1449966430664,
          73.4800033569336,
          73.24749755859376,
          73.7125015258789,
          73.76750183105467,
          80.8249969482422,
          87.89250183105467,
          88.3874969482422,
          88.89749908447266,
          89.79750061035156,
          90.2925033569336,
          90,
          89.10749816894533,
          90.29750061035156,
          93.92749786376952,
          93.04499816894533,
          93.9625015258789,
          94.00749969482422,
          95.61000061035156,
          95.73249816894533,
          99.25,
          103.9375,
          103.05249786376952,
          105.0824966430664,
          103.8324966430664,
          104.57749938964844,
          106,
          110.52999877929688,
          107,
          100.5,
          90.88999938964844,
          92.68000030517578,
          95.26000213623048,
          92.5,
          90,
          92.8000030517578,
          93.61000061035156,
          92.04000091552734,
          88.70999908447266,
          86.08999633789062,
          83.0999984741211,
          89.16000366210938,
          86.7699966430664,
          85,
          87.66999816894533,
          92.77999877929688,
          93.56999969482422,
          93.62000274658205,
          95.83000183105467,
          92.22000122070312,
          93.5500030517578,
          92.25,
          94.12999725341795,
          94.58999633789062,
          94.91999816894533,
          99.27999877929688,
          99.6500015258789,
          99.62000274658205,
          98.1500015258789,
          98.80999755859376,
          95.66000366210938,
          95.62999725341795,
          96.4499969482422,
          94.58999633789062,
          94.27999877929688,
          92.87999725341795,
          94.54000091552734,
          91.0999984741211,
          92.1999969482422,
          87.72000122070312,
          87.31999969482422,
          88.7300033569336,
          92.3499984741211,
          96.87000274658205,
          96.12999725341795,
          96.0500030517578,
          94.12999725341795,
          96.44000244140624,
          98.56999969482422,
          97.87000274658205,
          98.1500015258789,
          98.95999908447266,
          98,
          96.80999755859376,
          97.29000091552734,
          93.75,
          92.58999633789062,
          95.16999816894533,
          96.22000122070312,
          96.80999755859376,
          100.01000213623048,
          100.88999938964844,
          102.20999908447266,
          101.5199966430664,
          102.25,
          103.08999633789062,
          101,
          100.1500015258789,
          100.5500030517578,
          101.54000091552734,
          104.12999725341795,
          106.55999755859376,
          108.03999328613281,
          106.12000274658205,
          103.4499969482422,
          109.64999389648438,
          110.77999877929688,
          111.10000610351562,
          113.50999450683594,
          114.33999633789062,
          113.39999389648438,
          111.72000122070312
         ],
         "open": [
          74.05999755859375,
          74.2874984741211,
          73.44750213623047,
          74.95999908447266,
          74.29000091552734,
          76.80999755859375,
          77.6500015258789,
          77.91000366210938,
          79.17500305175781,
          77.9625015258789,
          78.39749908447266,
          79.06749725341797,
          79.29750061035156,
          79.6449966430664,
          79.4800033569336,
          80.0625,
          77.51499938964844,
          78.1500015258789,
          81.11250305175781,
          80.13500213623047,
          80.23249816894531,
          76.07499694824219,
          78.82749938964844,
          80.87999725341797,
          80.64250183105469,
          80.59249877929688,
          78.54499816894531,
          80.9000015258789,
          80.36750030517578,
          81.04750061035156,
          81.18499755859375,
          78.83999633789062,
          80,
          80.65750122070312,
          79.65499877929688,
          74.31500244140625,
          75.23750305175781,
          71.63249969482422,
          70.2750015258789,
          64.31500244140625,
          70.56999969482422,
          75.9175033569336,
          74.11000061035156,
          73.87999725341797,
          70.5,
          65.9375,
          69.28500366210938,
          69.34750366210938,
          63.98500061035156,
          66.22250366210938,
          60.48749923706055,
          61.87749862670898,
          59.942501068115234,
          61.84749984741211,
          61.79499816894531,
          57.02000045776367,
          59.09000015258789,
          62.6875,
          61.630001068115234,
          63.1875,
          62.685001373291016,
          63.900001525878906,
          61.625,
          60.084999084472656,
          60.70000076293945,
          62.72499847412109,
          67.69999694824219,
          65.68499755859375,
          67.17500305175781,
          67.07749938964844,
          70,
          70.5999984741211,
          71.84500122070312,
          71.17250061035156,
          69.48750305175781,
          69.06999969482422,
          68.40249633789062,
          68.96749877929688,
          69.30000305175781,
          70.44999694824219,
          71.2699966430664,
          71.18250274658203,
          72.48999786376953,
          71.5625,
          72.2925033569336,
          73.76499938964844,
          75.11499786376953,
          75.80500030517578,
          76.41000366210938,
          77.0250015258789,
          79.4574966430664,
          78.0374984741211,
          76.12750244140625,
          75.0875015258789,
          78.2925033569336,
          78.75749969482422,
          79.16999816894531,
          79.66500091552734,
          78.94249725341797,
          80.875,
          79.03500366210938,
          79.19249725341797,
          79.8125,
          79.4375,
          80.1875,
          81.16500091552734,
          81.09750366210938,
          80.8375015258789,
          82.5625,
          83.03500366210938,
          86.9749984741211,
          87.32749938964844,
          86.18000030517578,
          83.3125,
          87.86499786376953,
          88.7874984741211,
          87.85250091552734,
          88.66000366210938,
          87.83499908447266,
          91,
          91.25,
          90.1750030517578,
          91.10250091552734,
          88.3125,
          90.0199966430664,
          91.27999877929688,
          91.9625015258789,
          92.5,
          93.85250091552734,
          94.18000030517578,
          96.2624969482422,
          95.33499908447266,
          97.26499938964844,
          94.83999633789062,
          98.98999786376952,
          96.5625,
          96.9875030517578,
          96.4175033569336,
          99.17250061035156,
          96.69249725341795,
          96.99749755859376,
          90.9875030517578,
          93.70999908447266,
          94.36750030517578,
          93.75,
          94.1875,
          102.88500213623048,
          108.1999969482422,
          109.13249969482422,
          109.37750244140624,
          110.40499877929688,
          113.20500183105467,
          112.5999984741211,
          111.97000122070312,
          110.49749755859376,
          114.43000030517578,
          114.83000183105467,
          116.0625,
          114.35250091552734,
          115.98249816894533,
          115.75,
          119.2624969482422,
          128.69749450683594,
          124.69750213623048,
          126.18000030517578,
          127.14250183105467,
          126.0124969482422,
          127.58000183105467,
          132.75999450683594,
          137.58999633789062,
          126.91000366210938,
          120.06999969482422,
          113.9499969482422,
          117.26000213623048,
          120.36000061035156,
          114.56999969482422,
          114.72000122070312,
          118.33000183105467,
          115.2300033569336,
          109.72000122070312,
          110.4000015258789,
          104.54000091552734,
          112.68000030517578,
          111.62000274658205,
          105.16999816894533,
          108.43000030517578,
          115.01000213623048,
          114.5500030517578,
          113.79000091552734,
          117.63999938964844,
          112.88999938964844,
          113.91000366210938,
          115.6999969482422,
          114.62000274658205,
          116.25,
          115.27999877929688,
          120.05999755859376,
          125.2699966430664,
          121,
          118.72000122070312,
          121.27999877929688,
          119.95999908447266,
          116.1999969482422,
          116.66999816894533,
          117.4499969482422,
          116.38999938964844,
          114.01000213623048,
          115.48999786376952,
          115.0500030517578,
          112.37000274658205,
          111.05999755859376,
          109.11000061035156,
          109.66000366210938,
          114.13999938964844,
          117.9499969482422,
          118.31999969482422,
          120.5,
          115.5500030517578,
          117.19000244140624,
          119.62000274658205,
          119.44000244140624,
          118.91999816894533,
          119.5500030517578,
          118.61000061035156,
          117.58999633789062,
          118.63999938964844,
          117.18000030517578,
          113.91000366210938,
          115.5500030517578,
          116.56999969482422,
          116.97000122070312,
          121.01000213623048,
          122.0199966430664,
          123.5199966430664,
          122.5999984741211,
          122.30999755859376,
          124.37000274658205,
          124.52999877929688,
          120.5,
          122.43000030517578,
          122.5999984741211,
          124.33999633789062,
          127.41000366210938,
          128.89999389648438,
          128.9600067138672,
          125.0199966430664,
          131.61000061035156,
          132.16000366210938,
          131.32000732421875,
          133.99000549316406,
          138.0500030517578,
          135.5800018310547,
          134.0800018310547
         ],
         "type": "candlestick",
         "x": [
          "2020-01-02",
          "2020-01-03",
          "2020-01-06",
          "2020-01-07",
          "2020-01-08",
          "2020-01-09",
          "2020-01-10",
          "2020-01-13",
          "2020-01-14",
          "2020-01-15",
          "2020-01-16",
          "2020-01-17",
          "2020-01-21",
          "2020-01-22",
          "2020-01-23",
          "2020-01-24",
          "2020-01-27",
          "2020-01-28",
          "2020-01-29",
          "2020-01-30",
          "2020-01-31",
          "2020-02-03",
          "2020-02-04",
          "2020-02-05",
          "2020-02-06",
          "2020-02-07",
          "2020-02-10",
          "2020-02-11",
          "2020-02-12",
          "2020-02-13",
          "2020-02-14",
          "2020-02-18",
          "2020-02-19",
          "2020-02-20",
          "2020-02-21",
          "2020-02-24",
          "2020-02-25",
          "2020-02-26",
          "2020-02-27",
          "2020-02-28",
          "2020-03-02",
          "2020-03-03",
          "2020-03-04",
          "2020-03-05",
          "2020-03-06",
          "2020-03-09",
          "2020-03-10",
          "2020-03-11",
          "2020-03-12",
          "2020-03-13",
          "2020-03-16",
          "2020-03-17",
          "2020-03-18",
          "2020-03-19",
          "2020-03-20",
          "2020-03-23",
          "2020-03-24",
          "2020-03-25",
          "2020-03-26",
          "2020-03-27",
          "2020-03-30",
          "2020-03-31",
          "2020-04-01",
          "2020-04-02",
          "2020-04-03",
          "2020-04-06",
          "2020-04-07",
          "2020-04-08",
          "2020-04-09",
          "2020-04-13",
          "2020-04-14",
          "2020-04-15",
          "2020-04-16",
          "2020-04-17",
          "2020-04-20",
          "2020-04-21",
          "2020-04-22",
          "2020-04-23",
          "2020-04-24",
          "2020-04-27",
          "2020-04-28",
          "2020-04-29",
          "2020-04-30",
          "2020-05-01",
          "2020-05-04",
          "2020-05-05",
          "2020-05-06",
          "2020-05-07",
          "2020-05-08",
          "2020-05-11",
          "2020-05-12",
          "2020-05-13",
          "2020-05-14",
          "2020-05-15",
          "2020-05-18",
          "2020-05-19",
          "2020-05-20",
          "2020-05-21",
          "2020-05-22",
          "2020-05-26",
          "2020-05-27",
          "2020-05-28",
          "2020-05-29",
          "2020-06-01",
          "2020-06-02",
          "2020-06-03",
          "2020-06-04",
          "2020-06-05",
          "2020-06-08",
          "2020-06-09",
          "2020-06-10",
          "2020-06-11",
          "2020-06-12",
          "2020-06-15",
          "2020-06-16",
          "2020-06-17",
          "2020-06-18",
          "2020-06-19",
          "2020-06-22",
          "2020-06-23",
          "2020-06-24",
          "2020-06-25",
          "2020-06-26",
          "2020-06-29",
          "2020-06-30",
          "2020-07-01",
          "2020-07-02",
          "2020-07-06",
          "2020-07-07",
          "2020-07-08",
          "2020-07-09",
          "2020-07-10",
          "2020-07-13",
          "2020-07-14",
          "2020-07-15",
          "2020-07-16",
          "2020-07-17",
          "2020-07-20",
          "2020-07-21",
          "2020-07-22",
          "2020-07-23",
          "2020-07-24",
          "2020-07-27",
          "2020-07-28",
          "2020-07-29",
          "2020-07-30",
          "2020-07-31",
          "2020-08-03",
          "2020-08-04",
          "2020-08-05",
          "2020-08-06",
          "2020-08-07",
          "2020-08-10",
          "2020-08-11",
          "2020-08-12",
          "2020-08-13",
          "2020-08-14",
          "2020-08-17",
          "2020-08-18",
          "2020-08-19",
          "2020-08-20",
          "2020-08-21",
          "2020-08-24",
          "2020-08-25",
          "2020-08-26",
          "2020-08-27",
          "2020-08-28",
          "2020-08-31",
          "2020-09-01",
          "2020-09-02",
          "2020-09-03",
          "2020-09-04",
          "2020-09-08",
          "2020-09-09",
          "2020-09-10",
          "2020-09-11",
          "2020-09-14",
          "2020-09-15",
          "2020-09-16",
          "2020-09-17",
          "2020-09-18",
          "2020-09-21",
          "2020-09-22",
          "2020-09-23",
          "2020-09-24",
          "2020-09-25",
          "2020-09-28",
          "2020-09-29",
          "2020-09-30",
          "2020-10-01",
          "2020-10-02",
          "2020-10-05",
          "2020-10-06",
          "2020-10-07",
          "2020-10-08",
          "2020-10-09",
          "2020-10-12",
          "2020-10-13",
          "2020-10-14",
          "2020-10-15",
          "2020-10-16",
          "2020-10-19",
          "2020-10-20",
          "2020-10-21",
          "2020-10-22",
          "2020-10-23",
          "2020-10-26",
          "2020-10-27",
          "2020-10-28",
          "2020-10-29",
          "2020-10-30",
          "2020-11-02",
          "2020-11-03",
          "2020-11-04",
          "2020-11-05",
          "2020-11-06",
          "2020-11-09",
          "2020-11-10",
          "2020-11-11",
          "2020-11-12",
          "2020-11-13",
          "2020-11-16",
          "2020-11-17",
          "2020-11-18",
          "2020-11-19",
          "2020-11-20",
          "2020-11-23",
          "2020-11-24",
          "2020-11-25",
          "2020-11-27",
          "2020-11-30",
          "2020-12-01",
          "2020-12-02",
          "2020-12-03",
          "2020-12-04",
          "2020-12-07",
          "2020-12-08",
          "2020-12-09",
          "2020-12-10",
          "2020-12-11",
          "2020-12-14",
          "2020-12-15",
          "2020-12-16",
          "2020-12-17",
          "2020-12-18",
          "2020-12-21",
          "2020-12-22",
          "2020-12-23",
          "2020-12-24",
          "2020-12-28",
          "2020-12-29",
          "2020-12-30",
          "2020-12-31"
         ]
        }
       ],
       "layout": {
        "autosize": true,
        "template": {
         "data": {
          "bar": [
           {
            "error_x": {
             "color": "#2a3f5f"
            },
            "error_y": {
             "color": "#2a3f5f"
            },
            "marker": {
             "line": {
              "color": "#E5ECF6",
              "width": 0.5
             },
             "pattern": {
              "fillmode": "overlay",
              "size": 10,
              "solidity": 0.2
             }
            },
            "type": "bar"
           }
          ],
          "barpolar": [
           {
            "marker": {
             "line": {
              "color": "#E5ECF6",
              "width": 0.5
             },
             "pattern": {
              "fillmode": "overlay",
              "size": 10,
              "solidity": 0.2
             }
            },
            "type": "barpolar"
           }
          ],
          "carpet": [
           {
            "aaxis": {
             "endlinecolor": "#2a3f5f",
             "gridcolor": "white",
             "linecolor": "white",
             "minorgridcolor": "white",
             "startlinecolor": "#2a3f5f"
            },
            "baxis": {
             "endlinecolor": "#2a3f5f",
             "gridcolor": "white",
             "linecolor": "white",
             "minorgridcolor": "white",
             "startlinecolor": "#2a3f5f"
            },
            "type": "carpet"
           }
          ],
          "choropleth": [
           {
            "colorbar": {
             "outlinewidth": 0,
             "ticks": ""
            },
            "type": "choropleth"
           }
          ],
          "contour": [
           {
            "colorbar": {
             "outlinewidth": 0,
             "ticks": ""
            },
            "colorscale": [
             [
              0,
              "#0d0887"
             ],
             [
              0.1111111111111111,
              "#46039f"
             ],
             [
              0.2222222222222222,
              "#7201a8"
             ],
             [
              0.3333333333333333,
              "#9c179e"
             ],
             [
              0.4444444444444444,
              "#bd3786"
             ],
             [
              0.5555555555555556,
              "#d8576b"
             ],
             [
              0.6666666666666666,
              "#ed7953"
             ],
             [
              0.7777777777777778,
              "#fb9f3a"
             ],
             [
              0.8888888888888888,
              "#fdca26"
             ],
             [
              1,
              "#f0f921"
             ]
            ],
            "type": "contour"
           }
          ],
          "contourcarpet": [
           {
            "colorbar": {
             "outlinewidth": 0,
             "ticks": ""
            },
            "type": "contourcarpet"
           }
          ],
          "heatmap": [
           {
            "colorbar": {
             "outlinewidth": 0,
             "ticks": ""
            },
            "colorscale": [
             [
              0,
              "#0d0887"
             ],
             [
              0.1111111111111111,
              "#46039f"
             ],
             [
              0.2222222222222222,
              "#7201a8"
             ],
             [
              0.3333333333333333,
              "#9c179e"
             ],
             [
              0.4444444444444444,
              "#bd3786"
             ],
             [
              0.5555555555555556,
              "#d8576b"
             ],
             [
              0.6666666666666666,
              "#ed7953"
             ],
             [
              0.7777777777777778,
              "#fb9f3a"
             ],
             [
              0.8888888888888888,
              "#fdca26"
             ],
             [
              1,
              "#f0f921"
             ]
            ],
            "type": "heatmap"
           }
          ],
          "heatmapgl": [
           {
            "colorbar": {
             "outlinewidth": 0,
             "ticks": ""
            },
            "colorscale": [
             [
              0,
              "#0d0887"
             ],
             [
              0.1111111111111111,
              "#46039f"
             ],
             [
              0.2222222222222222,
              "#7201a8"
             ],
             [
              0.3333333333333333,
              "#9c179e"
             ],
             [
              0.4444444444444444,
              "#bd3786"
             ],
             [
              0.5555555555555556,
              "#d8576b"
             ],
             [
              0.6666666666666666,
              "#ed7953"
             ],
             [
              0.7777777777777778,
              "#fb9f3a"
             ],
             [
              0.8888888888888888,
              "#fdca26"
             ],
             [
              1,
              "#f0f921"
             ]
            ],
            "type": "heatmapgl"
           }
          ],
          "histogram": [
           {
            "marker": {
             "pattern": {
              "fillmode": "overlay",
              "size": 10,
              "solidity": 0.2
             }
            },
            "type": "histogram"
           }
          ],
          "histogram2d": [
           {
            "colorbar": {
             "outlinewidth": 0,
             "ticks": ""
            },
            "colorscale": [
             [
              0,
              "#0d0887"
             ],
             [
              0.1111111111111111,
              "#46039f"
             ],
             [
              0.2222222222222222,
              "#7201a8"
             ],
             [
              0.3333333333333333,
              "#9c179e"
             ],
             [
              0.4444444444444444,
              "#bd3786"
             ],
             [
              0.5555555555555556,
              "#d8576b"
             ],
             [
              0.6666666666666666,
              "#ed7953"
             ],
             [
              0.7777777777777778,
              "#fb9f3a"
             ],
             [
              0.8888888888888888,
              "#fdca26"
             ],
             [
              1,
              "#f0f921"
             ]
            ],
            "type": "histogram2d"
           }
          ],
          "histogram2dcontour": [
           {
            "colorbar": {
             "outlinewidth": 0,
             "ticks": ""
            },
            "colorscale": [
             [
              0,
              "#0d0887"
             ],
             [
              0.1111111111111111,
              "#46039f"
             ],
             [
              0.2222222222222222,
              "#7201a8"
             ],
             [
              0.3333333333333333,
              "#9c179e"
             ],
             [
              0.4444444444444444,
              "#bd3786"
             ],
             [
              0.5555555555555556,
              "#d8576b"
             ],
             [
              0.6666666666666666,
              "#ed7953"
             ],
             [
              0.7777777777777778,
              "#fb9f3a"
             ],
             [
              0.8888888888888888,
              "#fdca26"
             ],
             [
              1,
              "#f0f921"
             ]
            ],
            "type": "histogram2dcontour"
           }
          ],
          "mesh3d": [
           {
            "colorbar": {
             "outlinewidth": 0,
             "ticks": ""
            },
            "type": "mesh3d"
           }
          ],
          "parcoords": [
           {
            "line": {
             "colorbar": {
              "outlinewidth": 0,
              "ticks": ""
             }
            },
            "type": "parcoords"
           }
          ],
          "pie": [
           {
            "automargin": true,
            "type": "pie"
           }
          ],
          "scatter": [
           {
            "fillpattern": {
             "fillmode": "overlay",
             "size": 10,
             "solidity": 0.2
            },
            "type": "scatter"
           }
          ],
          "scatter3d": [
           {
            "line": {
             "colorbar": {
              "outlinewidth": 0,
              "ticks": ""
             }
            },
            "marker": {
             "colorbar": {
              "outlinewidth": 0,
              "ticks": ""
             }
            },
            "type": "scatter3d"
           }
          ],
          "scattercarpet": [
           {
            "marker": {
             "colorbar": {
              "outlinewidth": 0,
              "ticks": ""
             }
            },
            "type": "scattercarpet"
           }
          ],
          "scattergeo": [
           {
            "marker": {
             "colorbar": {
              "outlinewidth": 0,
              "ticks": ""
             }
            },
            "type": "scattergeo"
           }
          ],
          "scattergl": [
           {
            "marker": {
             "colorbar": {
              "outlinewidth": 0,
              "ticks": ""
             }
            },
            "type": "scattergl"
           }
          ],
          "scattermapbox": [
           {
            "marker": {
             "colorbar": {
              "outlinewidth": 0,
              "ticks": ""
             }
            },
            "type": "scattermapbox"
           }
          ],
          "scatterpolar": [
           {
            "marker": {
             "colorbar": {
              "outlinewidth": 0,
              "ticks": ""
             }
            },
            "type": "scatterpolar"
           }
          ],
          "scatterpolargl": [
           {
            "marker": {
             "colorbar": {
              "outlinewidth": 0,
              "ticks": ""
             }
            },
            "type": "scatterpolargl"
           }
          ],
          "scatterternary": [
           {
            "marker": {
             "colorbar": {
              "outlinewidth": 0,
              "ticks": ""
             }
            },
            "type": "scatterternary"
           }
          ],
          "surface": [
           {
            "colorbar": {
             "outlinewidth": 0,
             "ticks": ""
            },
            "colorscale": [
             [
              0,
              "#0d0887"
             ],
             [
              0.1111111111111111,
              "#46039f"
             ],
             [
              0.2222222222222222,
              "#7201a8"
             ],
             [
              0.3333333333333333,
              "#9c179e"
             ],
             [
              0.4444444444444444,
              "#bd3786"
             ],
             [
              0.5555555555555556,
              "#d8576b"
             ],
             [
              0.6666666666666666,
              "#ed7953"
             ],
             [
              0.7777777777777778,
              "#fb9f3a"
             ],
             [
              0.8888888888888888,
              "#fdca26"
             ],
             [
              1,
              "#f0f921"
             ]
            ],
            "type": "surface"
           }
          ],
          "table": [
           {
            "cells": {
             "fill": {
              "color": "#EBF0F8"
             },
             "line": {
              "color": "white"
             }
            },
            "header": {
             "fill": {
              "color": "#C8D4E3"
             },
             "line": {
              "color": "white"
             }
            },
            "type": "table"
           }
          ]
         },
         "layout": {
          "annotationdefaults": {
           "arrowcolor": "#2a3f5f",
           "arrowhead": 0,
           "arrowwidth": 1
          },
          "autotypenumbers": "strict",
          "coloraxis": {
           "colorbar": {
            "outlinewidth": 0,
            "ticks": ""
           }
          },
          "colorscale": {
           "diverging": [
            [
             0,
             "#8e0152"
            ],
            [
             0.1,
             "#c51b7d"
            ],
            [
             0.2,
             "#de77ae"
            ],
            [
             0.3,
             "#f1b6da"
            ],
            [
             0.4,
             "#fde0ef"
            ],
            [
             0.5,
             "#f7f7f7"
            ],
            [
             0.6,
             "#e6f5d0"
            ],
            [
             0.7,
             "#b8e186"
            ],
            [
             0.8,
             "#7fbc41"
            ],
            [
             0.9,
             "#4d9221"
            ],
            [
             1,
             "#276419"
            ]
           ],
           "sequential": [
            [
             0,
             "#0d0887"
            ],
            [
             0.1111111111111111,
             "#46039f"
            ],
            [
             0.2222222222222222,
             "#7201a8"
            ],
            [
             0.3333333333333333,
             "#9c179e"
            ],
            [
             0.4444444444444444,
             "#bd3786"
            ],
            [
             0.5555555555555556,
             "#d8576b"
            ],
            [
             0.6666666666666666,
             "#ed7953"
            ],
            [
             0.7777777777777778,
             "#fb9f3a"
            ],
            [
             0.8888888888888888,
             "#fdca26"
            ],
            [
             1,
             "#f0f921"
            ]
           ],
           "sequentialminus": [
            [
             0,
             "#0d0887"
            ],
            [
             0.1111111111111111,
             "#46039f"
            ],
            [
             0.2222222222222222,
             "#7201a8"
            ],
            [
             0.3333333333333333,
             "#9c179e"
            ],
            [
             0.4444444444444444,
             "#bd3786"
            ],
            [
             0.5555555555555556,
             "#d8576b"
            ],
            [
             0.6666666666666666,
             "#ed7953"
            ],
            [
             0.7777777777777778,
             "#fb9f3a"
            ],
            [
             0.8888888888888888,
             "#fdca26"
            ],
            [
             1,
             "#f0f921"
            ]
           ]
          },
          "colorway": [
           "#636efa",
           "#EF553B",
           "#00cc96",
           "#ab63fa",
           "#FFA15A",
           "#19d3f3",
           "#FF6692",
           "#B6E880",
           "#FF97FF",
           "#FECB52"
          ],
          "font": {
           "color": "#2a3f5f"
          },
          "geo": {
           "bgcolor": "white",
           "lakecolor": "white",
           "landcolor": "#E5ECF6",
           "showlakes": true,
           "showland": true,
           "subunitcolor": "white"
          },
          "hoverlabel": {
           "align": "left"
          },
          "hovermode": "closest",
          "mapbox": {
           "style": "light"
          },
          "paper_bgcolor": "white",
          "plot_bgcolor": "#E5ECF6",
          "polar": {
           "angularaxis": {
            "gridcolor": "white",
            "linecolor": "white",
            "ticks": ""
           },
           "bgcolor": "#E5ECF6",
           "radialaxis": {
            "gridcolor": "white",
            "linecolor": "white",
            "ticks": ""
           }
          },
          "scene": {
           "xaxis": {
            "backgroundcolor": "#E5ECF6",
            "gridcolor": "white",
            "gridwidth": 2,
            "linecolor": "white",
            "showbackground": true,
            "ticks": "",
            "zerolinecolor": "white"
           },
           "yaxis": {
            "backgroundcolor": "#E5ECF6",
            "gridcolor": "white",
            "gridwidth": 2,
            "linecolor": "white",
            "showbackground": true,
            "ticks": "",
            "zerolinecolor": "white"
           },
           "zaxis": {
            "backgroundcolor": "#E5ECF6",
            "gridcolor": "white",
            "gridwidth": 2,
            "linecolor": "white",
            "showbackground": true,
            "ticks": "",
            "zerolinecolor": "white"
           }
          },
          "shapedefaults": {
           "line": {
            "color": "#2a3f5f"
           }
          },
          "ternary": {
           "aaxis": {
            "gridcolor": "white",
            "linecolor": "white",
            "ticks": ""
           },
           "baxis": {
            "gridcolor": "white",
            "linecolor": "white",
            "ticks": ""
           },
           "bgcolor": "#E5ECF6",
           "caxis": {
            "gridcolor": "white",
            "linecolor": "white",
            "ticks": ""
           }
          },
          "title": {
           "x": 0.05
          },
          "xaxis": {
           "automargin": true,
           "gridcolor": "white",
           "linecolor": "white",
           "ticks": "",
           "title": {
            "standoff": 15
           },
           "zerolinecolor": "white",
           "zerolinewidth": 2
          },
          "yaxis": {
           "automargin": true,
           "gridcolor": "white",
           "linecolor": "white",
           "ticks": "",
           "title": {
            "standoff": 15
           },
           "zerolinecolor": "white",
           "zerolinewidth": 2
          }
         }
        },
        "xaxis": {
         "autorange": false,
         "range": [
          "2020-12-16 18:36:06.9903",
          "2020-12-31 12:00"
         ],
         "rangeselector": {
          "buttons": [
           {
            "count": 10,
            "label": "10D",
            "step": "day",
            "stepmode": "backward"
           },
           {
            "count": 1,
            "label": "1M",
            "step": "month",
            "stepmode": "backward"
           },
           {
            "count": 6,
            "label": "6M",
            "step": "month",
            "stepmode": "backward"
           },
           {
            "count": 1,
            "label": "1Y",
            "step": "year",
            "stepmode": "backward"
           }
          ]
         },
         "rangeslider": {
          "autorange": true,
          "range": [
           "2020-01-01 12:00",
           "2020-12-31 12:00"
          ],
          "visible": true,
          "yaxis": {
           "_template": null,
           "rangemode": "match"
          }
         },
         "type": "date"
        },
        "yaxis": {
         "autorange": true,
         "range": [
          26.172639422946506,
          165.7698540157742
         ],
         "title": {
          "text": "Stock Price (USD)"
         },
         "type": "linear"
        }
       }
      },
      "image/png": "[encoded data removed]",
      "text/html": [
       "<div>                            <div id=\"0533cba1-0978-43e0-8513-f99939d9a05f\" class=\"plotly-graph-div\" style=\"height:525px; width:100%;\"></div>            <script type=\"text/javascript\">                require([\"plotly\"], function(Plotly) {                    window.PLOTLYENV=window.PLOTLYENV || {};                                    if (document.getElementById(\"0533cba1-0978-43e0-8513-f99939d9a05f\")) {                    Plotly.newPlot(                        \"0533cba1-0978-43e0-8513-f99939d9a05f\",                        [{\"name\":\"Apple Stock\",\"x\":[\"2020-01-02\",\"2020-01-03\",\"2020-01-06\",\"2020-01-07\",\"2020-01-08\",\"2020-01-09\",\"2020-01-10\",\"2020-01-13\",\"2020-01-14\",\"2020-01-15\",\"2020-01-16\",\"2020-01-17\",\"2020-01-21\",\"2020-01-22\",\"2020-01-23\",\"2020-01-24\",\"2020-01-27\",\"2020-01-28\",\"2020-01-29\",\"2020-01-30\",\"2020-01-31\",\"2020-02-03\",\"2020-02-04\",\"2020-02-05\",\"2020-02-06\",\"2020-02-07\",\"2020-02-10\",\"2020-02-11\",\"2020-02-12\",\"2020-02-13\",\"2020-02-14\",\"2020-02-18\",\"2020-02-19\",\"2020-02-20\",\"2020-02-21\",\"2020-02-24\",\"2020-02-25\",\"2020-02-26\",\"2020-02-27\",\"2020-02-28\",\"2020-03-02\",\"2020-03-03\",\"2020-03-04\",\"2020-03-05\",\"2020-03-06\",\"2020-03-09\",\"2020-03-10\",\"2020-03-11\",\"2020-03-12\",\"2020-03-13\",\"2020-03-16\",\"2020-03-17\",\"2020-03-18\",\"2020-03-19\",\"2020-03-20\",\"2020-03-23\",\"2020-03-24\",\"2020-03-25\",\"2020-03-26\",\"2020-03-27\",\"2020-03-30\",\"2020-03-31\",\"2020-04-01\",\"2020-04-02\",\"2020-04-03\",\"2020-04-06\",\"2020-04-07\",\"2020-04-08\",\"2020-04-09\",\"2020-04-13\",\"2020-04-14\",\"2020-04-15\",\"2020-04-16\",\"2020-04-17\",\"2020-04-20\",\"2020-04-21\",\"2020-04-22\",\"2020-04-23\",\"2020-04-24\",\"2020-04-27\",\"2020-04-28\",\"2020-04-29\",\"2020-04-30\",\"2020-05-01\",\"2020-05-04\",\"2020-05-05\",\"2020-05-06\",\"2020-05-07\",\"2020-05-08\",\"2020-05-11\",\"2020-05-12\",\"2020-05-13\",\"2020-05-14\",\"2020-05-15\",\"2020-05-18\",\"2020-05-19\",\"2020-05-20\",\"2020-05-21\",\"2020-05-22\",\"2020-05-26\",\"2020-05-27\",\"2020-05-28\",\"2020-05-29\",\"2020-06-01\",\"2020-06-02\",\"2020-06-03\",\"2020-06-04\",\"2020-06-05\",\"2020-06-08\",\"2020-06-09\",\"2020-06-10\",\"2020-06-11\",\"2020-06-12\",\"2020-06-15\",\"2020-06-16\",\"2020-06-17\",\"2020-06-18\",\"2020-06-19\",\"2020-06-22\",\"2020-06-23\",\"2020-06-24\",\"2020-06-25\",\"2020-06-26\",\"2020-06-29\",\"2020-06-30\",\"2020-07-01\",\"2020-07-02\",\"2020-07-06\",\"2020-07-07\",\"2020-07-08\",\"2020-07-09\",\"2020-07-10\",\"2020-07-13\",\"2020-07-14\",\"2020-07-15\",\"2020-07-16\",\"2020-07-17\",\"2020-07-20\",\"2020-07-21\",\"2020-07-22\",\"2020-07-23\",\"2020-07-24\",\"2020-07-27\",\"2020-07-28\",\"2020-07-29\",\"2020-07-30\",\"2020-07-31\",\"2020-08-03\",\"2020-08-04\",\"2020-08-05\",\"2020-08-06\",\"2020-08-07\",\"2020-08-10\",\"2020-08-11\",\"2020-08-12\",\"2020-08-13\",\"2020-08-14\",\"2020-08-17\",\"2020-08-18\",\"2020-08-19\",\"2020-08-20\",\"2020-08-21\",\"2020-08-24\",\"2020-08-25\",\"2020-08-26\",\"2020-08-27\",\"2020-08-28\",\"2020-08-31\",\"2020-09-01\",\"2020-09-02\",\"2020-09-03\",\"2020-09-04\",\"2020-09-08\",\"2020-09-09\",\"2020-09-10\",\"2020-09-11\",\"2020-09-14\",\"2020-09-15\",\"2020-09-16\",\"2020-09-17\",\"2020-09-18\",\"2020-09-21\",\"2020-09-22\",\"2020-09-23\",\"2020-09-24\",\"2020-09-25\",\"2020-09-28\",\"2020-09-29\",\"2020-09-30\",\"2020-10-01\",\"2020-10-02\",\"2020-10-05\",\"2020-10-06\",\"2020-10-07\",\"2020-10-08\",\"2020-10-09\",\"2020-10-12\",\"2020-10-13\",\"2020-10-14\",\"2020-10-15\",\"2020-10-16\",\"2020-10-19\",\"2020-10-20\",\"2020-10-21\",\"2020-10-22\",\"2020-10-23\",\"2020-10-26\",\"2020-10-27\",\"2020-10-28\",\"2020-10-29\",\"2020-10-30\",\"2020-11-02\",\"2020-11-03\",\"2020-11-04\",\"2020-11-05\",\"2020-11-06\",\"2020-11-09\",\"2020-11-10\",\"2020-11-11\",\"2020-11-12\",\"2020-11-13\",\"2020-11-16\",\"2020-11-17\",\"2020-11-18\",\"2020-11-19\",\"2020-11-20\",\"2020-11-23\",\"2020-11-24\",\"2020-11-25\",\"2020-11-27\",\"2020-11-30\",\"2020-12-01\",\"2020-12-02\",\"2020-12-03\",\"2020-12-04\",\"2020-12-07\",\"2020-12-08\",\"2020-12-09\",\"2020-12-10\",\"2020-12-11\",\"2020-12-14\",\"2020-12-15\",\"2020-12-16\",\"2020-12-17\",\"2020-12-18\",\"2020-12-21\",\"2020-12-22\",\"2020-12-23\",\"2020-12-24\",\"2020-12-28\",\"2020-12-29\",\"2020-12-30\",\"2020-12-31\"],\"y\":[74.09644317626953,73.37608337402344,73.96076965332031,73.61293029785156,74.79708099365234,76.38583374023438,76.55851745605469,78.19414520263672,77.13825988769531,76.80770111083984,77.76982116699219,78.63081359863281,78.09793853759766,78.37671661376953,78.75415802001953,78.5271987915039,76.21807861328125,78.37423706054688,80.01480102539062,79.89884948730469,76.3562240600586,76.14654541015625,78.66041564941406,79.30182647705078,80.22943115234375,79.13890075683594,79.5147705078125,79.03502655029297,80.91194152832031,80.33575439453125,80.35554504394531,78.88419342041016,80.02664947509766,79.20565795898438,77.41283416748047,73.7356948852539,71.23809814453125,72.36820983886719,67.63762664794922,67.59806060791016,73.89148712158203,71.54473876953125,74.86331176757812,72.43497467041016,71.47303771972656,65.82007598876953,70.560546875,68.10993957519531,61.383766174316406,68.73804473876953,59.89510726928711,62.5286979675293,60.99800109863281,60.53063201904297,56.68781661987305,55.48352813720703,61.0499382019043,60.713623046875,63.90856170654297,61.26259994506836,63.01090621948242,62.882320404052734,59.573638916015625,60.56772613525391,59.6972770690918,64.90511322021484,64.15337371826172,65.79534912109375,66.27012634277344,67.57086181640625,70.98339080810547,70.33551025390625,70.8943862915039,69.93244171142578,68.48087310791016,66.3641128540039,68.27562713623047,68.01103210449219,69.97447204589844,70.02394104003906,68.88890075683594,71.15155792236328,72.65258026123047,71.4829330444336,72.49432373046875,73.58238220214844,74.34153747558594,75.11060333251953,76.89836120605469,78.10838317871094,77.21574401855469,76.2834243774414,76.7520751953125,76.29830932617188,78.09599304199219,77.64471435546875,79.1547622680664,78.56462097167969,79.0704574584961,78.53487396240234,78.87703704833984,78.91175079345703,78.83489990234375,79.80439758300781,80.17384338378906,80.6152114868164,79.92094421386719,82.19717407226562,82.68315124511719,85.29412841796875,87.48853302001953,83.28816986083984,84.00723266601562,85.04617309570312,87.30008697509766,87.1785888671875,87.21330261230469,86.71490478515625,88.98370361328125,90.8830337524414,89.27877044677734,90.46399688720705,87.68441772460938,89.70525360107422,90.4540786743164,90.2829818725586,90.2829818725586,92.69807434082033,92.41043853759766,94.56269073486328,94.96934509277344,95.1354751586914,94.69659423828124,96.263671875,96.92570495605467,95.73303985595705,95.53963470458984,97.55303192138672,96.2066421508789,96.4769058227539,92.08562469482422,91.85750579833984,94.03453826904295,92.48978424072266,94.26265716552734,95.40326690673828,105.39090728759766,108.0465087890625,108.76805877685548,109.16229248046876,112.97089385986328,110.40242004394533,112.00709533691406,108.67601013183594,112.28778839111328,114.2750015258789,114.17316436767578,113.87506866455078,114.823974609375,114.96804809570312,117.5191421508789,123.57518768310548,125.0531768798828,124.02728271484376,125.71392822265624,124.21109771728516,124.00989532470705,128.21534729003906,133.32249450683594,130.5602569580078,120.10748291015624,120.18698120117188,112.0989990234375,116.57023620605467,112.76471710205078,111.28424072265624,114.62276458740234,114.80162048339844,111.41340637207033,109.63484954833984,106.15721130371094,109.3765106201172,111.09544372558594,106.43543243408205,107.52840423583984,111.56243896484376,114.22531127929688,113.36087799072266,115.06989288330078,116.04362487792967,112.29772186279295,115.75547790527344,112.43682861328124,114.34455871582033,114.23526000976562,116.22247314453124,123.60499572753906,120.3260726928711,120.41551208496094,119.93856811523438,118.25936889648438,115.23880004882812,116.759033203125,116.12312316894533,115.01026916503906,114.30481719970705,114.31475067138672,115.85484313964844,110.48934936523438,114.58302307128906,108.164306640625,108.07488250732422,109.73420715332033,114.21538543701172,118.2693099975586,118.13495635986328,115.77603149414062,115.42766571044922,118.9311981201172,118.65251159667967,118.70227813720705,119.73741912841795,118.83167266845705,117.47803497314452,118.0851821899414,116.791259765625,113.3175811767578,114.63140869140624,115.48738861083984,116.04476165771484,118.4932632446289,122.14610290527344,122.5044174194336,122.36507415771484,121.67830657958984,123.1712875366211,123.79833984375,121.2104949951172,122.66366577148438,121.83755493164062,121.2104949951172,127.2819595336914,127.21229553222656,128.09812927246094,126.06768035888672,127.6303253173828,131.2632598876953,130.34756469726562,131.3528289794922,136.05076599121094,134.23927307128906,133.0946502685547,132.06947326660156],\"type\":\"scatter\"},{\"close\":[74.09644317626953,73.37608337402344,73.96076965332031,73.61293029785156,74.79708099365234,76.38583374023438,76.55851745605469,78.19414520263672,77.13825988769531,76.80770111083984,77.76982116699219,78.63081359863281,78.09793853759766,78.37671661376953,78.75415802001953,78.5271987915039,76.21807861328125,78.37423706054688,80.01480102539062,79.89884948730469,76.3562240600586,76.14654541015625,78.66041564941406,79.30182647705078,80.22943115234375,79.13890075683594,79.5147705078125,79.03502655029297,80.91194152832031,80.33575439453125,80.35554504394531,78.88419342041016,80.02664947509766,79.20565795898438,77.41283416748047,73.7356948852539,71.23809814453125,72.36820983886719,67.63762664794922,67.59806060791016,73.89148712158203,71.54473876953125,74.86331176757812,72.43497467041016,71.47303771972656,65.82007598876953,70.560546875,68.10993957519531,61.383766174316406,68.73804473876953,59.89510726928711,62.5286979675293,60.99800109863281,60.53063201904297,56.68781661987305,55.48352813720703,61.0499382019043,60.713623046875,63.90856170654297,61.26259994506836,63.01090621948242,62.882320404052734,59.573638916015625,60.56772613525391,59.6972770690918,64.90511322021484,64.15337371826172,65.79534912109375,66.27012634277344,67.57086181640625,70.98339080810547,70.33551025390625,70.8943862915039,69.93244171142578,68.48087310791016,66.3641128540039,68.27562713623047,68.01103210449219,69.97447204589844,70.02394104003906,68.88890075683594,71.15155792236328,72.65258026123047,71.4829330444336,72.49432373046875,73.58238220214844,74.34153747558594,75.11060333251953,76.89836120605469,78.10838317871094,77.21574401855469,76.2834243774414,76.7520751953125,76.29830932617188,78.09599304199219,77.64471435546875,79.1547622680664,78.56462097167969,79.0704574584961,78.53487396240234,78.87703704833984,78.91175079345703,78.83489990234375,79.80439758300781,80.17384338378906,80.6152114868164,79.92094421386719,82.19717407226562,82.68315124511719,85.29412841796875,87.48853302001953,83.28816986083984,84.00723266601562,85.04617309570312,87.30008697509766,87.1785888671875,87.21330261230469,86.71490478515625,88.98370361328125,90.8830337524414,89.27877044677734,90.46399688720705,87.68441772460938,89.70525360107422,90.4540786743164,90.2829818725586,90.2829818725586,92.69807434082033,92.41043853759766,94.56269073486328,94.96934509277344,95.1354751586914,94.69659423828124,96.263671875,96.92570495605467,95.73303985595705,95.53963470458984,97.55303192138672,96.2066421508789,96.4769058227539,92.08562469482422,91.85750579833984,94.03453826904295,92.48978424072266,94.26265716552734,95.40326690673828,105.39090728759766,108.0465087890625,108.76805877685548,109.16229248046876,112.97089385986328,110.40242004394533,112.00709533691406,108.67601013183594,112.28778839111328,114.2750015258789,114.17316436767578,113.87506866455078,114.823974609375,114.96804809570312,117.5191421508789,123.57518768310548,125.0531768798828,124.02728271484376,125.71392822265624,124.21109771728516,124.00989532470705,128.21534729003906,133.32249450683594,130.5602569580078,120.10748291015624,120.18698120117188,112.0989990234375,116.57023620605467,112.76471710205078,111.28424072265624,114.62276458740234,114.80162048339844,111.41340637207033,109.63484954833984,106.15721130371094,109.3765106201172,111.09544372558594,106.43543243408205,107.52840423583984,111.56243896484376,114.22531127929688,113.36087799072266,115.06989288330078,116.04362487792967,112.29772186279295,115.75547790527344,112.43682861328124,114.34455871582033,114.23526000976562,116.22247314453124,123.60499572753906,120.3260726928711,120.41551208496094,119.93856811523438,118.25936889648438,115.23880004882812,116.759033203125,116.12312316894533,115.01026916503906,114.30481719970705,114.31475067138672,115.85484313964844,110.48934936523438,114.58302307128906,108.164306640625,108.07488250732422,109.73420715332033,114.21538543701172,118.2693099975586,118.13495635986328,115.77603149414062,115.42766571044922,118.9311981201172,118.65251159667967,118.70227813720705,119.73741912841795,118.83167266845705,117.47803497314452,118.0851821899414,116.791259765625,113.3175811767578,114.63140869140624,115.48738861083984,116.04476165771484,118.4932632446289,122.14610290527344,122.5044174194336,122.36507415771484,121.67830657958984,123.1712875366211,123.79833984375,121.2104949951172,122.66366577148438,121.83755493164062,121.2104949951172,127.2819595336914,127.21229553222656,128.09812927246094,126.06768035888672,127.6303253173828,131.2632598876953,130.34756469726562,131.3528289794922,136.05076599121094,134.23927307128906,133.0946502685547,132.06947326660156],\"high\":[95.1500015258789,95.1449966430664,94.98999786376953,95.2249984741211,96.11000061035156,97.60749816894531,98.1675033569336,99.26750183105469,99.39250183105469,98.875,98.92500305175781,99.68499755859375,99.75499725341797,99.99749755859375,99.88999938964844,100.8324966430664,97.94249725341797,99.5999984741211,101.9625015258789,101.02249908447266,100.66999816894531,98.37249755859375,99.91000366210938,101.19000244140625,101.30500030517578,100.8499984741211,100.38749694824219,100.9749984741211,101.80500030517578,101.55500030517578,101.49500274658203,99.9375,101.14250183105469,101.1624984741211,100.11250305175781,96.04499816894531,95.63249969482422,94.47000122070312,91.5,89.60250091552734,95.36000061035156,96.0,95.8499984741211,94.88749694824219,92.70500183105469,89.52249908447266,91.61000061035156,90.30500030517578,87.5,89.9800033569336,84.7699966430664,84.40249633789062,82.5,83.20999908447266,82.95750045776367,77.125,81.92250061035156,84.5625,84.66999816894531,83.96749877929688,83.88000106811523,85.62249755859375,82.18000030517578,81.2874984741211,81.42499923706055,85.77749633789062,87.92500305175781,86.84249877929688,87.51750183105469,88.42500305175781,92.0625,91.5824966430664,92.05000305175781,91.73750305175781,90.41999816894531,89.3125,89.4749984741211,90.4375,90.75250244140625,91.13500213623047,91.4574966430664,92.4175033569336,93.63249969482422,94.75,93.42250061035156,95.25,95.80999755859375,96.2925033569336,97.5875015258789,99.26249694824219,99.92250061035156,98.98750305175781,97.44750213623047,96.9749984741211,99.125,99.62999725341797,99.87999725341797,100.22250366210938,99.80750274658203,101.05999755859375,99.67749786376953,100.86000061035156,100.2874984741211,100.5875015258789,100.86000061035156,101.55000305175781,101.40499877929688,102.9375,103.4000015258789,106.40249633789062,108.69249725341797,107.76499938964844,106.94999694824219,106.41999816894531,108.30000305175781,108.8499984741211,108.36250305175781,109.13999938964844,109.86499786376953,113.09500122070312,112.19750213623048,111.25,111.33000183105467,110.5425033569336,111.49500274658205,111.83999633789062,112.61750030517578,113.94499969482422,114.65499877929688,115.375,116.31749725341795,115.9800033569336,119.95500183105467,117.25499725341795,119.24749755859376,117.40499877929688,117.14749908447266,118.5,119.25,117.9749984741211,117.07749938964844,112.97000122070312,114.90499877929688,114.5500030517578,115.2300033569336,116.29750061035156,126.41500091552734,131.6374969482422,130.79000091552734,130.3925018310547,134.4124984741211,133.6750030517578,133.7750015258789,132.4824981689453,133.2750015258789,136.0425033569336,135.0,136.0875015258789,136.0,137.1624984741211,138.3925018310547,144.86750030517578,148.78500366210938,145.18000030517578,146.99250030517578,147.48500061035156,146.44249725341797,151.0,154.8000030517578,157.97999572753906,148.83999633789062,143.6999969482422,138.98999786376953,139.13999938964844,140.5,135.2300033569336,135.93000030517578,138.8300018310547,136.0,132.1999969482422,130.87999725341797,130.19000244140625,132.86000061035156,132.11000061035156,130.25,132.44000244140625,135.31999969482422,135.30999755859375,137.26000213623047,137.72000122070312,135.37000274658203,136.6500015258789,136.12000274658203,135.5500030517578,136.4000015258789,137.0,145.18000030517578,145.38999938964844,143.02999877929688,141.1999969482422,141.5500030517578,140.4199981689453,138.9800033569336,138.70999908447266,138.04000091552734,136.5500030517578,136.5500030517578,137.27999877929688,135.43000030517578,136.93000030517578,131.98999786376953,130.68000030517578,131.48999786376953,135.58999633789062,139.62000274658203,139.1999969482422,141.98999786376953,137.58999633789062,139.62999725341797,140.52999877929688,139.6699981689453,140.98999786376953,140.6699981689453,139.81999969482422,139.05999755859375,138.7699966430664,137.62000274658203,135.8499984741211,136.75,137.48999786376953,140.97000122070312,143.47000122070312,143.37000274658203,143.77999877929688,142.86000061035156,144.56999969482422,144.9800033569336,145.9499969482422,143.87000274658203,142.76000213623047,143.3499984741211,147.9000015258789,148.3699951171875,149.5800018310547,149.10000610351562,148.30999755859375,154.41000366210938,152.42999267578125,153.4600067138672,157.33999633789062,158.7899932861328,155.99000549316406,154.74000549316406],\"low\":[53.79750061035156,54.125,53.1875,54.37000274658203,54.290000915527344,56.55000305175781,57.0625,57.787498474121094,58.042503356933594,57.38749694824219,58.022499084472656,58.75,59.0,59.32749938964844,58.912498474121094,59.37999725341797,56.220001220703125,58.04750061035156,60.345001220703125,59.6875,57.07250213623047,55.55500030517578,58.407501220703125,59.73750305175781,60.06500244140625,59.5,58.462501525878906,59.67749786376953,60.36750030517578,60.837501525878906,60.712501525878906,58.652496337890625,60.0,59.55249786376953,57.625,52.30750274658203,51.532501220703125,51.625,48.23999786376953,44.092498779296875,49.43000030517578,51.44999694824219,53.282501220703125,52.852500915527344,50.30750274658203,45.75,47.342498779296875,47.964996337890625,42.0,43.23749923706055,40.0,39.59999847412109,39.27999877929688,40.65250015258789,37.0,33.15250015258789,38.57500076293945,41.07500076293945,41.59000015258789,41.76250076293945,42.34999847412109,43.0,39.782501220703125,39.22499847412109,39.74250030517578,42.345001220703125,44.75,45.30750274658203,46.17500305175781,46.457496643066406,49.51249694824219,50.157501220703125,50.587501525878906,49.214996337890625,49.212501525878906,46.35749816894531,48.05000305175781,48.717498779296875,49.25,49.98750305175781,49.55000305175781,50.972503662109375,52.087501525878906,51.462501525878906,51.58000183105469,53.61499786376953,54.717498779296875,55.49250030517578,56.07250213623047,56.80999755859375,57.727500915527344,55.80249786376953,55.38249969482422,55.05249786376953,57.58000183105469,58.25250244140625,59.12999725341797,58.967498779296875,58.837501525878906,59.125,58.272499084472656,58.907501220703125,59.11750030517578,59.30249786376953,59.73249816894531,60.57499694824219,60.19499969482422,60.80750274658203,61.83000183105469,63.00250244140625,66.52249908447266,63.87000274658203,63.55500030517578,63.144996643066406,66.18000030517578,67.77249908447266,67.30500030517578,66.2874984741211,67.7874984741211,70.56749725341795,69.62999725341797,69.39250183105469,68.25499725341797,67.81999969482422,70.0,70.97750091552734,70.91000366210938,72.46749877929688,73.05750274658205,74.08999633789062,74.67250061035156,74.70500183105467,75.25749969482422,73.87750244140624,76.48999786376952,75.90499877929688,75.83999633789062,76.0625,76.74250030517578,76.60250091552734,72.01000213623048,69.1449966430664,73.4800033569336,73.24749755859376,73.7125015258789,73.76750183105467,80.8249969482422,87.89250183105467,88.3874969482422,88.89749908447266,89.79750061035156,90.2925033569336,90.0,89.10749816894533,90.29750061035156,93.92749786376952,93.04499816894533,93.9625015258789,94.00749969482422,95.61000061035156,95.73249816894533,99.25,103.9375,103.05249786376952,105.0824966430664,103.8324966430664,104.57749938964844,106.0,110.52999877929688,107.0,100.5,90.88999938964844,92.68000030517578,95.26000213623048,92.5,90.0,92.8000030517578,93.61000061035156,92.04000091552734,88.70999908447266,86.08999633789062,83.0999984741211,89.16000366210938,86.7699966430664,85.0,87.66999816894533,92.77999877929688,93.56999969482422,93.62000274658205,95.83000183105467,92.22000122070312,93.5500030517578,92.25,94.12999725341795,94.58999633789062,94.91999816894533,99.27999877929688,99.6500015258789,99.62000274658205,98.1500015258789,98.80999755859376,95.66000366210938,95.62999725341795,96.4499969482422,94.58999633789062,94.27999877929688,92.87999725341795,94.54000091552734,91.0999984741211,92.1999969482422,87.72000122070312,87.31999969482422,88.7300033569336,92.3499984741211,96.87000274658205,96.12999725341795,96.0500030517578,94.12999725341795,96.44000244140624,98.56999969482422,97.87000274658205,98.1500015258789,98.95999908447266,98.0,96.80999755859376,97.29000091552734,93.75,92.58999633789062,95.16999816894533,96.22000122070312,96.80999755859376,100.01000213623048,100.88999938964844,102.20999908447266,101.5199966430664,102.25,103.08999633789062,101.0,100.1500015258789,100.5500030517578,101.54000091552734,104.12999725341795,106.55999755859376,108.03999328613281,106.12000274658205,103.4499969482422,109.64999389648438,110.77999877929688,111.10000610351562,113.50999450683594,114.33999633789062,113.39999389648438,111.72000122070312],\"open\":[74.05999755859375,74.2874984741211,73.44750213623047,74.95999908447266,74.29000091552734,76.80999755859375,77.6500015258789,77.91000366210938,79.17500305175781,77.9625015258789,78.39749908447266,79.06749725341797,79.29750061035156,79.6449966430664,79.4800033569336,80.0625,77.51499938964844,78.1500015258789,81.11250305175781,80.13500213623047,80.23249816894531,76.07499694824219,78.82749938964844,80.87999725341797,80.64250183105469,80.59249877929688,78.54499816894531,80.9000015258789,80.36750030517578,81.04750061035156,81.18499755859375,78.83999633789062,80.0,80.65750122070312,79.65499877929688,74.31500244140625,75.23750305175781,71.63249969482422,70.2750015258789,64.31500244140625,70.56999969482422,75.9175033569336,74.11000061035156,73.87999725341797,70.5,65.9375,69.28500366210938,69.34750366210938,63.98500061035156,66.22250366210938,60.48749923706055,61.87749862670898,59.942501068115234,61.84749984741211,61.79499816894531,57.02000045776367,59.09000015258789,62.6875,61.630001068115234,63.1875,62.685001373291016,63.900001525878906,61.625,60.084999084472656,60.70000076293945,62.72499847412109,67.69999694824219,65.68499755859375,67.17500305175781,67.07749938964844,70.0,70.5999984741211,71.84500122070312,71.17250061035156,69.48750305175781,69.06999969482422,68.40249633789062,68.96749877929688,69.30000305175781,70.44999694824219,71.2699966430664,71.18250274658203,72.48999786376953,71.5625,72.2925033569336,73.76499938964844,75.11499786376953,75.80500030517578,76.41000366210938,77.0250015258789,79.4574966430664,78.0374984741211,76.12750244140625,75.0875015258789,78.2925033569336,78.75749969482422,79.16999816894531,79.66500091552734,78.94249725341797,80.875,79.03500366210938,79.19249725341797,79.8125,79.4375,80.1875,81.16500091552734,81.09750366210938,80.8375015258789,82.5625,83.03500366210938,86.9749984741211,87.32749938964844,86.18000030517578,83.3125,87.86499786376953,88.7874984741211,87.85250091552734,88.66000366210938,87.83499908447266,91.0,91.25,90.1750030517578,91.10250091552734,88.3125,90.0199966430664,91.27999877929688,91.9625015258789,92.5,93.85250091552734,94.18000030517578,96.2624969482422,95.33499908447266,97.26499938964844,94.83999633789062,98.98999786376952,96.5625,96.9875030517578,96.4175033569336,99.17250061035156,96.69249725341795,96.99749755859376,90.9875030517578,93.70999908447266,94.36750030517578,93.75,94.1875,102.88500213623048,108.1999969482422,109.13249969482422,109.37750244140624,110.40499877929688,113.20500183105467,112.5999984741211,111.97000122070312,110.49749755859376,114.43000030517578,114.83000183105467,116.0625,114.35250091552734,115.98249816894533,115.75,119.2624969482422,128.69749450683594,124.69750213623048,126.18000030517578,127.14250183105467,126.0124969482422,127.58000183105467,132.75999450683594,137.58999633789062,126.91000366210938,120.06999969482422,113.9499969482422,117.26000213623048,120.36000061035156,114.56999969482422,114.72000122070312,118.33000183105467,115.2300033569336,109.72000122070312,110.4000015258789,104.54000091552734,112.68000030517578,111.62000274658205,105.16999816894533,108.43000030517578,115.01000213623048,114.5500030517578,113.79000091552734,117.63999938964844,112.88999938964844,113.91000366210938,115.6999969482422,114.62000274658205,116.25,115.27999877929688,120.05999755859376,125.2699966430664,121.0,118.72000122070312,121.27999877929688,119.95999908447266,116.1999969482422,116.66999816894533,117.4499969482422,116.38999938964844,114.01000213623048,115.48999786376952,115.0500030517578,112.37000274658205,111.05999755859376,109.11000061035156,109.66000366210938,114.13999938964844,117.9499969482422,118.31999969482422,120.5,115.5500030517578,117.19000244140624,119.62000274658205,119.44000244140624,118.91999816894533,119.5500030517578,118.61000061035156,117.58999633789062,118.63999938964844,117.18000030517578,113.91000366210938,115.5500030517578,116.56999969482422,116.97000122070312,121.01000213623048,122.0199966430664,123.5199966430664,122.5999984741211,122.30999755859376,124.37000274658205,124.52999877929688,120.5,122.43000030517578,122.5999984741211,124.33999633789062,127.41000366210938,128.89999389648438,128.9600067138672,125.0199966430664,131.61000061035156,132.16000366210938,131.32000732421875,133.99000549316406,138.0500030517578,135.5800018310547,134.0800018310547],\"x\":[\"2020-01-02\",\"2020-01-03\",\"2020-01-06\",\"2020-01-07\",\"2020-01-08\",\"2020-01-09\",\"2020-01-10\",\"2020-01-13\",\"2020-01-14\",\"2020-01-15\",\"2020-01-16\",\"2020-01-17\",\"2020-01-21\",\"2020-01-22\",\"2020-01-23\",\"2020-01-24\",\"2020-01-27\",\"2020-01-28\",\"2020-01-29\",\"2020-01-30\",\"2020-01-31\",\"2020-02-03\",\"2020-02-04\",\"2020-02-05\",\"2020-02-06\",\"2020-02-07\",\"2020-02-10\",\"2020-02-11\",\"2020-02-12\",\"2020-02-13\",\"2020-02-14\",\"2020-02-18\",\"2020-02-19\",\"2020-02-20\",\"2020-02-21\",\"2020-02-24\",\"2020-02-25\",\"2020-02-26\",\"2020-02-27\",\"2020-02-28\",\"2020-03-02\",\"2020-03-03\",\"2020-03-04\",\"2020-03-05\",\"2020-03-06\",\"2020-03-09\",\"2020-03-10\",\"2020-03-11\",\"2020-03-12\",\"2020-03-13\",\"2020-03-16\",\"2020-03-17\",\"2020-03-18\",\"2020-03-19\",\"2020-03-20\",\"2020-03-23\",\"2020-03-24\",\"2020-03-25\",\"2020-03-26\",\"2020-03-27\",\"2020-03-30\",\"2020-03-31\",\"2020-04-01\",\"2020-04-02\",\"2020-04-03\",\"2020-04-06\",\"2020-04-07\",\"2020-04-08\",\"2020-04-09\",\"2020-04-13\",\"2020-04-14\",\"2020-04-15\",\"2020-04-16\",\"2020-04-17\",\"2020-04-20\",\"2020-04-21\",\"2020-04-22\",\"2020-04-23\",\"2020-04-24\",\"2020-04-27\",\"2020-04-28\",\"2020-04-29\",\"2020-04-30\",\"2020-05-01\",\"2020-05-04\",\"2020-05-05\",\"2020-05-06\",\"2020-05-07\",\"2020-05-08\",\"2020-05-11\",\"2020-05-12\",\"2020-05-13\",\"2020-05-14\",\"2020-05-15\",\"2020-05-18\",\"2020-05-19\",\"2020-05-20\",\"2020-05-21\",\"2020-05-22\",\"2020-05-26\",\"2020-05-27\",\"2020-05-28\",\"2020-05-29\",\"2020-06-01\",\"2020-06-02\",\"2020-06-03\",\"2020-06-04\",\"2020-06-05\",\"2020-06-08\",\"2020-06-09\",\"2020-06-10\",\"2020-06-11\",\"2020-06-12\",\"2020-06-15\",\"2020-06-16\",\"2020-06-17\",\"2020-06-18\",\"2020-06-19\",\"2020-06-22\",\"2020-06-23\",\"2020-06-24\",\"2020-06-25\",\"2020-06-26\",\"2020-06-29\",\"2020-06-30\",\"2020-07-01\",\"2020-07-02\",\"2020-07-06\",\"2020-07-07\",\"2020-07-08\",\"2020-07-09\",\"2020-07-10\",\"2020-07-13\",\"2020-07-14\",\"2020-07-15\",\"2020-07-16\",\"2020-07-17\",\"2020-07-20\",\"2020-07-21\",\"2020-07-22\",\"2020-07-23\",\"2020-07-24\",\"2020-07-27\",\"2020-07-28\",\"2020-07-29\",\"2020-07-30\",\"2020-07-31\",\"2020-08-03\",\"2020-08-04\",\"2020-08-05\",\"2020-08-06\",\"2020-08-07\",\"2020-08-10\",\"2020-08-11\",\"2020-08-12\",\"2020-08-13\",\"2020-08-14\",\"2020-08-17\",\"2020-08-18\",\"2020-08-19\",\"2020-08-20\",\"2020-08-21\",\"2020-08-24\",\"2020-08-25\",\"2020-08-26\",\"2020-08-27\",\"2020-08-28\",\"2020-08-31\",\"2020-09-01\",\"2020-09-02\",\"2020-09-03\",\"2020-09-04\",\"2020-09-08\",\"2020-09-09\",\"2020-09-10\",\"2020-09-11\",\"2020-09-14\",\"2020-09-15\",\"2020-09-16\",\"2020-09-17\",\"2020-09-18\",\"2020-09-21\",\"2020-09-22\",\"2020-09-23\",\"2020-09-24\",\"2020-09-25\",\"2020-09-28\",\"2020-09-29\",\"2020-09-30\",\"2020-10-01\",\"2020-10-02\",\"2020-10-05\",\"2020-10-06\",\"2020-10-07\",\"2020-10-08\",\"2020-10-09\",\"2020-10-12\",\"2020-10-13\",\"2020-10-14\",\"2020-10-15\",\"2020-10-16\",\"2020-10-19\",\"2020-10-20\",\"2020-10-21\",\"2020-10-22\",\"2020-10-23\",\"2020-10-26\",\"2020-10-27\",\"2020-10-28\",\"2020-10-29\",\"2020-10-30\",\"2020-11-02\",\"2020-11-03\",\"2020-11-04\",\"2020-11-05\",\"2020-11-06\",\"2020-11-09\",\"2020-11-10\",\"2020-11-11\",\"2020-11-12\",\"2020-11-13\",\"2020-11-16\",\"2020-11-17\",\"2020-11-18\",\"2020-11-19\",\"2020-11-20\",\"2020-11-23\",\"2020-11-24\",\"2020-11-25\",\"2020-11-27\",\"2020-11-30\",\"2020-12-01\",\"2020-12-02\",\"2020-12-03\",\"2020-12-04\",\"2020-12-07\",\"2020-12-08\",\"2020-12-09\",\"2020-12-10\",\"2020-12-11\",\"2020-12-14\",\"2020-12-15\",\"2020-12-16\",\"2020-12-17\",\"2020-12-18\",\"2020-12-21\",\"2020-12-22\",\"2020-12-23\",\"2020-12-24\",\"2020-12-28\",\"2020-12-29\",\"2020-12-30\",\"2020-12-31\"],\"type\":\"candlestick\"}],                        {\"template\":{\"data\":{\"histogram2dcontour\":[{\"type\":\"histogram2dcontour\",\"colorbar\":{\"outlinewidth\":0,\"ticks\":\"\"},\"colorscale\":[[0.0,\"#0d0887\"],[0.1111111111111111,\"#46039f\"],[0.2222222222222222,\"#7201a8\"],[0.3333333333333333,\"#9c179e\"],[0.4444444444444444,\"#bd3786\"],[0.5555555555555556,\"#d8576b\"],[0.6666666666666666,\"#ed7953\"],[0.7777777777777778,\"#fb9f3a\"],[0.8888888888888888,\"#fdca26\"],[1.0,\"#f0f921\"]]}],\"choropleth\":[{\"type\":\"choropleth\",\"colorbar\":{\"outlinewidth\":0,\"ticks\":\"\"}}],\"histogram2d\":[{\"type\":\"histogram2d\",\"colorbar\":{\"outlinewidth\":0,\"ticks\":\"\"},\"colorscale\":[[0.0,\"#0d0887\"],[0.1111111111111111,\"#46039f\"],[0.2222222222222222,\"#7201a8\"],[0.3333333333333333,\"#9c179e\"],[0.4444444444444444,\"#bd3786\"],[0.5555555555555556,\"#d8576b\"],[0.6666666666666666,\"#ed7953\"],[0.7777777777777778,\"#fb9f3a\"],[0.8888888888888888,\"#fdca26\"],[1.0,\"#f0f921\"]]}],\"heatmap\":[{\"type\":\"heatmap\",\"colorbar\":{\"outlinewidth\":0,\"ticks\":\"\"},\"colorscale\":[[0.0,\"#0d0887\"],[0.1111111111111111,\"#46039f\"],[0.2222222222222222,\"#7201a8\"],[0.3333333333333333,\"#9c179e\"],[0.4444444444444444,\"#bd3786\"],[0.5555555555555556,\"#d8576b\"],[0.6666666666666666,\"#ed7953\"],[0.7777777777777778,\"#fb9f3a\"],[0.8888888888888888,\"#fdca26\"],[1.0,\"#f0f921\"]]}],\"heatmapgl\":[{\"type\":\"heatmapgl\",\"colorbar\":{\"outlinewidth\":0,\"ticks\":\"\"},\"colorscale\":[[0.0,\"#0d0887\"],[0.1111111111111111,\"#46039f\"],[0.2222222222222222,\"#7201a8\"],[0.3333333333333333,\"#9c179e\"],[0.4444444444444444,\"#bd3786\"],[0.5555555555555556,\"#d8576b\"],[0.6666666666666666,\"#ed7953\"],[0.7777777777777778,\"#fb9f3a\"],[0.8888888888888888,\"#fdca26\"],[1.0,\"#f0f921\"]]}],\"contourcarpet\":[{\"type\":\"contourcarpet\",\"colorbar\":{\"outlinewidth\":0,\"ticks\":\"\"}}],\"contour\":[{\"type\":\"contour\",\"colorbar\":{\"outlinewidth\":0,\"ticks\":\"\"},\"colorscale\":[[0.0,\"#0d0887\"],[0.1111111111111111,\"#46039f\"],[0.2222222222222222,\"#7201a8\"],[0.3333333333333333,\"#9c179e\"],[0.4444444444444444,\"#bd3786\"],[0.5555555555555556,\"#d8576b\"],[0.6666666666666666,\"#ed7953\"],[0.7777777777777778,\"#fb9f3a\"],[0.8888888888888888,\"#fdca26\"],[1.0,\"#f0f921\"]]}],\"surface\":[{\"type\":\"surface\",\"colorbar\":{\"outlinewidth\":0,\"ticks\":\"\"},\"colorscale\":[[0.0,\"#0d0887\"],[0.1111111111111111,\"#46039f\"],[0.2222222222222222,\"#7201a8\"],[0.3333333333333333,\"#9c179e\"],[0.4444444444444444,\"#bd3786\"],[0.5555555555555556,\"#d8576b\"],[0.6666666666666666,\"#ed7953\"],[0.7777777777777778,\"#fb9f3a\"],[0.8888888888888888,\"#fdca26\"],[1.0,\"#f0f921\"]]}],\"mesh3d\":[{\"type\":\"mesh3d\",\"colorbar\":{\"outlinewidth\":0,\"ticks\":\"\"}}],\"scatter\":[{\"fillpattern\":{\"fillmode\":\"overlay\",\"size\":10,\"solidity\":0.2},\"type\":\"scatter\"}],\"parcoords\":[{\"type\":\"parcoords\",\"line\":{\"colorbar\":{\"outlinewidth\":0,\"ticks\":\"\"}}}],\"scatterpolargl\":[{\"type\":\"scatterpolargl\",\"marker\":{\"colorbar\":{\"outlinewidth\":0,\"ticks\":\"\"}}}],\"bar\":[{\"error_x\":{\"color\":\"#2a3f5f\"},\"error_y\":{\"color\":\"#2a3f5f\"},\"marker\":{\"line\":{\"color\":\"#E5ECF6\",\"width\":0.5},\"pattern\":{\"fillmode\":\"overlay\",\"size\":10,\"solidity\":0.2}},\"type\":\"bar\"}],\"scattergeo\":[{\"type\":\"scattergeo\",\"marker\":{\"colorbar\":{\"outlinewidth\":0,\"ticks\":\"\"}}}],\"scatterpolar\":[{\"type\":\"scatterpolar\",\"marker\":{\"colorbar\":{\"outlinewidth\":0,\"ticks\":\"\"}}}],\"histogram\":[{\"marker\":{\"pattern\":{\"fillmode\":\"overlay\",\"size\":10,\"solidity\":0.2}},\"type\":\"histogram\"}],\"scattergl\":[{\"type\":\"scattergl\",\"marker\":{\"colorbar\":{\"outlinewidth\":0,\"ticks\":\"\"}}}],\"scatter3d\":[{\"type\":\"scatter3d\",\"line\":{\"colorbar\":{\"outlinewidth\":0,\"ticks\":\"\"}},\"marker\":{\"colorbar\":{\"outlinewidth\":0,\"ticks\":\"\"}}}],\"scattermapbox\":[{\"type\":\"scattermapbox\",\"marker\":{\"colorbar\":{\"outlinewidth\":0,\"ticks\":\"\"}}}],\"scatterternary\":[{\"type\":\"scatterternary\",\"marker\":{\"colorbar\":{\"outlinewidth\":0,\"ticks\":\"\"}}}],\"scattercarpet\":[{\"type\":\"scattercarpet\",\"marker\":{\"colorbar\":{\"outlinewidth\":0,\"ticks\":\"\"}}}],\"carpet\":[{\"aaxis\":{\"endlinecolor\":\"#2a3f5f\",\"gridcolor\":\"white\",\"linecolor\":\"white\",\"minorgridcolor\":\"white\",\"startlinecolor\":\"#2a3f5f\"},\"baxis\":{\"endlinecolor\":\"#2a3f5f\",\"gridcolor\":\"white\",\"linecolor\":\"white\",\"minorgridcolor\":\"white\",\"startlinecolor\":\"#2a3f5f\"},\"type\":\"carpet\"}],\"table\":[{\"cells\":{\"fill\":{\"color\":\"#EBF0F8\"},\"line\":{\"color\":\"white\"}},\"header\":{\"fill\":{\"color\":\"#C8D4E3\"},\"line\":{\"color\":\"white\"}},\"type\":\"table\"}],\"barpolar\":[{\"marker\":{\"line\":{\"color\":\"#E5ECF6\",\"width\":0.5},\"pattern\":{\"fillmode\":\"overlay\",\"size\":10,\"solidity\":0.2}},\"type\":\"barpolar\"}],\"pie\":[{\"automargin\":true,\"type\":\"pie\"}]},\"layout\":{\"autotypenumbers\":\"strict\",\"colorway\":[\"#636efa\",\"#EF553B\",\"#00cc96\",\"#ab63fa\",\"#FFA15A\",\"#19d3f3\",\"#FF6692\",\"#B6E880\",\"#FF97FF\",\"#FECB52\"],\"font\":{\"color\":\"#2a3f5f\"},\"hovermode\":\"closest\",\"hoverlabel\":{\"align\":\"left\"},\"paper_bgcolor\":\"white\",\"plot_bgcolor\":\"#E5ECF6\",\"polar\":{\"bgcolor\":\"#E5ECF6\",\"angularaxis\":{\"gridcolor\":\"white\",\"linecolor\":\"white\",\"ticks\":\"\"},\"radialaxis\":{\"gridcolor\":\"white\",\"linecolor\":\"white\",\"ticks\":\"\"}},\"ternary\":{\"bgcolor\":\"#E5ECF6\",\"aaxis\":{\"gridcolor\":\"white\",\"linecolor\":\"white\",\"ticks\":\"\"},\"baxis\":{\"gridcolor\":\"white\",\"linecolor\":\"white\",\"ticks\":\"\"},\"caxis\":{\"gridcolor\":\"white\",\"linecolor\":\"white\",\"ticks\":\"\"}},\"coloraxis\":{\"colorbar\":{\"outlinewidth\":0,\"ticks\":\"\"}},\"colorscale\":{\"sequential\":[[0.0,\"#0d0887\"],[0.1111111111111111,\"#46039f\"],[0.2222222222222222,\"#7201a8\"],[0.3333333333333333,\"#9c179e\"],[0.4444444444444444,\"#bd3786\"],[0.5555555555555556,\"#d8576b\"],[0.6666666666666666,\"#ed7953\"],[0.7777777777777778,\"#fb9f3a\"],[0.8888888888888888,\"#fdca26\"],[1.0,\"#f0f921\"]],\"sequentialminus\":[[0.0,\"#0d0887\"],[0.1111111111111111,\"#46039f\"],[0.2222222222222222,\"#7201a8\"],[0.3333333333333333,\"#9c179e\"],[0.4444444444444444,\"#bd3786\"],[0.5555555555555556,\"#d8576b\"],[0.6666666666666666,\"#ed7953\"],[0.7777777777777778,\"#fb9f3a\"],[0.8888888888888888,\"#fdca26\"],[1.0,\"#f0f921\"]],\"diverging\":[[0,\"#8e0152\"],[0.1,\"#c51b7d\"],[0.2,\"#de77ae\"],[0.3,\"#f1b6da\"],[0.4,\"#fde0ef\"],[0.5,\"#f7f7f7\"],[0.6,\"#e6f5d0\"],[0.7,\"#b8e186\"],[0.8,\"#7fbc41\"],[0.9,\"#4d9221\"],[1,\"#276419\"]]},\"xaxis\":{\"gridcolor\":\"white\",\"linecolor\":\"white\",\"ticks\":\"\",\"title\":{\"standoff\":15},\"zerolinecolor\":\"white\",\"automargin\":true,\"zerolinewidth\":2},\"yaxis\":{\"gridcolor\":\"white\",\"linecolor\":\"white\",\"ticks\":\"\",\"title\":{\"standoff\":15},\"zerolinecolor\":\"white\",\"automargin\":true,\"zerolinewidth\":2},\"scene\":{\"xaxis\":{\"backgroundcolor\":\"#E5ECF6\",\"gridcolor\":\"white\",\"linecolor\":\"white\",\"showbackground\":true,\"ticks\":\"\",\"zerolinecolor\":\"white\",\"gridwidth\":2},\"yaxis\":{\"backgroundcolor\":\"#E5ECF6\",\"gridcolor\":\"white\",\"linecolor\":\"white\",\"showbackground\":true,\"ticks\":\"\",\"zerolinecolor\":\"white\",\"gridwidth\":2},\"zaxis\":{\"backgroundcolor\":\"#E5ECF6\",\"gridcolor\":\"white\",\"linecolor\":\"white\",\"showbackground\":true,\"ticks\":\"\",\"zerolinecolor\":\"white\",\"gridwidth\":2}},\"shapedefaults\":{\"line\":{\"color\":\"#2a3f5f\"}},\"annotationdefaults\":{\"arrowcolor\":\"#2a3f5f\",\"arrowhead\":0,\"arrowwidth\":1},\"geo\":{\"bgcolor\":\"white\",\"landcolor\":\"#E5ECF6\",\"subunitcolor\":\"white\",\"showland\":true,\"showlakes\":true,\"lakecolor\":\"white\"},\"title\":{\"x\":0.05},\"mapbox\":{\"style\":\"light\"}}},\"xaxis\":{\"rangeslider\":{\"visible\":true},\"rangeselector\":{\"buttons\":[{\"count\":10,\"label\":\"10D\",\"step\":\"day\",\"stepmode\":\"backward\"},{\"count\":1,\"label\":\"1M\",\"step\":\"month\",\"stepmode\":\"backward\"},{\"count\":6,\"label\":\"6M\",\"step\":\"month\",\"stepmode\":\"backward\"},{\"count\":1,\"label\":\"1Y\",\"step\":\"year\",\"stepmode\":\"backward\"}]},\"type\":\"date\"},\"yaxis\":{\"title\":{\"text\":\"Stock Price (USD)\"}}},                        {\"responsive\": true}                    ).then(function(){\n",
       "                            \n",
       "var gd = document.getElementById('0533cba1-0978-43e0-8513-f99939d9a05f');\n",
       "var x = new MutationObserver(function (mutations, observer) {{\n",
       "        var display = window.getComputedStyle(gd).display;\n",
       "        if (!display || display === 'none') {{\n",
       "            console.log([gd, 'removed!']);\n",
       "            Plotly.purge(gd);\n",
       "            observer.disconnect();\n",
       "        }}\n",
       "}});\n",
       "\n",
       "// Listen for the removal of the full notebook cells\n",
       "var notebookContainer = gd.closest('#notebook-container');\n",
       "if (notebookContainer) {{\n",
       "    x.observe(notebookContainer, {childList: true});\n",
       "}}\n",
       "\n",
       "// Listen for the clearing of the current output cell\n",
       "var outputEl = gd.closest('.output');\n",
       "if (outputEl) {{\n",
       "    x.observe(outputEl, {childList: true});\n",
       "}}\n",
       "\n",
       "                        })                };                });            </script>        </div>"
      ]
     },
     "metadata": {},
     "output_type": "display_data"
    }
   ],
   "source": [
    "apple_df = pd.read_csv(PATH+'AAPL.csv')\n",
    "x = apple_df['Date']\n",
    "y = apple_df['Adj Close']\n",
    "fig = go.Figure()\n",
    "fig.add_trace(go.Scatter(x=x,y=y,name='Apple Stock'))\n",
    "# fig.update_xaxes(rangeslider_visible=True, title='Zoom on dates using Slider')\n",
    "fig.update_layout(xaxis = dict( rangeselector = dict(buttons = list([\n",
    "                                            dict(\n",
    "                                            count = 10,\n",
    "                                            label='10D',\n",
    "                                            step = 'day',\n",
    "                                            stepmode = 'backward'),\n",
    "                                            dict(\n",
    "                                            count = 1,\n",
    "                                            label='1M',\n",
    "                                            step = 'month',\n",
    "                                            stepmode = 'backward'),\n",
    "                                            dict(\n",
    "                                            count = 6,\n",
    "                                            label='6M',\n",
    "                                            step = 'month',\n",
    "                                            stepmode = 'backward'),\n",
    "                                            dict(\n",
    "                                            count = 1,\n",
    "                                            label='1Y',\n",
    "                                            step = 'year',\n",
    "                                            stepmode = 'backward'),\n",
    "                                            \n",
    "                            ])\n",
    "                    ),\n",
    "                rangeslider = dict(visible = True),\n",
    "                type = 'date'\n",
    "                 )\n",
    "            )\n",
    "fig.update_yaxes(title='Stock Price (USD)')\n",
    "high = apple_df['High'] + 20\n",
    "low = apple_df['Low'] - 20\n",
    "openp = apple_df['Open'] + \n",
    "close = apple_df['Adj Close']\n",
    "fig.add_trace(go.Candlestick(x=x,high=high,low=low,open=openp,close=close))\n"
   ]
  },
  {
   "cell_type": "code",
   "execution_count": null,
   "id": "1541478e-5a76-45f5-bd46-0b0745bb7f8c",
   "metadata": {},
   "outputs": [],
   "source": []
  }
 ],
 "metadata": {
  "kernelspec": {
   "display_name": "env1",
   "language": "python",
   "name": "env1"
  },
  "language_info": {
   "codemirror_mode": {
    "name": "ipython",
    "version": 3
   },
   "file_extension": ".py",
   "mimetype": "text/x-python",
   "name": "python",
   "nbconvert_exporter": "python",
   "pygments_lexer": "ipython3",
   "version": "3.10.7"
  }
 },
 "nbformat": 4,
 "nbformat_minor": 5
}
